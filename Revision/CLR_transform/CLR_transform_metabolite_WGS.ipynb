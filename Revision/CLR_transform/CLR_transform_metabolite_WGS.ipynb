{
 "cells": [
  {
   "cell_type": "markdown",
   "metadata": {},
   "source": [
    "# CLR_Transformation "
   ]
  },
  {
   "cell_type": "markdown",
   "metadata": {},
   "source": [
    "## Metabolite and WGS data from timepoints 2 and 5 are CLR transformed for downstream analysis."
   ]
  },
  {
   "cell_type": "markdown",
   "metadata": {},
   "source": [
    "### skbio package is used to perform CLR transform.  Original data includes header row with rows as sample and columns as features. Sample ID is first column and treatment condition is second column."
   ]
  },
  {
   "cell_type": "code",
   "execution_count": 1,
   "metadata": {},
   "outputs": [],
   "source": [
    "import pandas as pd\n",
    "from skbio.stats.composition import clr\n",
    "from skbio.stats.composition import multiplicative_replacement"
   ]
  },
  {
   "cell_type": "markdown",
   "metadata": {},
   "source": [
    "# T2 CLR WGS"
   ]
  },
  {
   "cell_type": "code",
   "execution_count": 5,
   "metadata": {},
   "outputs": [],
   "source": [
    "T2=pd.read_csv(\"T2_WGS.csv\")\n",
    "sampleTreat=T2[['Sample', 'Treat']].copy()\n",
    "T2=T2.drop(['Sample', 'Treat'], axis=1)\n",
    "T2features=[]\n",
    "for col in T2.columns: \n",
    "    T2features.append(col)\n",
    "newT2=clr(multiplicative_replacement(T2))\n",
    "newT2DF = pd.DataFrame(data=newT2, columns=T2features)\n",
    "newT2DF.insert(loc=0, column='Treat', value=sampleTreat['Treat'])\n",
    "newT2DF.insert(loc=0, column='Sample', value=sampleTreat['Sample'])\n",
    "newT2DF.to_csv('T2_WGS_clr.csv', index=False)"
   ]
  },
  {
   "cell_type": "markdown",
   "metadata": {},
   "source": [
    "# T5_CLR WGS"
   ]
  },
  {
   "cell_type": "code",
   "execution_count": 6,
   "metadata": {},
   "outputs": [],
   "source": [
    "T5=pd.read_csv(\"T5_WGS.csv\")\n",
    "sampleTreat=T5[['Sample', 'Treat']].copy()\n",
    "T5=T5.drop(['Sample', 'Treat'], axis=1)\n",
    "T5features=[]\n",
    "for col in T5.columns: \n",
    "    T5features.append(col)\n",
    "newT5=clr(multiplicative_replacement(T5))\n",
    "newT5DF = pd.DataFrame(data=newT5, columns=T5features)\n",
    "newT5DF.insert(loc=0, column='Treat', value=sampleTreat['Treat'])\n",
    "newT5DF.insert(loc=0, column='Sample', value=sampleTreat['Sample'])\n",
    "newT5DF.to_csv('T5_WSG_clr.csv', index=False)"
   ]
  },
  {
   "cell_type": "markdown",
   "metadata": {},
   "source": [
    "# T2_metabolite"
   ]
  },
  {
   "cell_type": "code",
   "execution_count": 2,
   "metadata": {},
   "outputs": [],
   "source": [
    "T2=pd.read_csv(\"T2_meta.csv\")\n",
    "sampleTreat=T2[['Sample', 'Treat']].copy()\n",
    "T2=T2.drop(['Sample', 'Treat'], axis=1)\n",
    "T2features=[]\n",
    "for col in T2.columns: \n",
    "    T2features.append(col)\n",
    "newT2=clr(multiplicative_replacement(T2))\n",
    "newT2DF = pd.DataFrame(data=newT2, columns=T2features)\n",
    "newT2DF.insert(loc=0, column='Treat', value=sampleTreat['Treat'])\n",
    "newT2DF.insert(loc=0, column='Sample', value=sampleTreat['Sample'])\n",
    "newT2DF.to_csv('T2_meta_clr.csv', index=False)"
   ]
  },
  {
   "cell_type": "markdown",
   "metadata": {},
   "source": [
    "# T5_metabolite"
   ]
  },
  {
   "cell_type": "code",
   "execution_count": 3,
   "metadata": {},
   "outputs": [],
   "source": [
    "T2=pd.read_csv(\"T5_meta.csv\")\n",
    "sampleTreat=T2[['Sample', 'Treat']].copy()\n",
    "T2=T2.drop(['Sample', 'Treat'], axis=1)\n",
    "T2features=[]\n",
    "for col in T2.columns: \n",
    "    T2features.append(col)\n",
    "newT2=clr(multiplicative_replacement(T2))\n",
    "newT2DF = pd.DataFrame(data=newT2, columns=T2features)\n",
    "newT2DF.insert(loc=0, column='Treat', value=sampleTreat['Treat'])\n",
    "newT2DF.insert(loc=0, column='Sample', value=sampleTreat['Sample'])\n",
    "newT2DF.to_csv('T5_meta_clr.csv', index=False)"
   ]
  }
 ],
 "metadata": {
  "kernelspec": {
   "display_name": "Python 3",
   "language": "python",
   "name": "python3"
  },
  "language_info": {
   "codemirror_mode": {
    "name": "ipython",
    "version": 3
   },
   "file_extension": ".py",
   "mimetype": "text/x-python",
   "name": "python",
   "nbconvert_exporter": "python",
   "pygments_lexer": "ipython3",
   "version": "3.7.2"
  }
 },
 "nbformat": 4,
 "nbformat_minor": 4
}
