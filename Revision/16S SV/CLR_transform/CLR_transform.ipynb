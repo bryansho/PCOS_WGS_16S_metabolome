{
 "cells": [
  {
   "cell_type": "code",
   "execution_count": 1,
   "metadata": {},
   "outputs": [],
   "source": [
    "import pandas as pd\n",
    "from skbio.stats.composition import clr\n",
    "from skbio.stats.composition import multiplicative_replacement"
   ]
  },
  {
   "cell_type": "markdown",
   "metadata": {},
   "source": [
    "# T2 CLR"
   ]
  },
  {
   "cell_type": "code",
   "execution_count": 5,
   "metadata": {},
   "outputs": [],
   "source": [
    "T2=pd.read_csv(\"t2.tsv\",sep='\\t')\n",
    "sampleTreat=T2[['OTUID', 'Category']].copy()\n",
    "T2=T2.drop(['OTUID', 'Category'], axis=1)\n",
    "T2features=[]\n",
    "for col in T2.columns: \n",
    "    T2features.append(col)\n",
    "newT2=clr(multiplicative_replacement(T2))\n",
    "newT2DF = pd.DataFrame(data=newT2, columns=T2features)\n",
    "newT2DF.insert(loc=0, column='Category', value=sampleTreat['Category'])\n",
    "newT2DF.insert(loc=0, column='OTUID', value=sampleTreat['OTUID'])\n",
    "newT2DF.to_csv('T2_16s_clr.csv', index=False)"
   ]
  },
  {
   "cell_type": "markdown",
   "metadata": {},
   "source": [
    "# T5_CLR"
   ]
  },
  {
   "cell_type": "code",
   "execution_count": 6,
   "metadata": {},
   "outputs": [],
   "source": [
    "T2=pd.read_csv(\"t5.tsv\",sep='\\t')\n",
    "sampleTreat=T2[['OTUID', 'Category']].copy()\n",
    "T2=T2.drop(['OTUID', 'Category'], axis=1)\n",
    "T2features=[]\n",
    "for col in T2.columns: \n",
    "    T2features.append(col)\n",
    "newT2=clr(multiplicative_replacement(T2))\n",
    "newT2DF = pd.DataFrame(data=newT2, columns=T2features)\n",
    "newT2DF.insert(loc=0, column='Category', value=sampleTreat['Category'])\n",
    "newT2DF.insert(loc=0, column='OTUID', value=sampleTreat['OTUID'])\n",
    "newT2DF.to_csv('T5_16s_clr.csv', index=False)"
   ]
  },
  {
   "cell_type": "code",
   "execution_count": null,
   "metadata": {},
   "outputs": [],
   "source": []
  }
 ],
 "metadata": {
  "kernelspec": {
   "display_name": "Python 3",
   "language": "python",
   "name": "python3"
  },
  "language_info": {
   "codemirror_mode": {
    "name": "ipython",
    "version": 3
   },
   "file_extension": ".py",
   "mimetype": "text/x-python",
   "name": "python",
   "nbconvert_exporter": "python",
   "pygments_lexer": "ipython3",
   "version": "3.7.5"
  }
 },
 "nbformat": 4,
 "nbformat_minor": 4
}
