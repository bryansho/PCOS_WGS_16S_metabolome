{
 "cells": [
  {
   "cell_type": "code",
   "execution_count": 31,
   "metadata": {
    "scrolled": false
   },
   "outputs": [
    {
     "name": "stdout",
     "output_type": "stream",
     "text": [
      "[1] \"Number of Samples in our Biom Table\"\n"
     ]
    },
    {
     "data": {
      "text/html": [
       "207"
      ],
      "text/latex": [
       "207"
      ],
      "text/markdown": [
       "207"
      ],
      "text/plain": [
       "[1] 207"
      ]
     },
     "metadata": {},
     "output_type": "display_data"
    },
    {
     "name": "stdout",
     "output_type": "stream",
     "text": [
      "[1] \"Number of Sequence variants we have.\"\n"
     ]
    },
    {
     "data": {
      "text/html": [
       "2602"
      ],
      "text/latex": [
       "2602"
      ],
      "text/markdown": [
       "2602"
      ],
      "text/plain": [
       "[1] 2602"
      ]
     },
     "metadata": {},
     "output_type": "display_data"
    },
    {
     "name": "stdout",
     "output_type": "stream",
     "text": [
      "[1] \"Sequencing depth.\"\n"
     ]
    },
    {
     "data": {
      "text/plain": [
       "    Min.  1st Qu.   Median     Mean  3rd Qu.     Max. \n",
       " 4532877  7949730  9897549 11268334 13440524 30800723 "
      ]
     },
     "metadata": {},
     "output_type": "display_data"
    },
    {
     "data": {
      "text/html": [
       "<dl class=dl-horizontal>\n",
       "\t<dt>595.T1_RE8_01_33117</dt>\n",
       "\t\t<dd>4532877</dd>\n",
       "\t<dt>576.T5_BF11_01_33368</dt>\n",
       "\t\t<dd>4536638</dd>\n",
       "\t<dt>585.T3_BB3_01_33182</dt>\n",
       "\t\t<dd>4585675</dd>\n",
       "\t<dt>583.T5_BG5_01_33375</dt>\n",
       "\t\t<dd>4740326</dd>\n",
       "\t<dt>585.T0_RB3_01_33073</dt>\n",
       "\t\t<dd>4995143</dd>\n",
       "\t<dt>588.T5_BG9_01_33379</dt>\n",
       "\t\t<dd>5002816</dd>\n",
       "\t<dt>577.T5_BF12_01_33369</dt>\n",
       "\t\t<dd>5182670</dd>\n",
       "\t<dt>583.CT5_BB3_01_33413</dt>\n",
       "\t\t<dd>5231305</dd>\n",
       "\t<dt>584.T0_RB2_01_33072</dt>\n",
       "\t\t<dd>5484288</dd>\n",
       "\t<dt>585.T1_RD11_01_33107</dt>\n",
       "\t\t<dd>5670427</dd>\n",
       "\t<dt>596.T4_BE9_01_33353</dt>\n",
       "\t\t<dd>5745523</dd>\n",
       "\t<dt>573.CT5_BA7_01_33404</dt>\n",
       "\t\t<dd>6009823</dd>\n",
       "\t<dt>582.T2_RG4_01_33142</dt>\n",
       "\t\t<dd>6038130</dd>\n",
       "\t<dt>582.T3_BA12_01_33178</dt>\n",
       "\t\t<dd>6194230</dd>\n",
       "\t<dt>582.T5_BG4_01_33374</dt>\n",
       "\t\t<dd>6373841</dd>\n",
       "\t<dt>583.T3_BB1_01_33180</dt>\n",
       "\t\t<dd>6492383</dd>\n",
       "\t<dt>578.T4_BD5_01_33210</dt>\n",
       "\t\t<dd>6493480</dd>\n",
       "\t<dt>577.T4_BD4_01_33209</dt>\n",
       "\t\t<dd>6552949</dd>\n",
       "\t<dt>581.T2_RG3_01_33141</dt>\n",
       "\t\t<dd>6561712</dd>\n",
       "\t<dt>575.T5_BF10_01_33367</dt>\n",
       "\t\t<dd>6721939</dd>\n",
       "\t<dt>584.T2_RG6_01_33144</dt>\n",
       "\t\t<dd>6771429</dd>\n",
       "\t<dt>584.T1_RD10_01_33106</dt>\n",
       "\t\t<dd>6778044</dd>\n",
       "\t<dt>576.T2_RF11_01_33136</dt>\n",
       "\t\t<dd>6827855</dd>\n",
       "\t<dt>573.T4_BC12_01_33204</dt>\n",
       "\t\t<dd>6830087</dd>\n",
       "\t<dt>585.CT5_BB5_01_33415</dt>\n",
       "\t\t<dd>6877359</dd>\n",
       "</dl>\n"
      ],
      "text/latex": [
       "\\begin{description*}\n",
       "\\item[595.T1\\textbackslash{}\\_RE8\\textbackslash{}\\_01\\textbackslash{}\\_33117] 4532877\n",
       "\\item[576.T5\\textbackslash{}\\_BF11\\textbackslash{}\\_01\\textbackslash{}\\_33368] 4536638\n",
       "\\item[585.T3\\textbackslash{}\\_BB3\\textbackslash{}\\_01\\textbackslash{}\\_33182] 4585675\n",
       "\\item[583.T5\\textbackslash{}\\_BG5\\textbackslash{}\\_01\\textbackslash{}\\_33375] 4740326\n",
       "\\item[585.T0\\textbackslash{}\\_RB3\\textbackslash{}\\_01\\textbackslash{}\\_33073] 4995143\n",
       "\\item[588.T5\\textbackslash{}\\_BG9\\textbackslash{}\\_01\\textbackslash{}\\_33379] 5002816\n",
       "\\item[577.T5\\textbackslash{}\\_BF12\\textbackslash{}\\_01\\textbackslash{}\\_33369] 5182670\n",
       "\\item[583.CT5\\textbackslash{}\\_BB3\\textbackslash{}\\_01\\textbackslash{}\\_33413] 5231305\n",
       "\\item[584.T0\\textbackslash{}\\_RB2\\textbackslash{}\\_01\\textbackslash{}\\_33072] 5484288\n",
       "\\item[585.T1\\textbackslash{}\\_RD11\\textbackslash{}\\_01\\textbackslash{}\\_33107] 5670427\n",
       "\\item[596.T4\\textbackslash{}\\_BE9\\textbackslash{}\\_01\\textbackslash{}\\_33353] 5745523\n",
       "\\item[573.CT5\\textbackslash{}\\_BA7\\textbackslash{}\\_01\\textbackslash{}\\_33404] 6009823\n",
       "\\item[582.T2\\textbackslash{}\\_RG4\\textbackslash{}\\_01\\textbackslash{}\\_33142] 6038130\n",
       "\\item[582.T3\\textbackslash{}\\_BA12\\textbackslash{}\\_01\\textbackslash{}\\_33178] 6194230\n",
       "\\item[582.T5\\textbackslash{}\\_BG4\\textbackslash{}\\_01\\textbackslash{}\\_33374] 6373841\n",
       "\\item[583.T3\\textbackslash{}\\_BB1\\textbackslash{}\\_01\\textbackslash{}\\_33180] 6492383\n",
       "\\item[578.T4\\textbackslash{}\\_BD5\\textbackslash{}\\_01\\textbackslash{}\\_33210] 6493480\n",
       "\\item[577.T4\\textbackslash{}\\_BD4\\textbackslash{}\\_01\\textbackslash{}\\_33209] 6552949\n",
       "\\item[581.T2\\textbackslash{}\\_RG3\\textbackslash{}\\_01\\textbackslash{}\\_33141] 6561712\n",
       "\\item[575.T5\\textbackslash{}\\_BF10\\textbackslash{}\\_01\\textbackslash{}\\_33367] 6721939\n",
       "\\item[584.T2\\textbackslash{}\\_RG6\\textbackslash{}\\_01\\textbackslash{}\\_33144] 6771429\n",
       "\\item[584.T1\\textbackslash{}\\_RD10\\textbackslash{}\\_01\\textbackslash{}\\_33106] 6778044\n",
       "\\item[576.T2\\textbackslash{}\\_RF11\\textbackslash{}\\_01\\textbackslash{}\\_33136] 6827855\n",
       "\\item[573.T4\\textbackslash{}\\_BC12\\textbackslash{}\\_01\\textbackslash{}\\_33204] 6830087\n",
       "\\item[585.CT5\\textbackslash{}\\_BB5\\textbackslash{}\\_01\\textbackslash{}\\_33415] 6877359\n",
       "\\end{description*}\n"
      ],
      "text/markdown": [
       "595.T1_RE8_01_33117\n",
       ":   4532877576.T5_BF11_01_33368\n",
       ":   4536638585.T3_BB3_01_33182\n",
       ":   4585675583.T5_BG5_01_33375\n",
       ":   4740326585.T0_RB3_01_33073\n",
       ":   4995143588.T5_BG9_01_33379\n",
       ":   5002816577.T5_BF12_01_33369\n",
       ":   5182670583.CT5_BB3_01_33413\n",
       ":   5231305584.T0_RB2_01_33072\n",
       ":   5484288585.T1_RD11_01_33107\n",
       ":   5670427596.T4_BE9_01_33353\n",
       ":   5745523573.CT5_BA7_01_33404\n",
       ":   6009823582.T2_RG4_01_33142\n",
       ":   6038130582.T3_BA12_01_33178\n",
       ":   6194230582.T5_BG4_01_33374\n",
       ":   6373841583.T3_BB1_01_33180\n",
       ":   6492383578.T4_BD5_01_33210\n",
       ":   6493480577.T4_BD4_01_33209\n",
       ":   6552949581.T2_RG3_01_33141\n",
       ":   6561712575.T5_BF10_01_33367\n",
       ":   6721939584.T2_RG6_01_33144\n",
       ":   6771429584.T1_RD10_01_33106\n",
       ":   6778044576.T2_RF11_01_33136\n",
       ":   6827855573.T4_BC12_01_33204\n",
       ":   6830087585.CT5_BB5_01_33415\n",
       ":   6877359\n",
       "\n"
      ],
      "text/plain": [
       " 595.T1_RE8_01_33117 576.T5_BF11_01_33368  585.T3_BB3_01_33182 \n",
       "             4532877              4536638              4585675 \n",
       " 583.T5_BG5_01_33375  585.T0_RB3_01_33073  588.T5_BG9_01_33379 \n",
       "             4740326              4995143              5002816 \n",
       "577.T5_BF12_01_33369 583.CT5_BB3_01_33413  584.T0_RB2_01_33072 \n",
       "             5182670              5231305              5484288 \n",
       "585.T1_RD11_01_33107  596.T4_BE9_01_33353 573.CT5_BA7_01_33404 \n",
       "             5670427              5745523              6009823 \n",
       " 582.T2_RG4_01_33142 582.T3_BA12_01_33178  582.T5_BG4_01_33374 \n",
       "             6038130              6194230              6373841 \n",
       " 583.T3_BB1_01_33180  578.T4_BD5_01_33210  577.T4_BD4_01_33209 \n",
       "             6492383              6493480              6552949 \n",
       " 581.T2_RG3_01_33141 575.T5_BF10_01_33367  584.T2_RG6_01_33144 \n",
       "             6561712              6721939              6771429 \n",
       "584.T1_RD10_01_33106 576.T2_RF11_01_33136 573.T4_BC12_01_33204 \n",
       "             6778044              6827855              6830087 \n",
       "585.CT5_BB5_01_33415 \n",
       "             6877359 "
      ]
     },
     "metadata": {},
     "output_type": "display_data"
    },
    {
     "data": {
      "image/png": "[encoded data removed]",
      "text/plain": [
       "Plot with title “Histogram of depths”"
      ]
     },
     "metadata": {},
     "output_type": "display_data"
    }
   ],
   "source": [
    "library(phyloseq)\n",
    "library(ggplot2)\n",
    "library(dplyr)\n",
    "#Make sure the data has the sample names on rows if not just transform the data with t()\n",
    "abund_table<-read.csv(\"Unknown_Cutoff.csv\",row.names=1,check.names=FALSE)\n",
    "meta_table<-read.csv(\"Mapping_file_w_og.csv\",row.names=1,check.names=FALSE)\n",
    "#Transpose the data to have sample names on rows\n",
    "abund_table<-t(abund_table)\n",
    "meta_table<-data.frame(meta_table)\n",
    "#Now load the taxonomy (this is fake)\n",
    "OTU_taxonomy<-read.csv(\"taxonomy.csv\",row.names=1,check.names=FALSE)\n",
    "#Convert to phyloseq\n",
    "library(phyloseq)\n",
    "#Convert the data to phyloseq format\n",
    "OTU = otu_table(as.matrix(abund_table), taxa_are_rows = FALSE)\n",
    "TAX = tax_table(as.matrix(OTU_taxonomy))\n",
    "SAM = sample_data(meta_table)\n",
    "physeq<-merge_phyloseq(phyloseq(OTU, TAX),SAM)\n",
    "# Start to explore the data a bit \n",
    "#number of samples\n",
    "print ('Number of Samples in our Biom Table')\n",
    "nsamples(physeq)\n",
    "# number of sequence variants\n",
    "print ('Number of Sequence variants we have.')\n",
    "ntaxa(physeq)\n",
    "#summary statistics of sampling depth\n",
    "print ('Sequencing depth.')\n",
    "depths <- sample_sums(physeq)\n",
    "summary(depths)\n",
    "hist(depths)\n",
    "head(sort(sample_sums(physeq)),25)"
   ]
  },
  {
   "cell_type": "code",
   "execution_count": 29,
   "metadata": {},
   "outputs": [
    {
     "data": {
      "text/html": [
       "<ol class=list-inline>\n",
       "\t<li>Placebo</li>\n",
       "\t<li>Co-P</li>\n",
       "\t<li>Letrozole</li>\n",
       "\t<li>Co-L</li>\n",
       "</ol>\n",
       "\n",
       "<details>\n",
       "\t<summary style=display:list-item;cursor:pointer>\n",
       "\t\t<strong>Levels</strong>:\n",
       "\t</summary>\n",
       "\t<ol class=list-inline>\n",
       "\t\t<li>'Co-L'</li>\n",
       "\t\t<li>'Co-P'</li>\n",
       "\t\t<li>'Letrozole'</li>\n",
       "\t\t<li>'Placebo'</li>\n",
       "\t</ol>\n",
       "</details>"
      ],
      "text/latex": [
       "\\begin{enumerate*}\n",
       "\\item Placebo\n",
       "\\item Co-P\n",
       "\\item Letrozole\n",
       "\\item Co-L\n",
       "\\end{enumerate*}\n",
       "\n",
       "\\emph{Levels}: \\begin{enumerate*}\n",
       "\\item 'Co-L'\n",
       "\\item 'Co-P'\n",
       "\\item 'Letrozole'\n",
       "\\item 'Placebo'\n",
       "\\end{enumerate*}\n"
      ],
      "text/markdown": [
       "1. Placebo\n",
       "2. Co-P\n",
       "3. Letrozole\n",
       "4. Co-L\n",
       "\n",
       "\n",
       "\n",
       "**Levels**: 1. 'Co-L'\n",
       "2. 'Co-P'\n",
       "3. 'Letrozole'\n",
       "4. 'Placebo'\n",
       "\n",
       "\n"
      ],
      "text/plain": [
       "[1] Placebo   Co-P      Letrozole Co-L     \n",
       "Levels: Co-L Co-P Letrozole Placebo"
      ]
     },
     "metadata": {},
     "output_type": "display_data"
    },
    {
     "data": {
      "text/html": [
       "2\n",
       "<details>\n",
       "\t<summary style=display:list-item;cursor:pointer>\n",
       "\t\t<strong>Levels</strong>:\n",
       "\t</summary>\n",
       "\t'2'\n",
       "</details>"
      ],
      "text/latex": [
       "2\n",
       "\\emph{Levels}: '2'"
      ],
      "text/markdown": [
       "2\n",
       "**Levels**: '2'"
      ],
      "text/plain": [
       "[1] 2\n",
       "Levels: 2"
      ]
     },
     "metadata": {},
     "output_type": "display_data"
    }
   ],
   "source": [
    "physeq.pt = subset_samples(physeq, Week != 'cecum.T5' & Week != '0' & Week != '1'& Week != '3'& Week != '4'& Week != '5')\n",
    "unique(sample_data(physeq.pt)$Category)\n",
    "unique(sample_data(physeq.pt)$Week)"
   ]
  },
  {
   "cell_type": "code",
   "execution_count": 10,
   "metadata": {},
   "outputs": [],
   "source": [
    "# It is always important to set a seed when you subsample so your result is replicable . Here we will be \n",
    "# subsampling libraries with replacement \n",
    "set.seed(123)\n",
    "        \n",
    " \n",
    "    \n",
    "meta.rarefy <- rarefy_even_depth(physeq.pt, sample.size = 4530000, verbose = FALSE, replace = TRUE)#need to change sample size based off min sequencing depth"
   ]
  },
  {
   "cell_type": "code",
   "execution_count": 11,
   "metadata": {
    "scrolled": true
   },
   "outputs": [
    {
     "data": {
      "text/plain": [
       "\n",
       "Permutation test for homogeneity of multivariate dispersions\n",
       "Permutation: free\n",
       "Number of permutations: 999\n",
       "\n",
       "Response: Distances\n",
       "          Df  Sum Sq   Mean Sq      F N.Perm Pr(>F)  \n",
       "Groups     3 0.03739 0.0124632 3.0864    999  0.043 *\n",
       "Residuals 28 0.11307 0.0040381                       \n",
       "---\n",
       "Signif. codes:  0 ‘***’ 0.001 ‘**’ 0.01 ‘*’ 0.05 ‘.’ 0.1 ‘ ’ 1"
      ]
     },
     "metadata": {},
     "output_type": "display_data"
    },
    {
     "data": {
      "text/plain": [
       "\n",
       "Permutation test for homogeneity of multivariate dispersions\n",
       "Permutation: free\n",
       "Number of permutations: 999\n",
       "\n",
       "Response: Distances\n",
       "          Df  Sum Sq   Mean Sq      F N.Perm Pr(>F)  \n",
       "Groups     3 0.03739 0.0124632 3.0864    999  0.047 *\n",
       "Residuals 28 0.11307 0.0040381                       \n",
       "---\n",
       "Signif. codes:  0 ‘***’ 0.001 ‘**’ 0.01 ‘*’ 0.05 ‘.’ 0.1 ‘ ’ 1"
      ]
     },
     "metadata": {},
     "output_type": "display_data"
    },
    {
     "data": {
      "text/html": [
       "<strong>png:</strong> 2"
      ],
      "text/latex": [
       "\\textbf{png:} 2"
      ],
      "text/markdown": [
       "**png:** 2"
      ],
      "text/plain": [
       "png \n",
       "  2 "
      ]
     },
     "metadata": {},
     "output_type": "display_data"
    },
    {
     "data": {
      "text/html": [
       "<ol class=list-inline>\n",
       "\t<li>'BarcodeSequence'</li>\n",
       "\t<li>'LinkerPrimerSequence'</li>\n",
       "\t<li>'filename'</li>\n",
       "\t<li>'ID_OG_MAP'</li>\n",
       "\t<li>'Barcode'</li>\n",
       "\t<li>'adaptor'</li>\n",
       "\t<li>'TSRI_Seq_plate'</li>\n",
       "\t<li>'Well_Position'</li>\n",
       "\t<li>'Sequenc_.Name'</li>\n",
       "\t<li>'Sequence'</li>\n",
       "\t<li>'PCR_Date'</li>\n",
       "\t<li>'Mouse'</li>\n",
       "\t<li>'Cage'</li>\n",
       "\t<li>'Week'</li>\n",
       "\t<li>'mouse.time'</li>\n",
       "\t<li>'Cecum'</li>\n",
       "\t<li>'Category_type_time'</li>\n",
       "\t<li>'weight'</li>\n",
       "\t<li>'Category'</li>\n",
       "\t<li>'type'</li>\n",
       "\t<li>'Lh'</li>\n",
       "\t<li>'Insulin'</li>\n",
       "\t<li>'Testosterone'</li>\n",
       "\t<li>'Weight_g'</li>\n",
       "\t<li>'observed_SVs1250'</li>\n",
       "\t<li>'pielou_e1250'</li>\n",
       "\t<li>'faith_pd1250'</li>\n",
       "\t<li>'shannon1250'</li>\n",
       "\t<li>'FBG'</li>\n",
       "\t<li>'Description'</li>\n",
       "\t<li>'ATTRIBUTE_GNPSDefaultGroup'</li>\n",
       "</ol>\n"
      ],
      "text/latex": [
       "\\begin{enumerate*}\n",
       "\\item 'BarcodeSequence'\n",
       "\\item 'LinkerPrimerSequence'\n",
       "\\item 'filename'\n",
       "\\item 'ID\\_OG\\_MAP'\n",
       "\\item 'Barcode'\n",
       "\\item 'adaptor'\n",
       "\\item 'TSRI\\_Seq\\_plate'\n",
       "\\item 'Well\\_Position'\n",
       "\\item 'Sequenc\\_.Name'\n",
       "\\item 'Sequence'\n",
       "\\item 'PCR\\_Date'\n",
       "\\item 'Mouse'\n",
       "\\item 'Cage'\n",
       "\\item 'Week'\n",
       "\\item 'mouse.time'\n",
       "\\item 'Cecum'\n",
       "\\item 'Category\\_type\\_time'\n",
       "\\item 'weight'\n",
       "\\item 'Category'\n",
       "\\item 'type'\n",
       "\\item 'Lh'\n",
       "\\item 'Insulin'\n",
       "\\item 'Testosterone'\n",
       "\\item 'Weight\\_g'\n",
       "\\item 'observed\\_SVs1250'\n",
       "\\item 'pielou\\_e1250'\n",
       "\\item 'faith\\_pd1250'\n",
       "\\item 'shannon1250'\n",
       "\\item 'FBG'\n",
       "\\item 'Description'\n",
       "\\item 'ATTRIBUTE\\_GNPSDefaultGroup'\n",
       "\\end{enumerate*}\n"
      ],
      "text/markdown": [
       "1. 'BarcodeSequence'\n",
       "2. 'LinkerPrimerSequence'\n",
       "3. 'filename'\n",
       "4. 'ID_OG_MAP'\n",
       "5. 'Barcode'\n",
       "6. 'adaptor'\n",
       "7. 'TSRI_Seq_plate'\n",
       "8. 'Well_Position'\n",
       "9. 'Sequenc_.Name'\n",
       "10. 'Sequence'\n",
       "11. 'PCR_Date'\n",
       "12. 'Mouse'\n",
       "13. 'Cage'\n",
       "14. 'Week'\n",
       "15. 'mouse.time'\n",
       "16. 'Cecum'\n",
       "17. 'Category_type_time'\n",
       "18. 'weight'\n",
       "19. 'Category'\n",
       "20. 'type'\n",
       "21. 'Lh'\n",
       "22. 'Insulin'\n",
       "23. 'Testosterone'\n",
       "24. 'Weight_g'\n",
       "25. 'observed_SVs1250'\n",
       "26. 'pielou_e1250'\n",
       "27. 'faith_pd1250'\n",
       "28. 'shannon1250'\n",
       "29. 'FBG'\n",
       "30. 'Description'\n",
       "31. 'ATTRIBUTE_GNPSDefaultGroup'\n",
       "\n",
       "\n"
      ],
      "text/plain": [
       " [1] \"BarcodeSequence\"            \"LinkerPrimerSequence\"      \n",
       " [3] \"filename\"                   \"ID_OG_MAP\"                 \n",
       " [5] \"Barcode\"                    \"adaptor\"                   \n",
       " [7] \"TSRI_Seq_plate\"             \"Well_Position\"             \n",
       " [9] \"Sequenc_.Name\"              \"Sequence\"                  \n",
       "[11] \"PCR_Date\"                   \"Mouse\"                     \n",
       "[13] \"Cage\"                       \"Week\"                      \n",
       "[15] \"mouse.time\"                 \"Cecum\"                     \n",
       "[17] \"Category_type_time\"         \"weight\"                    \n",
       "[19] \"Category\"                   \"type\"                      \n",
       "[21] \"Lh\"                         \"Insulin\"                   \n",
       "[23] \"Testosterone\"               \"Weight_g\"                  \n",
       "[25] \"observed_SVs1250\"           \"pielou_e1250\"              \n",
       "[27] \"faith_pd1250\"               \"shannon1250\"               \n",
       "[29] \"FBG\"                        \"Description\"               \n",
       "[31] \"ATTRIBUTE_GNPSDefaultGroup\""
      ]
     },
     "metadata": {},
     "output_type": "display_data"
    },
    {
     "data": {
      "text/html": [
       "<table>\n",
       "<thead><tr><th></th><th scope=col>Df</th><th scope=col>SumsOfSqs</th><th scope=col>MeanSqs</th><th scope=col>F.Model</th><th scope=col>R2</th><th scope=col>Pr(&gt;F)</th></tr></thead>\n",
       "<tbody>\n",
       "\t<tr><th scope=row>Category</th><td> 3         </td><td>2.227863   </td><td>0.7426212  </td><td>6.095338   </td><td>0.3950656  </td><td>0.000999001</td></tr>\n",
       "\t<tr><th scope=row>Residuals</th><td>28         </td><td>3.411360   </td><td>0.1218343  </td><td>      NA   </td><td>0.6049344  </td><td>         NA</td></tr>\n",
       "\t<tr><th scope=row>Total</th><td>31         </td><td>5.639224   </td><td>       NA  </td><td>      NA   </td><td>1.0000000  </td><td>         NA</td></tr>\n",
       "</tbody>\n",
       "</table>\n"
      ],
      "text/latex": [
       "\\begin{tabular}{r|llllll}\n",
       "  & Df & SumsOfSqs & MeanSqs & F.Model & R2 & Pr(>F)\\\\\n",
       "\\hline\n",
       "\tCategory &  3          & 2.227863    & 0.7426212   & 6.095338    & 0.3950656   & 0.000999001\\\\\n",
       "\tResiduals & 28          & 3.411360    & 0.1218343   &       NA    & 0.6049344   &          NA\\\\\n",
       "\tTotal & 31          & 5.639224    &        NA   &       NA    & 1.0000000   &          NA\\\\\n",
       "\\end{tabular}\n"
      ],
      "text/markdown": [
       "\n",
       "| <!--/--> | Df | SumsOfSqs | MeanSqs | F.Model | R2 | Pr(>F) |\n",
       "|---|---|---|---|---|---|---|\n",
       "| Category |  3          | 2.227863    | 0.7426212   | 6.095338    | 0.3950656   | 0.000999001 |\n",
       "| Residuals | 28          | 3.411360    | 0.1218343   |       NA    | 0.6049344   |          NA |\n",
       "| Total | 31          | 5.639224    |        NA   |       NA    | 1.0000000   |          NA |\n",
       "\n"
      ],
      "text/plain": [
       "          Df SumsOfSqs MeanSqs   F.Model  R2        Pr(>F)     \n",
       "Category   3 2.227863  0.7426212 6.095338 0.3950656 0.000999001\n",
       "Residuals 28 3.411360  0.1218343       NA 0.6049344          NA\n",
       "Total     31 5.639224         NA       NA 1.0000000          NA"
      ]
     },
     "metadata": {},
     "output_type": "display_data"
    }
   ],
   "source": [
    "library('vegan')\n",
    "###############################################\n",
    "#####  PERMANOVA  ############-----------------\n",
    "###############################################\n",
    "\n",
    "#make a data frame from the sample_data (unweighted unifrac)\n",
    "meta.rarefy=subset_samples(meta.rarefy, type == 'fecal')\n",
    "df = as(sample_data(meta.rarefy), \"data.frame\")\n",
    "d = phyloseq::distance(meta.rarefy, \"bray\")\n",
    "\n",
    "#test for homogeneity of data\n",
    "sampledf <- data.frame(sample_data(meta.rarefy))\n",
    "beta <- betadisper(d, sampledf$Category)\n",
    "permutest(beta)\n",
    "\n",
    "CategorybetaDNA <- betadisper(d, sampledf$Category)\n",
    "permutest(CategorybetaDNA)\n",
    "\n",
    "pdf('Metabolite_Cutoff_T2_ellipse.pdf', width=20, height=15)\n",
    "plot(CategorybetaDNA, ellipse = TRUE, hull=F)  \n",
    "dev.off()\n",
    "\n",
    "#now run permanova\n",
    "set.seed(2)\n",
    "GPNMDS = ordinate(meta.rarefy, \"PCoA\", d)\n",
    "sample_variables(meta.rarefy)\n",
    "a=adonis(d ~ Category, as(sample_data(meta.rarefy), \"data.frame\"), permutations=1000, method='bray', weighted=FALSE)\n",
    "a$aov.tab"
   ]
  },
  {
   "cell_type": "code",
   "execution_count": 12,
   "metadata": {},
   "outputs": [
    {
     "data": {
      "text/plain": [
       "\n",
       "\tHomogeneity of multivariate dispersions\n",
       "\n",
       "Call: betadisper(d = d, group = sampledf$Category)\n",
       "\n",
       "No. of Positive Eigenvalues: 31\n",
       "No. of Negative Eigenvalues: 0\n",
       "\n",
       "Average distance to median:\n",
       "     Co-L      Co-P Letrozole   Placebo \n",
       "   0.2784    0.2947    0.3514    0.3564 \n",
       "\n",
       "Eigenvalues for PCoA axes:\n",
       "(Showing 8 of 31 eigenvalues)\n",
       " PCoA1  PCoA2  PCoA3  PCoA4  PCoA5  PCoA6  PCoA7  PCoA8 \n",
       "2.1266 0.4432 0.3690 0.3086 0.2562 0.2395 0.2038 0.1778 "
      ]
     },
     "metadata": {},
     "output_type": "display_data"
    }
   ],
   "source": [
    "CategorybetaDNA"
   ]
  },
  {
   "cell_type": "code",
   "execution_count": 13,
   "metadata": {},
   "outputs": [
    {
     "data": {
      "text/plain": [
       "phyloseq-class experiment-level object\n",
       "otu_table()   OTU Table:         [ 2088 taxa and 32 samples ]\n",
       "sample_data() Sample Data:       [ 32 samples by 31 sample variables ]\n",
       "tax_table()   Taxonomy Table:    [ 2088 taxa by 7 taxonomic ranks ]"
      ]
     },
     "metadata": {},
     "output_type": "display_data"
    }
   ],
   "source": [
    "meta.rarefy"
   ]
  },
  {
   "cell_type": "code",
   "execution_count": 14,
   "metadata": {},
   "outputs": [
    {
     "name": "stdout",
     "output_type": "stream",
     "text": [
      "Run 0 stress 0.1024477 \n",
      "Run 1 stress 0.1100675 \n",
      "Run 2 stress 0.1072785 \n",
      "Run 3 stress 0.1024477 \n",
      "... Procrustes: rmse 8.144385e-05  max resid 0.0003651294 \n",
      "... Similar to previous best\n",
      "Run 4 stress 0.1078921 \n",
      "Run 5 stress 0.1119651 \n",
      "Run 6 stress 0.1307716 \n",
      "Run 7 stress 0.1050306 \n",
      "Run 8 stress 0.1072783 \n",
      "Run 9 stress 0.1222766 \n",
      "Run 10 stress 0.1220036 \n",
      "Run 11 stress 0.1237396 \n",
      "Run 12 stress 0.1167801 \n",
      "Run 13 stress 0.1077955 \n",
      "Run 14 stress 0.1077954 \n",
      "Run 15 stress 0.1077955 \n",
      "Run 16 stress 0.1024477 \n",
      "... Procrustes: rmse 3.59949e-05  max resid 0.0001558139 \n",
      "... Similar to previous best\n",
      "Run 17 stress 0.1119652 \n",
      "Run 18 stress 0.1318448 \n",
      "Run 19 stress 0.1050303 \n",
      "Run 20 stress 0.1077974 \n",
      "*** Solution reached\n"
     ]
    }
   ],
   "source": [
    "# Calculate distances\n",
    "meta.rarefy=subset_samples(meta.rarefy, type == 'fecal' )\n",
    "set.seed(123)\n",
    "DistBC = distance(meta.rarefy, method = \"bray\")\n",
    "#ordination\n",
    "ordBC = ordinate(meta.rarefy, method = \"NMDS\", distance = DistBC)"
   ]
  },
  {
   "cell_type": "code",
   "execution_count": 15,
   "metadata": {},
   "outputs": [
    {
     "data": {
      "text/html": [
       "<strong>png:</strong> 2"
      ],
      "text/latex": [
       "\\textbf{png:} 2"
      ],
      "text/markdown": [
       "**png:** 2"
      ],
      "text/plain": [
       "png \n",
       "  2 "
      ]
     },
     "metadata": {},
     "output_type": "display_data"
    }
   ],
   "source": [
    "                 \n",
    "cap_ord <- ordinate(\n",
    "    physeq = meta.rarefy, \n",
    "    method = \"CAP\",\n",
    "    distance = \"bray\",\n",
    "    formula = ~ Category \n",
    ")\n",
    "pdf('Metabolite_Cutoff_T2_CAP.pdf', width=15, height=15)\n",
    "cap_plot <- plot_ordination(physeq = meta.rarefy,ordination = cap_ord, \n",
    "    color = \"Category\",shape = \"Category\",axes = c(1,2)) + geom_point(size = 10)+\n",
    "    scale_color_manual(values = c(\"blue\", \"purple\", \"darkgreen\", \"red\", \n",
    "    \"#1919ff\", \"darkorchid3\", \"black\")) + ggtitle(\"CAP: Metabolite T2\") + theme_bw() +\n",
    "    theme(text = element_text(size = 50),\n",
    "    panel.grid.major=element_blank(),\n",
    "    panel.grid.minor=element_blank(), \n",
    "    panel.background=element_rect(colour=\"black\",fill=NA,size=2)) + \n",
    "    scale_shape_manual(values=c(15,18,17,19)) + geom_hline(yintercept=0,colour=\"black\",linetype=\"dashed\") + \n",
    "    geom_vline(xintercept=0,colour=\"black\",linetype=\"dashed\") \n",
    "cap_plot\n",
    "dev.off()"
   ]
  },
  {
   "cell_type": "code",
   "execution_count": 16,
   "metadata": {},
   "outputs": [
    {
     "name": "stdout",
     "output_type": "stream",
     "text": [
      "[1] \"BrayCurtis Permanova\"\n"
     ]
    },
    {
     "data": {
      "text/html": [
       "<table>\n",
       "<thead><tr><th></th><th scope=col>Df</th><th scope=col>SumsOfSqs</th><th scope=col>MeanSqs</th><th scope=col>F.Model</th><th scope=col>R2</th><th scope=col>Pr(&gt;F)</th></tr></thead>\n",
       "<tbody>\n",
       "\t<tr><th scope=row>Category</th><td> 3         </td><td>2.227863   </td><td>0.7426212  </td><td>6.095338   </td><td>0.3950656  </td><td>0.000999001</td></tr>\n",
       "\t<tr><th scope=row>Residuals</th><td>28         </td><td>3.411360   </td><td>0.1218343  </td><td>      NA   </td><td>0.6049344  </td><td>         NA</td></tr>\n",
       "\t<tr><th scope=row>Total</th><td>31         </td><td>5.639224   </td><td>       NA  </td><td>      NA   </td><td>1.0000000  </td><td>         NA</td></tr>\n",
       "</tbody>\n",
       "</table>\n"
      ],
      "text/latex": [
       "\\begin{tabular}{r|llllll}\n",
       "  & Df & SumsOfSqs & MeanSqs & F.Model & R2 & Pr(>F)\\\\\n",
       "\\hline\n",
       "\tCategory &  3          & 2.227863    & 0.7426212   & 6.095338    & 0.3950656   & 0.000999001\\\\\n",
       "\tResiduals & 28          & 3.411360    & 0.1218343   &       NA    & 0.6049344   &          NA\\\\\n",
       "\tTotal & 31          & 5.639224    &        NA   &       NA    & 1.0000000   &          NA\\\\\n",
       "\\end{tabular}\n"
      ],
      "text/markdown": [
       "\n",
       "| <!--/--> | Df | SumsOfSqs | MeanSqs | F.Model | R2 | Pr(>F) |\n",
       "|---|---|---|---|---|---|---|\n",
       "| Category |  3          | 2.227863    | 0.7426212   | 6.095338    | 0.3950656   | 0.000999001 |\n",
       "| Residuals | 28          | 3.411360    | 0.1218343   |       NA    | 0.6049344   |          NA |\n",
       "| Total | 31          | 5.639224    |        NA   |       NA    | 1.0000000   |          NA |\n",
       "\n"
      ],
      "text/plain": [
       "          Df SumsOfSqs MeanSqs   F.Model  R2        Pr(>F)     \n",
       "Category   3 2.227863  0.7426212 6.095338 0.3950656 0.000999001\n",
       "Residuals 28 3.411360  0.1218343       NA 0.6049344          NA\n",
       "Total     31 5.639224         NA       NA 1.0000000          NA"
      ]
     },
     "metadata": {},
     "output_type": "display_data"
    }
   ],
   "source": [
    "print('BrayCurtis Permanova')\n",
    "a=adonis(DistBC ~  Category, as(sample_data(meta.rarefy), \"data.frame\"), permutations=1000, method='bray')\n",
    "a$aov.tab"
   ]
  },
  {
   "cell_type": "markdown",
   "metadata": {},
   "source": [
    "# CAP T5 BA"
   ]
  },
  {
   "cell_type": "code",
   "execution_count": 17,
   "metadata": {},
   "outputs": [
    {
     "data": {
      "text/html": [
       "<ol class=list-inline>\n",
       "\t<li>Letrozole</li>\n",
       "\t<li>Placebo</li>\n",
       "\t<li>Co-L</li>\n",
       "\t<li>Co-P</li>\n",
       "</ol>\n",
       "\n",
       "<details>\n",
       "\t<summary style=display:list-item;cursor:pointer>\n",
       "\t\t<strong>Levels</strong>:\n",
       "\t</summary>\n",
       "\t<ol class=list-inline>\n",
       "\t\t<li>'Co-L'</li>\n",
       "\t\t<li>'Co-P'</li>\n",
       "\t\t<li>'Letrozole'</li>\n",
       "\t\t<li>'Placebo'</li>\n",
       "\t</ol>\n",
       "</details>"
      ],
      "text/latex": [
       "\\begin{enumerate*}\n",
       "\\item Letrozole\n",
       "\\item Placebo\n",
       "\\item Co-L\n",
       "\\item Co-P\n",
       "\\end{enumerate*}\n",
       "\n",
       "\\emph{Levels}: \\begin{enumerate*}\n",
       "\\item 'Co-L'\n",
       "\\item 'Co-P'\n",
       "\\item 'Letrozole'\n",
       "\\item 'Placebo'\n",
       "\\end{enumerate*}\n"
      ],
      "text/markdown": [
       "1. Letrozole\n",
       "2. Placebo\n",
       "3. Co-L\n",
       "4. Co-P\n",
       "\n",
       "\n",
       "\n",
       "**Levels**: 1. 'Co-L'\n",
       "2. 'Co-P'\n",
       "3. 'Letrozole'\n",
       "4. 'Placebo'\n",
       "\n",
       "\n"
      ],
      "text/plain": [
       "[1] Letrozole Placebo   Co-L      Co-P     \n",
       "Levels: Co-L Co-P Letrozole Placebo"
      ]
     },
     "metadata": {},
     "output_type": "display_data"
    },
    {
     "data": {
      "text/html": [
       "5\n",
       "<details>\n",
       "\t<summary style=display:list-item;cursor:pointer>\n",
       "\t\t<strong>Levels</strong>:\n",
       "\t</summary>\n",
       "\t'5'\n",
       "</details>"
      ],
      "text/latex": [
       "5\n",
       "\\emph{Levels}: '5'"
      ],
      "text/markdown": [
       "5\n",
       "**Levels**: '5'"
      ],
      "text/plain": [
       "[1] 5\n",
       "Levels: 5"
      ]
     },
     "metadata": {},
     "output_type": "display_data"
    }
   ],
   "source": [
    "physeq.pt = subset_samples(physeq, Week != 'cecum.T5' & Week != '0' & Week != '1'& Week != '3'& Week != '4'& Week != '2')\n",
    "unique(sample_data(physeq.pt)$Category)\n",
    "unique(sample_data(physeq.pt)$Week)"
   ]
  },
  {
   "cell_type": "code",
   "execution_count": 18,
   "metadata": {},
   "outputs": [
    {
     "data": {
      "text/plain": [
       "\n",
       "Permutation test for homogeneity of multivariate dispersions\n",
       "Permutation: free\n",
       "Number of permutations: 999\n",
       "\n",
       "Response: Distances\n",
       "          Df   Sum Sq   Mean Sq      F N.Perm Pr(>F)\n",
       "Groups     3 0.008358 0.0027861 0.9542    999  0.435\n",
       "Residuals 28 0.081751 0.0029197                     "
      ]
     },
     "metadata": {},
     "output_type": "display_data"
    },
    {
     "data": {
      "text/plain": [
       "\n",
       "Permutation test for homogeneity of multivariate dispersions\n",
       "Permutation: free\n",
       "Number of permutations: 999\n",
       "\n",
       "Response: Distances\n",
       "          Df   Sum Sq   Mean Sq      F N.Perm Pr(>F)\n",
       "Groups     3 0.008358 0.0027861 0.9542    999  0.425\n",
       "Residuals 28 0.081751 0.0029197                     "
      ]
     },
     "metadata": {},
     "output_type": "display_data"
    },
    {
     "data": {
      "text/html": [
       "<strong>png:</strong> 2"
      ],
      "text/latex": [
       "\\textbf{png:} 2"
      ],
      "text/markdown": [
       "**png:** 2"
      ],
      "text/plain": [
       "png \n",
       "  2 "
      ]
     },
     "metadata": {},
     "output_type": "display_data"
    },
    {
     "data": {
      "text/html": [
       "<ol class=list-inline>\n",
       "\t<li>'BarcodeSequence'</li>\n",
       "\t<li>'LinkerPrimerSequence'</li>\n",
       "\t<li>'filename'</li>\n",
       "\t<li>'ID_OG_MAP'</li>\n",
       "\t<li>'Barcode'</li>\n",
       "\t<li>'adaptor'</li>\n",
       "\t<li>'TSRI_Seq_plate'</li>\n",
       "\t<li>'Well_Position'</li>\n",
       "\t<li>'Sequenc_.Name'</li>\n",
       "\t<li>'Sequence'</li>\n",
       "\t<li>'PCR_Date'</li>\n",
       "\t<li>'Mouse'</li>\n",
       "\t<li>'Cage'</li>\n",
       "\t<li>'Week'</li>\n",
       "\t<li>'mouse.time'</li>\n",
       "\t<li>'Cecum'</li>\n",
       "\t<li>'Category_type_time'</li>\n",
       "\t<li>'weight'</li>\n",
       "\t<li>'Category'</li>\n",
       "\t<li>'type'</li>\n",
       "\t<li>'Lh'</li>\n",
       "\t<li>'Insulin'</li>\n",
       "\t<li>'Testosterone'</li>\n",
       "\t<li>'Weight_g'</li>\n",
       "\t<li>'observed_SVs1250'</li>\n",
       "\t<li>'pielou_e1250'</li>\n",
       "\t<li>'faith_pd1250'</li>\n",
       "\t<li>'shannon1250'</li>\n",
       "\t<li>'FBG'</li>\n",
       "\t<li>'Description'</li>\n",
       "\t<li>'ATTRIBUTE_GNPSDefaultGroup'</li>\n",
       "</ol>\n"
      ],
      "text/latex": [
       "\\begin{enumerate*}\n",
       "\\item 'BarcodeSequence'\n",
       "\\item 'LinkerPrimerSequence'\n",
       "\\item 'filename'\n",
       "\\item 'ID\\_OG\\_MAP'\n",
       "\\item 'Barcode'\n",
       "\\item 'adaptor'\n",
       "\\item 'TSRI\\_Seq\\_plate'\n",
       "\\item 'Well\\_Position'\n",
       "\\item 'Sequenc\\_.Name'\n",
       "\\item 'Sequence'\n",
       "\\item 'PCR\\_Date'\n",
       "\\item 'Mouse'\n",
       "\\item 'Cage'\n",
       "\\item 'Week'\n",
       "\\item 'mouse.time'\n",
       "\\item 'Cecum'\n",
       "\\item 'Category\\_type\\_time'\n",
       "\\item 'weight'\n",
       "\\item 'Category'\n",
       "\\item 'type'\n",
       "\\item 'Lh'\n",
       "\\item 'Insulin'\n",
       "\\item 'Testosterone'\n",
       "\\item 'Weight\\_g'\n",
       "\\item 'observed\\_SVs1250'\n",
       "\\item 'pielou\\_e1250'\n",
       "\\item 'faith\\_pd1250'\n",
       "\\item 'shannon1250'\n",
       "\\item 'FBG'\n",
       "\\item 'Description'\n",
       "\\item 'ATTRIBUTE\\_GNPSDefaultGroup'\n",
       "\\end{enumerate*}\n"
      ],
      "text/markdown": [
       "1. 'BarcodeSequence'\n",
       "2. 'LinkerPrimerSequence'\n",
       "3. 'filename'\n",
       "4. 'ID_OG_MAP'\n",
       "5. 'Barcode'\n",
       "6. 'adaptor'\n",
       "7. 'TSRI_Seq_plate'\n",
       "8. 'Well_Position'\n",
       "9. 'Sequenc_.Name'\n",
       "10. 'Sequence'\n",
       "11. 'PCR_Date'\n",
       "12. 'Mouse'\n",
       "13. 'Cage'\n",
       "14. 'Week'\n",
       "15. 'mouse.time'\n",
       "16. 'Cecum'\n",
       "17. 'Category_type_time'\n",
       "18. 'weight'\n",
       "19. 'Category'\n",
       "20. 'type'\n",
       "21. 'Lh'\n",
       "22. 'Insulin'\n",
       "23. 'Testosterone'\n",
       "24. 'Weight_g'\n",
       "25. 'observed_SVs1250'\n",
       "26. 'pielou_e1250'\n",
       "27. 'faith_pd1250'\n",
       "28. 'shannon1250'\n",
       "29. 'FBG'\n",
       "30. 'Description'\n",
       "31. 'ATTRIBUTE_GNPSDefaultGroup'\n",
       "\n",
       "\n"
      ],
      "text/plain": [
       " [1] \"BarcodeSequence\"            \"LinkerPrimerSequence\"      \n",
       " [3] \"filename\"                   \"ID_OG_MAP\"                 \n",
       " [5] \"Barcode\"                    \"adaptor\"                   \n",
       " [7] \"TSRI_Seq_plate\"             \"Well_Position\"             \n",
       " [9] \"Sequenc_.Name\"              \"Sequence\"                  \n",
       "[11] \"PCR_Date\"                   \"Mouse\"                     \n",
       "[13] \"Cage\"                       \"Week\"                      \n",
       "[15] \"mouse.time\"                 \"Cecum\"                     \n",
       "[17] \"Category_type_time\"         \"weight\"                    \n",
       "[19] \"Category\"                   \"type\"                      \n",
       "[21] \"Lh\"                         \"Insulin\"                   \n",
       "[23] \"Testosterone\"               \"Weight_g\"                  \n",
       "[25] \"observed_SVs1250\"           \"pielou_e1250\"              \n",
       "[27] \"faith_pd1250\"               \"shannon1250\"               \n",
       "[29] \"FBG\"                        \"Description\"               \n",
       "[31] \"ATTRIBUTE_GNPSDefaultGroup\""
      ]
     },
     "metadata": {},
     "output_type": "display_data"
    },
    {
     "data": {
      "text/html": [
       "<table>\n",
       "<thead><tr><th></th><th scope=col>Df</th><th scope=col>SumsOfSqs</th><th scope=col>MeanSqs</th><th scope=col>F.Model</th><th scope=col>R2</th><th scope=col>Pr(&gt;F)</th></tr></thead>\n",
       "<tbody>\n",
       "\t<tr><th scope=row>Category</th><td> 3        </td><td>0.6046178 </td><td>0.2015393 </td><td>1.379082  </td><td>0.1287368 </td><td>0.04950495</td></tr>\n",
       "\t<tr><th scope=row>Residuals</th><td>28        </td><td>4.0919254 </td><td>0.1461402 </td><td>      NA  </td><td>0.8712632 </td><td>        NA</td></tr>\n",
       "\t<tr><th scope=row>Total</th><td>31        </td><td>4.6965432 </td><td>       NA </td><td>      NA  </td><td>1.0000000 </td><td>        NA</td></tr>\n",
       "</tbody>\n",
       "</table>\n"
      ],
      "text/latex": [
       "\\begin{tabular}{r|llllll}\n",
       "  & Df & SumsOfSqs & MeanSqs & F.Model & R2 & Pr(>F)\\\\\n",
       "\\hline\n",
       "\tCategory &  3         & 0.6046178  & 0.2015393  & 1.379082   & 0.1287368  & 0.04950495\\\\\n",
       "\tResiduals & 28         & 4.0919254  & 0.1461402  &       NA   & 0.8712632  &         NA\\\\\n",
       "\tTotal & 31         & 4.6965432  &        NA  &       NA   & 1.0000000  &         NA\\\\\n",
       "\\end{tabular}\n"
      ],
      "text/markdown": [
       "\n",
       "| <!--/--> | Df | SumsOfSqs | MeanSqs | F.Model | R2 | Pr(>F) |\n",
       "|---|---|---|---|---|---|---|\n",
       "| Category |  3         | 0.6046178  | 0.2015393  | 1.379082   | 0.1287368  | 0.04950495 |\n",
       "| Residuals | 28         | 4.0919254  | 0.1461402  |       NA   | 0.8712632  |         NA |\n",
       "| Total | 31         | 4.6965432  |        NA  |       NA   | 1.0000000  |         NA |\n",
       "\n"
      ],
      "text/plain": [
       "          Df SumsOfSqs MeanSqs   F.Model  R2        Pr(>F)    \n",
       "Category   3 0.6046178 0.2015393 1.379082 0.1287368 0.04950495\n",
       "Residuals 28 4.0919254 0.1461402       NA 0.8712632         NA\n",
       "Total     31 4.6965432        NA       NA 1.0000000         NA"
      ]
     },
     "metadata": {},
     "output_type": "display_data"
    }
   ],
   "source": [
    "# It is always important to set a seed when you subsample so your result is replicable . Here we will be \n",
    "# subsampling libraries with replacement \n",
    "set.seed(123)\n",
    "        \n",
    " \n",
    "    \n",
    "meta.rarefy <- rarefy_even_depth(physeq.pt, sample.size = 4530000, verbose = FALSE, replace = TRUE)#need to change sample size based off min sequencing depth\n",
    "library('vegan')\n",
    "###############################################\n",
    "#####  PERMANOVA  ############-----------------\n",
    "###############################################\n",
    "\n",
    "#make a data frame from the sample_data (unweighted unifrac)\n",
    "meta.rarefy=subset_samples(meta.rarefy, type == 'fecal')\n",
    "df = as(sample_data(meta.rarefy), \"data.frame\")\n",
    "d = phyloseq::distance(meta.rarefy, \"bray\")\n",
    "\n",
    "#test for homogeneity of data\n",
    "sampledf <- data.frame(sample_data(meta.rarefy))\n",
    "beta <- betadisper(d, sampledf$Category)\n",
    "permutest(beta)\n",
    "\n",
    "CategorybetaDNA <- betadisper(d, sampledf$Category)\n",
    "permutest(CategorybetaDNA)\n",
    "\n",
    "pdf('Metabolite_Cutoff_T5_ellipse.pdf', width=20, height=15)\n",
    "plot(CategorybetaDNA, ellipse = TRUE, hull=F)  \n",
    "dev.off()\n",
    "#now run permanova\n",
    "set.seed(2)\n",
    "GPNMDS = ordinate(meta.rarefy, \"PCoA\", d)\n",
    "sample_variables(meta.rarefy)\n",
    "a=adonis(d ~ Category, as(sample_data(meta.rarefy), \"data.frame\"), permutations=100, method='bray', weighted=FALSE)\n",
    "a$aov.tab"
   ]
  },
  {
   "cell_type": "code",
   "execution_count": 19,
   "metadata": {},
   "outputs": [
    {
     "data": {
      "text/plain": [
       "\n",
       "\tHomogeneity of multivariate dispersions\n",
       "\n",
       "Call: betadisper(d = d, group = sampledf$Category)\n",
       "\n",
       "No. of Positive Eigenvalues: 31\n",
       "No. of Negative Eigenvalues: 0\n",
       "\n",
       "Average distance to median:\n",
       "     Co-L      Co-P Letrozole   Placebo \n",
       "   0.3697    0.3561    0.3636    0.3275 \n",
       "\n",
       "Eigenvalues for PCoA axes:\n",
       "(Showing 8 of 31 eigenvalues)\n",
       " PCoA1  PCoA2  PCoA3  PCoA4  PCoA5  PCoA6  PCoA7  PCoA8 \n",
       "0.6735 0.4684 0.4497 0.3520 0.3395 0.2926 0.2278 0.1941 "
      ]
     },
     "metadata": {},
     "output_type": "display_data"
    }
   ],
   "source": [
    "CategorybetaDNA"
   ]
  },
  {
   "cell_type": "code",
   "execution_count": 20,
   "metadata": {},
   "outputs": [
    {
     "data": {
      "text/plain": [
       "phyloseq-class experiment-level object\n",
       "otu_table()   OTU Table:         [ 1961 taxa and 32 samples ]\n",
       "sample_data() Sample Data:       [ 32 samples by 31 sample variables ]\n",
       "tax_table()   Taxonomy Table:    [ 1961 taxa by 7 taxonomic ranks ]"
      ]
     },
     "metadata": {},
     "output_type": "display_data"
    }
   ],
   "source": [
    "meta.rarefy"
   ]
  },
  {
   "cell_type": "code",
   "execution_count": 21,
   "metadata": {},
   "outputs": [
    {
     "name": "stdout",
     "output_type": "stream",
     "text": [
      "Run 0 stress 0.2335205 \n",
      "Run 1 stress 0.2334365 \n",
      "... New best solution\n",
      "... Procrustes: rmse 0.03316744  max resid 0.1542197 \n",
      "Run 2 stress 0.2285289 \n",
      "... New best solution\n",
      "... Procrustes: rmse 0.13362  max resid 0.6038356 \n",
      "Run 3 stress 0.2358673 \n",
      "Run 4 stress 0.252035 \n",
      "Run 5 stress 0.2379475 \n",
      "Run 6 stress 0.2750234 \n",
      "Run 7 stress 0.2313188 \n",
      "Run 8 stress 0.2349244 \n",
      "Run 9 stress 0.2334186 \n",
      "Run 10 stress 0.2327126 \n",
      "Run 11 stress 0.2492624 \n",
      "Run 12 stress 0.2487494 \n",
      "Run 13 stress 0.2313781 \n",
      "Run 14 stress 0.2453091 \n",
      "Run 15 stress 0.2446711 \n",
      "Run 16 stress 0.2453543 \n",
      "Run 17 stress 0.2373175 \n",
      "Run 18 stress 0.2404158 \n",
      "Run 19 stress 0.2303059 \n",
      "Run 20 stress 0.2530108 \n",
      "*** No convergence -- monoMDS stopping criteria:\n",
      "    20: stress ratio > sratmax\n"
     ]
    }
   ],
   "source": [
    "# Calculate distances\n",
    "meta.rarefy=subset_samples(meta.rarefy, type == 'fecal' )\n",
    "set.seed(123)\n",
    "DistBC = distance(meta.rarefy, method = \"bray\")\n",
    "#ordination\n",
    "ordBC = ordinate(meta.rarefy, method = \"NMDS\", distance = DistBC)"
   ]
  },
  {
   "cell_type": "code",
   "execution_count": 22,
   "metadata": {},
   "outputs": [
    {
     "data": {
      "text/html": [
       "<strong>png:</strong> 2"
      ],
      "text/latex": [
       "\\textbf{png:} 2"
      ],
      "text/markdown": [
       "**png:** 2"
      ],
      "text/plain": [
       "png \n",
       "  2 "
      ]
     },
     "metadata": {},
     "output_type": "display_data"
    }
   ],
   "source": [
    "cap_ord <- ordinate(\n",
    "    physeq = meta.rarefy, \n",
    "    method = \"CAP\",\n",
    "    distance = \"bray\",\n",
    "    formula = ~ Category \n",
    ")\n",
    "pdf('Metabolite_Cutoff_T5_CAP.pdf', width=15, height=15)\n",
    "cap_plot <- plot_ordination(physeq = meta.rarefy,ordination = cap_ord, \n",
    "    color = \"Category\",shape = \"Category\",axes = c(1,2)) + geom_point(size = 10)+\n",
    "    scale_color_manual(values = c(\"blue\", \"purple\", \"darkgreen\", \"red\", \n",
    "    \"#1919ff\", \"darkorchid3\", \"black\")) + ggtitle(\"CAP: Metabolite T5\") + theme_bw() +\n",
    "    theme(text = element_text(size = 50),\n",
    "    panel.grid.major=element_blank(),\n",
    "    panel.grid.minor=element_blank(), \n",
    "    panel.background=element_rect(colour=\"black\",fill=NA,size=2)) + \n",
    "    scale_shape_manual(values=c(15,18,17,19)) + geom_hline(yintercept=0,colour=\"black\",linetype=\"dashed\") + \n",
    "    geom_vline(xintercept=0,colour=\"black\",linetype=\"dashed\") \n",
    "cap_plot\n",
    "dev.off()"
   ]
  },
  {
   "cell_type": "code",
   "execution_count": 23,
   "metadata": {},
   "outputs": [
    {
     "name": "stdout",
     "output_type": "stream",
     "text": [
      "[1] \"BrayCurtis Permanova\"\n"
     ]
    },
    {
     "data": {
      "text/html": [
       "<table>\n",
       "<thead><tr><th></th><th scope=col>Df</th><th scope=col>SumsOfSqs</th><th scope=col>MeanSqs</th><th scope=col>F.Model</th><th scope=col>R2</th><th scope=col>Pr(&gt;F)</th></tr></thead>\n",
       "<tbody>\n",
       "\t<tr><th scope=row>Category</th><td> 3         </td><td>0.6046178  </td><td>0.2015393  </td><td>1.379082   </td><td>0.1287368  </td><td>0.007992008</td></tr>\n",
       "\t<tr><th scope=row>Residuals</th><td>28         </td><td>4.0919254  </td><td>0.1461402  </td><td>      NA   </td><td>0.8712632  </td><td>         NA</td></tr>\n",
       "\t<tr><th scope=row>Total</th><td>31         </td><td>4.6965432  </td><td>       NA  </td><td>      NA   </td><td>1.0000000  </td><td>         NA</td></tr>\n",
       "</tbody>\n",
       "</table>\n"
      ],
      "text/latex": [
       "\\begin{tabular}{r|llllll}\n",
       "  & Df & SumsOfSqs & MeanSqs & F.Model & R2 & Pr(>F)\\\\\n",
       "\\hline\n",
       "\tCategory &  3          & 0.6046178   & 0.2015393   & 1.379082    & 0.1287368   & 0.007992008\\\\\n",
       "\tResiduals & 28          & 4.0919254   & 0.1461402   &       NA    & 0.8712632   &          NA\\\\\n",
       "\tTotal & 31          & 4.6965432   &        NA   &       NA    & 1.0000000   &          NA\\\\\n",
       "\\end{tabular}\n"
      ],
      "text/markdown": [
       "\n",
       "| <!--/--> | Df | SumsOfSqs | MeanSqs | F.Model | R2 | Pr(>F) |\n",
       "|---|---|---|---|---|---|---|\n",
       "| Category |  3          | 0.6046178   | 0.2015393   | 1.379082    | 0.1287368   | 0.007992008 |\n",
       "| Residuals | 28          | 4.0919254   | 0.1461402   |       NA    | 0.8712632   |          NA |\n",
       "| Total | 31          | 4.6965432   |        NA   |       NA    | 1.0000000   |          NA |\n",
       "\n"
      ],
      "text/plain": [
       "          Df SumsOfSqs MeanSqs   F.Model  R2        Pr(>F)     \n",
       "Category   3 0.6046178 0.2015393 1.379082 0.1287368 0.007992008\n",
       "Residuals 28 4.0919254 0.1461402       NA 0.8712632          NA\n",
       "Total     31 4.6965432        NA       NA 1.0000000          NA"
      ]
     },
     "metadata": {},
     "output_type": "display_data"
    }
   ],
   "source": [
    "print('BrayCurtis Permanova')\n",
    "a=adonis(DistBC ~  Category, as(sample_data(meta.rarefy), \"data.frame\"), permutations=1000, method='bray')\n",
    "a$aov.tab"
   ]
  },
  {
   "cell_type": "markdown",
   "metadata": {},
   "source": [
    "# CAP T0"
   ]
  },
  {
   "cell_type": "code",
   "execution_count": 30,
   "metadata": {},
   "outputs": [
    {
     "data": {
      "text/html": [
       "<ol class=list-inline>\n",
       "\t<li>Letrozole</li>\n",
       "\t<li>Placebo</li>\n",
       "\t<li>Co-P</li>\n",
       "\t<li>Co-L</li>\n",
       "</ol>\n",
       "\n",
       "<details>\n",
       "\t<summary style=display:list-item;cursor:pointer>\n",
       "\t\t<strong>Levels</strong>:\n",
       "\t</summary>\n",
       "\t<ol class=list-inline>\n",
       "\t\t<li>'Co-L'</li>\n",
       "\t\t<li>'Co-P'</li>\n",
       "\t\t<li>'Letrozole'</li>\n",
       "\t\t<li>'Placebo'</li>\n",
       "\t</ol>\n",
       "</details>"
      ],
      "text/latex": [
       "\\begin{enumerate*}\n",
       "\\item Letrozole\n",
       "\\item Placebo\n",
       "\\item Co-P\n",
       "\\item Co-L\n",
       "\\end{enumerate*}\n",
       "\n",
       "\\emph{Levels}: \\begin{enumerate*}\n",
       "\\item 'Co-L'\n",
       "\\item 'Co-P'\n",
       "\\item 'Letrozole'\n",
       "\\item 'Placebo'\n",
       "\\end{enumerate*}\n"
      ],
      "text/markdown": [
       "1. Letrozole\n",
       "2. Placebo\n",
       "3. Co-P\n",
       "4. Co-L\n",
       "\n",
       "\n",
       "\n",
       "**Levels**: 1. 'Co-L'\n",
       "2. 'Co-P'\n",
       "3. 'Letrozole'\n",
       "4. 'Placebo'\n",
       "\n",
       "\n"
      ],
      "text/plain": [
       "[1] Letrozole Placebo   Co-P      Co-L     \n",
       "Levels: Co-L Co-P Letrozole Placebo"
      ]
     },
     "metadata": {},
     "output_type": "display_data"
    },
    {
     "data": {
      "text/html": [
       "0\n",
       "<details>\n",
       "\t<summary style=display:list-item;cursor:pointer>\n",
       "\t\t<strong>Levels</strong>:\n",
       "\t</summary>\n",
       "\t'0'\n",
       "</details>"
      ],
      "text/latex": [
       "0\n",
       "\\emph{Levels}: '0'"
      ],
      "text/markdown": [
       "0\n",
       "**Levels**: '0'"
      ],
      "text/plain": [
       "[1] 0\n",
       "Levels: 0"
      ]
     },
     "metadata": {},
     "output_type": "display_data"
    },
    {
     "data": {
      "text/plain": [
       "\n",
       "Permutation test for homogeneity of multivariate dispersions\n",
       "Permutation: free\n",
       "Number of permutations: 999\n",
       "\n",
       "Response: Distances\n",
       "          Df  Sum Sq   Mean Sq      F N.Perm Pr(>F)  \n",
       "Groups     3 0.06867 0.0228898 2.6239    999  0.056 .\n",
       "Residuals 28 0.24426 0.0087235                       \n",
       "---\n",
       "Signif. codes:  0 ‘***’ 0.001 ‘**’ 0.01 ‘*’ 0.05 ‘.’ 0.1 ‘ ’ 1"
      ]
     },
     "metadata": {},
     "output_type": "display_data"
    },
    {
     "data": {
      "text/plain": [
       "\n",
       "Permutation test for homogeneity of multivariate dispersions\n",
       "Permutation: free\n",
       "Number of permutations: 999\n",
       "\n",
       "Response: Distances\n",
       "          Df  Sum Sq   Mean Sq      F N.Perm Pr(>F)  \n",
       "Groups     3 0.06867 0.0228898 2.6239    999  0.044 *\n",
       "Residuals 28 0.24426 0.0087235                       \n",
       "---\n",
       "Signif. codes:  0 ‘***’ 0.001 ‘**’ 0.01 ‘*’ 0.05 ‘.’ 0.1 ‘ ’ 1"
      ]
     },
     "metadata": {},
     "output_type": "display_data"
    },
    {
     "data": {
      "text/html": [
       "<strong>png:</strong> 2"
      ],
      "text/latex": [
       "\\textbf{png:} 2"
      ],
      "text/markdown": [
       "**png:** 2"
      ],
      "text/plain": [
       "png \n",
       "  2 "
      ]
     },
     "metadata": {},
     "output_type": "display_data"
    },
    {
     "data": {
      "text/html": [
       "<ol class=list-inline>\n",
       "\t<li>'BarcodeSequence'</li>\n",
       "\t<li>'LinkerPrimerSequence'</li>\n",
       "\t<li>'filename'</li>\n",
       "\t<li>'ID_OG_MAP'</li>\n",
       "\t<li>'Barcode'</li>\n",
       "\t<li>'adaptor'</li>\n",
       "\t<li>'TSRI_Seq_plate'</li>\n",
       "\t<li>'Well_Position'</li>\n",
       "\t<li>'Sequenc_.Name'</li>\n",
       "\t<li>'Sequence'</li>\n",
       "\t<li>'PCR_Date'</li>\n",
       "\t<li>'Mouse'</li>\n",
       "\t<li>'Cage'</li>\n",
       "\t<li>'Week'</li>\n",
       "\t<li>'mouse.time'</li>\n",
       "\t<li>'Cecum'</li>\n",
       "\t<li>'Category_type_time'</li>\n",
       "\t<li>'weight'</li>\n",
       "\t<li>'Category'</li>\n",
       "\t<li>'type'</li>\n",
       "\t<li>'Lh'</li>\n",
       "\t<li>'Insulin'</li>\n",
       "\t<li>'Testosterone'</li>\n",
       "\t<li>'Weight_g'</li>\n",
       "\t<li>'observed_SVs1250'</li>\n",
       "\t<li>'pielou_e1250'</li>\n",
       "\t<li>'faith_pd1250'</li>\n",
       "\t<li>'shannon1250'</li>\n",
       "\t<li>'FBG'</li>\n",
       "\t<li>'Description'</li>\n",
       "\t<li>'ATTRIBUTE_GNPSDefaultGroup'</li>\n",
       "</ol>\n"
      ],
      "text/latex": [
       "\\begin{enumerate*}\n",
       "\\item 'BarcodeSequence'\n",
       "\\item 'LinkerPrimerSequence'\n",
       "\\item 'filename'\n",
       "\\item 'ID\\_OG\\_MAP'\n",
       "\\item 'Barcode'\n",
       "\\item 'adaptor'\n",
       "\\item 'TSRI\\_Seq\\_plate'\n",
       "\\item 'Well\\_Position'\n",
       "\\item 'Sequenc\\_.Name'\n",
       "\\item 'Sequence'\n",
       "\\item 'PCR\\_Date'\n",
       "\\item 'Mouse'\n",
       "\\item 'Cage'\n",
       "\\item 'Week'\n",
       "\\item 'mouse.time'\n",
       "\\item 'Cecum'\n",
       "\\item 'Category\\_type\\_time'\n",
       "\\item 'weight'\n",
       "\\item 'Category'\n",
       "\\item 'type'\n",
       "\\item 'Lh'\n",
       "\\item 'Insulin'\n",
       "\\item 'Testosterone'\n",
       "\\item 'Weight\\_g'\n",
       "\\item 'observed\\_SVs1250'\n",
       "\\item 'pielou\\_e1250'\n",
       "\\item 'faith\\_pd1250'\n",
       "\\item 'shannon1250'\n",
       "\\item 'FBG'\n",
       "\\item 'Description'\n",
       "\\item 'ATTRIBUTE\\_GNPSDefaultGroup'\n",
       "\\end{enumerate*}\n"
      ],
      "text/markdown": [
       "1. 'BarcodeSequence'\n",
       "2. 'LinkerPrimerSequence'\n",
       "3. 'filename'\n",
       "4. 'ID_OG_MAP'\n",
       "5. 'Barcode'\n",
       "6. 'adaptor'\n",
       "7. 'TSRI_Seq_plate'\n",
       "8. 'Well_Position'\n",
       "9. 'Sequenc_.Name'\n",
       "10. 'Sequence'\n",
       "11. 'PCR_Date'\n",
       "12. 'Mouse'\n",
       "13. 'Cage'\n",
       "14. 'Week'\n",
       "15. 'mouse.time'\n",
       "16. 'Cecum'\n",
       "17. 'Category_type_time'\n",
       "18. 'weight'\n",
       "19. 'Category'\n",
       "20. 'type'\n",
       "21. 'Lh'\n",
       "22. 'Insulin'\n",
       "23. 'Testosterone'\n",
       "24. 'Weight_g'\n",
       "25. 'observed_SVs1250'\n",
       "26. 'pielou_e1250'\n",
       "27. 'faith_pd1250'\n",
       "28. 'shannon1250'\n",
       "29. 'FBG'\n",
       "30. 'Description'\n",
       "31. 'ATTRIBUTE_GNPSDefaultGroup'\n",
       "\n",
       "\n"
      ],
      "text/plain": [
       " [1] \"BarcodeSequence\"            \"LinkerPrimerSequence\"      \n",
       " [3] \"filename\"                   \"ID_OG_MAP\"                 \n",
       " [5] \"Barcode\"                    \"adaptor\"                   \n",
       " [7] \"TSRI_Seq_plate\"             \"Well_Position\"             \n",
       " [9] \"Sequenc_.Name\"              \"Sequence\"                  \n",
       "[11] \"PCR_Date\"                   \"Mouse\"                     \n",
       "[13] \"Cage\"                       \"Week\"                      \n",
       "[15] \"mouse.time\"                 \"Cecum\"                     \n",
       "[17] \"Category_type_time\"         \"weight\"                    \n",
       "[19] \"Category\"                   \"type\"                      \n",
       "[21] \"Lh\"                         \"Insulin\"                   \n",
       "[23] \"Testosterone\"               \"Weight_g\"                  \n",
       "[25] \"observed_SVs1250\"           \"pielou_e1250\"              \n",
       "[27] \"faith_pd1250\"               \"shannon1250\"               \n",
       "[29] \"FBG\"                        \"Description\"               \n",
       "[31] \"ATTRIBUTE_GNPSDefaultGroup\""
      ]
     },
     "metadata": {},
     "output_type": "display_data"
    },
    {
     "data": {
      "text/html": [
       "<table>\n",
       "<thead><tr><th></th><th scope=col>Df</th><th scope=col>SumsOfSqs</th><th scope=col>MeanSqs</th><th scope=col>F.Model</th><th scope=col>R2</th><th scope=col>Pr(&gt;F)</th></tr></thead>\n",
       "<tbody>\n",
       "\t<tr><th scope=row>Category</th><td> 3        </td><td>0.4587321 </td><td>0.1529107 </td><td>0.9581512 </td><td>0.09310136</td><td>0.6336634 </td></tr>\n",
       "\t<tr><th scope=row>Residuals</th><td>28        </td><td>4.4685006 </td><td>0.1595893 </td><td>       NA </td><td>0.90689864</td><td>       NA </td></tr>\n",
       "\t<tr><th scope=row>Total</th><td>31        </td><td>4.9272327 </td><td>       NA </td><td>       NA </td><td>1.00000000</td><td>       NA </td></tr>\n",
       "</tbody>\n",
       "</table>\n"
      ],
      "text/latex": [
       "\\begin{tabular}{r|llllll}\n",
       "  & Df & SumsOfSqs & MeanSqs & F.Model & R2 & Pr(>F)\\\\\n",
       "\\hline\n",
       "\tCategory &  3         & 0.4587321  & 0.1529107  & 0.9581512  & 0.09310136 & 0.6336634 \\\\\n",
       "\tResiduals & 28         & 4.4685006  & 0.1595893  &        NA  & 0.90689864 &        NA \\\\\n",
       "\tTotal & 31         & 4.9272327  &        NA  &        NA  & 1.00000000 &        NA \\\\\n",
       "\\end{tabular}\n"
      ],
      "text/markdown": [
       "\n",
       "| <!--/--> | Df | SumsOfSqs | MeanSqs | F.Model | R2 | Pr(>F) |\n",
       "|---|---|---|---|---|---|---|\n",
       "| Category |  3         | 0.4587321  | 0.1529107  | 0.9581512  | 0.09310136 | 0.6336634  |\n",
       "| Residuals | 28         | 4.4685006  | 0.1595893  |        NA  | 0.90689864 |        NA  |\n",
       "| Total | 31         | 4.9272327  |        NA  |        NA  | 1.00000000 |        NA  |\n",
       "\n"
      ],
      "text/plain": [
       "          Df SumsOfSqs MeanSqs   F.Model   R2         Pr(>F)   \n",
       "Category   3 0.4587321 0.1529107 0.9581512 0.09310136 0.6336634\n",
       "Residuals 28 4.4685006 0.1595893        NA 0.90689864        NA\n",
       "Total     31 4.9272327        NA        NA 1.00000000        NA"
      ]
     },
     "metadata": {},
     "output_type": "display_data"
    },
    {
     "data": {
      "text/html": [
       "<strong>png:</strong> 2"
      ],
      "text/latex": [
       "\\textbf{png:} 2"
      ],
      "text/markdown": [
       "**png:** 2"
      ],
      "text/plain": [
       "png \n",
       "  2 "
      ]
     },
     "metadata": {},
     "output_type": "display_data"
    }
   ],
   "source": [
    "physeq.pt = subset_samples(physeq, Week != 'cecum.T5' & Week != '5' & Week != '1'& Week != '3'& Week != '4'& Week != '2')\n",
    "unique(sample_data(physeq.pt)$Category)\n",
    "unique(sample_data(physeq.pt)$Week)\n",
    "\n",
    "# It is always important to set a seed when you subsample so your result is replicable . Here we will be \n",
    "# subsampling libraries with replacement \n",
    "set.seed(123)\n",
    "        \n",
    " \n",
    "    \n",
    "meta.rarefy <- rarefy_even_depth(physeq.pt, sample.size = 4530000, verbose = FALSE, replace = TRUE)#need to change sample size based off min sequencing depth\n",
    "library('vegan')\n",
    "###############################################\n",
    "#####  PERMANOVA  ############-----------------\n",
    "###############################################\n",
    "\n",
    "#make a data frame from the sample_data (unweighted unifrac)\n",
    "meta.rarefy=subset_samples(meta.rarefy, type == 'fecal')\n",
    "df = as(sample_data(meta.rarefy), \"data.frame\")\n",
    "d = phyloseq::distance(meta.rarefy, \"bray\")\n",
    "\n",
    "#test for homogeneity of data\n",
    "sampledf <- data.frame(sample_data(meta.rarefy))\n",
    "beta <- betadisper(d, sampledf$Category)\n",
    "permutest(beta)\n",
    "\n",
    "CategorybetaDNA <- betadisper(d, sampledf$Category)\n",
    "permutest(CategorybetaDNA)\n",
    "\n",
    "pdf('Metabolite_Cutoff_T0_ellipse.pdf', width=20, height=15)\n",
    "plot(CategorybetaDNA, ellipse = TRUE, hull=F)  \n",
    "dev.off()\n",
    "#now run permanova\n",
    "set.seed(2)\n",
    "GPNMDS = ordinate(meta.rarefy, \"PCoA\", d)\n",
    "sample_variables(meta.rarefy)\n",
    "a=adonis(d ~ Category, as(sample_data(meta.rarefy), \"data.frame\"), permutations=100, method='bray', weighted=FALSE)\n",
    "a$aov.tab\n",
    "\n",
    "cap_ord <- ordinate(\n",
    "    physeq = meta.rarefy, \n",
    "    method = \"CAP\",\n",
    "    distance = \"bray\",\n",
    "    formula = ~ Category \n",
    ")\n",
    "pdf('Metabolite_Cutoff_T0_CAP.pdf', width=15, height=15)\n",
    "cap_plot <- plot_ordination(physeq = meta.rarefy,ordination = cap_ord, \n",
    "    color = \"Category\",shape = \"Category\",axes = c(1,2)) + geom_point(size = 10)+\n",
    "    scale_color_manual(values = c(\"blue\", \"purple\", \"darkgreen\", \"red\", \n",
    "    \"#1919ff\", \"darkorchid3\", \"black\")) + ggtitle(\"CAP: Metabolite T0\") + theme_bw() +\n",
    "    theme(text = element_text(size = 50),\n",
    "    panel.grid.major=element_blank(),\n",
    "    panel.grid.minor=element_blank(), \n",
    "    panel.background=element_rect(colour=\"black\",fill=NA,size=2)) + \n",
    "    scale_shape_manual(values=c(15,18,17,19)) + geom_hline(yintercept=0,colour=\"black\",linetype=\"dashed\") + \n",
    "    geom_vline(xintercept=0,colour=\"black\",linetype=\"dashed\") \n",
    "cap_plot\n",
    "dev.off()"
   ]
  },
  {
   "cell_type": "markdown",
   "metadata": {},
   "source": [
    "# T1"
   ]
  },
  {
   "cell_type": "code",
   "execution_count": 26,
   "metadata": {},
   "outputs": [
    {
     "data": {
      "text/html": [
       "<ol class=list-inline>\n",
       "\t<li>Letrozole</li>\n",
       "\t<li>Co-L</li>\n",
       "\t<li>Placebo</li>\n",
       "\t<li>Co-P</li>\n",
       "</ol>\n",
       "\n",
       "<details>\n",
       "\t<summary style=display:list-item;cursor:pointer>\n",
       "\t\t<strong>Levels</strong>:\n",
       "\t</summary>\n",
       "\t<ol class=list-inline>\n",
       "\t\t<li>'Co-L'</li>\n",
       "\t\t<li>'Co-P'</li>\n",
       "\t\t<li>'Letrozole'</li>\n",
       "\t\t<li>'Placebo'</li>\n",
       "\t</ol>\n",
       "</details>"
      ],
      "text/latex": [
       "\\begin{enumerate*}\n",
       "\\item Letrozole\n",
       "\\item Co-L\n",
       "\\item Placebo\n",
       "\\item Co-P\n",
       "\\end{enumerate*}\n",
       "\n",
       "\\emph{Levels}: \\begin{enumerate*}\n",
       "\\item 'Co-L'\n",
       "\\item 'Co-P'\n",
       "\\item 'Letrozole'\n",
       "\\item 'Placebo'\n",
       "\\end{enumerate*}\n"
      ],
      "text/markdown": [
       "1. Letrozole\n",
       "2. Co-L\n",
       "3. Placebo\n",
       "4. Co-P\n",
       "\n",
       "\n",
       "\n",
       "**Levels**: 1. 'Co-L'\n",
       "2. 'Co-P'\n",
       "3. 'Letrozole'\n",
       "4. 'Placebo'\n",
       "\n",
       "\n"
      ],
      "text/plain": [
       "[1] Letrozole Co-L      Placebo   Co-P     \n",
       "Levels: Co-L Co-P Letrozole Placebo"
      ]
     },
     "metadata": {},
     "output_type": "display_data"
    },
    {
     "data": {
      "text/html": [
       "1\n",
       "<details>\n",
       "\t<summary style=display:list-item;cursor:pointer>\n",
       "\t\t<strong>Levels</strong>:\n",
       "\t</summary>\n",
       "\t'1'\n",
       "</details>"
      ],
      "text/latex": [
       "1\n",
       "\\emph{Levels}: '1'"
      ],
      "text/markdown": [
       "1\n",
       "**Levels**: '1'"
      ],
      "text/plain": [
       "[1] 1\n",
       "Levels: 1"
      ]
     },
     "metadata": {},
     "output_type": "display_data"
    },
    {
     "data": {
      "text/plain": [
       "\n",
       "Permutation test for homogeneity of multivariate dispersions\n",
       "Permutation: free\n",
       "Number of permutations: 999\n",
       "\n",
       "Response: Distances\n",
       "          Df   Sum Sq   Mean Sq      F N.Perm Pr(>F)\n",
       "Groups     3 0.010403 0.0034678 0.9119    999  0.455\n",
       "Residuals 28 0.106474 0.0038026                     "
      ]
     },
     "metadata": {},
     "output_type": "display_data"
    },
    {
     "data": {
      "text/plain": [
       "\n",
       "Permutation test for homogeneity of multivariate dispersions\n",
       "Permutation: free\n",
       "Number of permutations: 999\n",
       "\n",
       "Response: Distances\n",
       "          Df   Sum Sq   Mean Sq      F N.Perm Pr(>F)\n",
       "Groups     3 0.010403 0.0034678 0.9119    999  0.426\n",
       "Residuals 28 0.106474 0.0038026                     "
      ]
     },
     "metadata": {},
     "output_type": "display_data"
    },
    {
     "data": {
      "text/html": [
       "<strong>png:</strong> 2"
      ],
      "text/latex": [
       "\\textbf{png:} 2"
      ],
      "text/markdown": [
       "**png:** 2"
      ],
      "text/plain": [
       "png \n",
       "  2 "
      ]
     },
     "metadata": {},
     "output_type": "display_data"
    },
    {
     "data": {
      "text/html": [
       "<ol class=list-inline>\n",
       "\t<li>'BarcodeSequence'</li>\n",
       "\t<li>'LinkerPrimerSequence'</li>\n",
       "\t<li>'filename'</li>\n",
       "\t<li>'ID_OG_MAP'</li>\n",
       "\t<li>'Barcode'</li>\n",
       "\t<li>'adaptor'</li>\n",
       "\t<li>'TSRI_Seq_plate'</li>\n",
       "\t<li>'Well_Position'</li>\n",
       "\t<li>'Sequenc_.Name'</li>\n",
       "\t<li>'Sequence'</li>\n",
       "\t<li>'PCR_Date'</li>\n",
       "\t<li>'Mouse'</li>\n",
       "\t<li>'Cage'</li>\n",
       "\t<li>'Week'</li>\n",
       "\t<li>'mouse.time'</li>\n",
       "\t<li>'Cecum'</li>\n",
       "\t<li>'Category_type_time'</li>\n",
       "\t<li>'weight'</li>\n",
       "\t<li>'Category'</li>\n",
       "\t<li>'type'</li>\n",
       "\t<li>'Lh'</li>\n",
       "\t<li>'Insulin'</li>\n",
       "\t<li>'Testosterone'</li>\n",
       "\t<li>'Weight_g'</li>\n",
       "\t<li>'observed_SVs1250'</li>\n",
       "\t<li>'pielou_e1250'</li>\n",
       "\t<li>'faith_pd1250'</li>\n",
       "\t<li>'shannon1250'</li>\n",
       "\t<li>'FBG'</li>\n",
       "\t<li>'Description'</li>\n",
       "\t<li>'ATTRIBUTE_GNPSDefaultGroup'</li>\n",
       "</ol>\n"
      ],
      "text/latex": [
       "\\begin{enumerate*}\n",
       "\\item 'BarcodeSequence'\n",
       "\\item 'LinkerPrimerSequence'\n",
       "\\item 'filename'\n",
       "\\item 'ID\\_OG\\_MAP'\n",
       "\\item 'Barcode'\n",
       "\\item 'adaptor'\n",
       "\\item 'TSRI\\_Seq\\_plate'\n",
       "\\item 'Well\\_Position'\n",
       "\\item 'Sequenc\\_.Name'\n",
       "\\item 'Sequence'\n",
       "\\item 'PCR\\_Date'\n",
       "\\item 'Mouse'\n",
       "\\item 'Cage'\n",
       "\\item 'Week'\n",
       "\\item 'mouse.time'\n",
       "\\item 'Cecum'\n",
       "\\item 'Category\\_type\\_time'\n",
       "\\item 'weight'\n",
       "\\item 'Category'\n",
       "\\item 'type'\n",
       "\\item 'Lh'\n",
       "\\item 'Insulin'\n",
       "\\item 'Testosterone'\n",
       "\\item 'Weight\\_g'\n",
       "\\item 'observed\\_SVs1250'\n",
       "\\item 'pielou\\_e1250'\n",
       "\\item 'faith\\_pd1250'\n",
       "\\item 'shannon1250'\n",
       "\\item 'FBG'\n",
       "\\item 'Description'\n",
       "\\item 'ATTRIBUTE\\_GNPSDefaultGroup'\n",
       "\\end{enumerate*}\n"
      ],
      "text/markdown": [
       "1. 'BarcodeSequence'\n",
       "2. 'LinkerPrimerSequence'\n",
       "3. 'filename'\n",
       "4. 'ID_OG_MAP'\n",
       "5. 'Barcode'\n",
       "6. 'adaptor'\n",
       "7. 'TSRI_Seq_plate'\n",
       "8. 'Well_Position'\n",
       "9. 'Sequenc_.Name'\n",
       "10. 'Sequence'\n",
       "11. 'PCR_Date'\n",
       "12. 'Mouse'\n",
       "13. 'Cage'\n",
       "14. 'Week'\n",
       "15. 'mouse.time'\n",
       "16. 'Cecum'\n",
       "17. 'Category_type_time'\n",
       "18. 'weight'\n",
       "19. 'Category'\n",
       "20. 'type'\n",
       "21. 'Lh'\n",
       "22. 'Insulin'\n",
       "23. 'Testosterone'\n",
       "24. 'Weight_g'\n",
       "25. 'observed_SVs1250'\n",
       "26. 'pielou_e1250'\n",
       "27. 'faith_pd1250'\n",
       "28. 'shannon1250'\n",
       "29. 'FBG'\n",
       "30. 'Description'\n",
       "31. 'ATTRIBUTE_GNPSDefaultGroup'\n",
       "\n",
       "\n"
      ],
      "text/plain": [
       " [1] \"BarcodeSequence\"            \"LinkerPrimerSequence\"      \n",
       " [3] \"filename\"                   \"ID_OG_MAP\"                 \n",
       " [5] \"Barcode\"                    \"adaptor\"                   \n",
       " [7] \"TSRI_Seq_plate\"             \"Well_Position\"             \n",
       " [9] \"Sequenc_.Name\"              \"Sequence\"                  \n",
       "[11] \"PCR_Date\"                   \"Mouse\"                     \n",
       "[13] \"Cage\"                       \"Week\"                      \n",
       "[15] \"mouse.time\"                 \"Cecum\"                     \n",
       "[17] \"Category_type_time\"         \"weight\"                    \n",
       "[19] \"Category\"                   \"type\"                      \n",
       "[21] \"Lh\"                         \"Insulin\"                   \n",
       "[23] \"Testosterone\"               \"Weight_g\"                  \n",
       "[25] \"observed_SVs1250\"           \"pielou_e1250\"              \n",
       "[27] \"faith_pd1250\"               \"shannon1250\"               \n",
       "[29] \"FBG\"                        \"Description\"               \n",
       "[31] \"ATTRIBUTE_GNPSDefaultGroup\""
      ]
     },
     "metadata": {},
     "output_type": "display_data"
    },
    {
     "data": {
      "text/html": [
       "<table>\n",
       "<thead><tr><th></th><th scope=col>Df</th><th scope=col>SumsOfSqs</th><th scope=col>MeanSqs</th><th scope=col>F.Model</th><th scope=col>R2</th><th scope=col>Pr(&gt;F)</th></tr></thead>\n",
       "<tbody>\n",
       "\t<tr><th scope=row>Category</th><td> 3        </td><td>0.7027586 </td><td>0.2342529 </td><td>1.703505  </td><td>0.1543472 </td><td>0.00990099</td></tr>\n",
       "\t<tr><th scope=row>Residuals</th><td>28        </td><td>3.8503435 </td><td>0.1375123 </td><td>      NA  </td><td>0.8456528 </td><td>        NA</td></tr>\n",
       "\t<tr><th scope=row>Total</th><td>31        </td><td>4.5531021 </td><td>       NA </td><td>      NA  </td><td>1.0000000 </td><td>        NA</td></tr>\n",
       "</tbody>\n",
       "</table>\n"
      ],
      "text/latex": [
       "\\begin{tabular}{r|llllll}\n",
       "  & Df & SumsOfSqs & MeanSqs & F.Model & R2 & Pr(>F)\\\\\n",
       "\\hline\n",
       "\tCategory &  3         & 0.7027586  & 0.2342529  & 1.703505   & 0.1543472  & 0.00990099\\\\\n",
       "\tResiduals & 28         & 3.8503435  & 0.1375123  &       NA   & 0.8456528  &         NA\\\\\n",
       "\tTotal & 31         & 4.5531021  &        NA  &       NA   & 1.0000000  &         NA\\\\\n",
       "\\end{tabular}\n"
      ],
      "text/markdown": [
       "\n",
       "| <!--/--> | Df | SumsOfSqs | MeanSqs | F.Model | R2 | Pr(>F) |\n",
       "|---|---|---|---|---|---|---|\n",
       "| Category |  3         | 0.7027586  | 0.2342529  | 1.703505   | 0.1543472  | 0.00990099 |\n",
       "| Residuals | 28         | 3.8503435  | 0.1375123  |       NA   | 0.8456528  |         NA |\n",
       "| Total | 31         | 4.5531021  |        NA  |       NA   | 1.0000000  |         NA |\n",
       "\n"
      ],
      "text/plain": [
       "          Df SumsOfSqs MeanSqs   F.Model  R2        Pr(>F)    \n",
       "Category   3 0.7027586 0.2342529 1.703505 0.1543472 0.00990099\n",
       "Residuals 28 3.8503435 0.1375123       NA 0.8456528         NA\n",
       "Total     31 4.5531021        NA       NA 1.0000000         NA"
      ]
     },
     "metadata": {},
     "output_type": "display_data"
    },
    {
     "data": {
      "text/html": [
       "<strong>png:</strong> 2"
      ],
      "text/latex": [
       "\\textbf{png:} 2"
      ],
      "text/markdown": [
       "**png:** 2"
      ],
      "text/plain": [
       "png \n",
       "  2 "
      ]
     },
     "metadata": {},
     "output_type": "display_data"
    }
   ],
   "source": [
    "physeq.pt = subset_samples(physeq, Week != 'cecum.T5' & Week != '5' & Week != '0'& Week != '3'& Week != '4'& Week != '2')\n",
    "unique(sample_data(physeq.pt)$Category)\n",
    "unique(sample_data(physeq.pt)$Week)\n",
    "\n",
    "# It is always important to set a seed when you subsample so your result is replicable . Here we will be \n",
    "# subsampling libraries with replacement \n",
    "set.seed(123)\n",
    "        \n",
    " \n",
    "    \n",
    "meta.rarefy <- rarefy_even_depth(physeq.pt, sample.size = 4530000, verbose = FALSE, replace = TRUE)#need to change sample size based off min sequencing depth\n",
    "library('vegan')\n",
    "###############################################\n",
    "#####  PERMANOVA  ############-----------------\n",
    "###############################################\n",
    "\n",
    "#make a data frame from the sample_data (unweighted unifrac)\n",
    "meta.rarefy=subset_samples(meta.rarefy, type == 'fecal')\n",
    "df = as(sample_data(meta.rarefy), \"data.frame\")\n",
    "d = phyloseq::distance(meta.rarefy, \"bray\")\n",
    "\n",
    "#test for homogeneity of data\n",
    "sampledf <- data.frame(sample_data(meta.rarefy))\n",
    "beta <- betadisper(d, sampledf$Category)\n",
    "permutest(beta)\n",
    "\n",
    "CategorybetaDNA <- betadisper(d, sampledf$Category)\n",
    "permutest(CategorybetaDNA)\n",
    "\n",
    "pdf('Metabolite_Cutoff_T1_ellipse.pdf', width=20, height=15)\n",
    "plot(CategorybetaDNA, ellipse = TRUE, hull=F)  \n",
    "dev.off()\n",
    "#now run permanova\n",
    "set.seed(2)\n",
    "GPNMDS = ordinate(meta.rarefy, \"PCoA\", d)\n",
    "sample_variables(meta.rarefy)\n",
    "a=adonis(d ~ Category, as(sample_data(meta.rarefy), \"data.frame\"), permutations=100, method='bray', weighted=FALSE)\n",
    "a$aov.tab\n",
    "\n",
    "cap_ord <- ordinate(\n",
    "    physeq = meta.rarefy, \n",
    "    method = \"CAP\",\n",
    "    distance = \"bray\",\n",
    "    formula = ~ Category \n",
    ")\n",
    "pdf('Metabolite_Cutoff_T1_CAP.pdf', width=15, height=15)\n",
    "cap_plot <- plot_ordination(physeq = meta.rarefy,ordination = cap_ord, \n",
    "    color = \"Category\",shape = \"Category\",axes = c(1,2)) + geom_point(size = 10)+\n",
    "    scale_color_manual(values = c(\"blue\", \"purple\", \"darkgreen\", \"red\", \n",
    "    \"#1919ff\", \"darkorchid3\", \"black\")) + ggtitle(\"CAP: Metabolite T1\") + theme_bw() +\n",
    "    theme(text = element_text(size = 50),\n",
    "    panel.grid.major=element_blank(),\n",
    "    panel.grid.minor=element_blank(), \n",
    "    panel.background=element_rect(colour=\"black\",fill=NA,size=2)) + \n",
    "    scale_shape_manual(values=c(15,18,17,19)) + geom_hline(yintercept=0,colour=\"black\",linetype=\"dashed\") + \n",
    "    geom_vline(xintercept=0,colour=\"black\",linetype=\"dashed\") \n",
    "cap_plot\n",
    "dev.off()"
   ]
  },
  {
   "cell_type": "markdown",
   "metadata": {},
   "source": [
    "# T3"
   ]
  },
  {
   "cell_type": "code",
   "execution_count": 4,
   "metadata": {},
   "outputs": [
    {
     "data": {
      "text/html": [
       "<ol class=list-inline>\n",
       "\t<li>Placebo</li>\n",
       "\t<li>Co-L</li>\n",
       "\t<li>Letrozole</li>\n",
       "\t<li>Co-P</li>\n",
       "</ol>\n",
       "\n",
       "<details>\n",
       "\t<summary style=display:list-item;cursor:pointer>\n",
       "\t\t<strong>Levels</strong>:\n",
       "\t</summary>\n",
       "\t<ol class=list-inline>\n",
       "\t\t<li>'Co-L'</li>\n",
       "\t\t<li>'Co-P'</li>\n",
       "\t\t<li>'Letrozole'</li>\n",
       "\t\t<li>'Placebo'</li>\n",
       "\t</ol>\n",
       "</details>"
      ],
      "text/latex": [
       "\\begin{enumerate*}\n",
       "\\item Placebo\n",
       "\\item Co-L\n",
       "\\item Letrozole\n",
       "\\item Co-P\n",
       "\\end{enumerate*}\n",
       "\n",
       "\\emph{Levels}: \\begin{enumerate*}\n",
       "\\item 'Co-L'\n",
       "\\item 'Co-P'\n",
       "\\item 'Letrozole'\n",
       "\\item 'Placebo'\n",
       "\\end{enumerate*}\n"
      ],
      "text/markdown": [
       "1. Placebo\n",
       "2. Co-L\n",
       "3. Letrozole\n",
       "4. Co-P\n",
       "\n",
       "\n",
       "\n",
       "**Levels**: 1. 'Co-L'\n",
       "2. 'Co-P'\n",
       "3. 'Letrozole'\n",
       "4. 'Placebo'\n",
       "\n",
       "\n"
      ],
      "text/plain": [
       "[1] Placebo   Co-L      Letrozole Co-P     \n",
       "Levels: Co-L Co-P Letrozole Placebo"
      ]
     },
     "metadata": {},
     "output_type": "display_data"
    },
    {
     "data": {
      "text/html": [
       "3\n",
       "<details>\n",
       "\t<summary style=display:list-item;cursor:pointer>\n",
       "\t\t<strong>Levels</strong>:\n",
       "\t</summary>\n",
       "\t'3'\n",
       "</details>"
      ],
      "text/latex": [
       "3\n",
       "\\emph{Levels}: '3'"
      ],
      "text/markdown": [
       "3\n",
       "**Levels**: '3'"
      ],
      "text/plain": [
       "[1] 3\n",
       "Levels: 3"
      ]
     },
     "metadata": {},
     "output_type": "display_data"
    },
    {
     "data": {
      "text/plain": [
       "\n",
       "Permutation test for homogeneity of multivariate dispersions\n",
       "Permutation: free\n",
       "Number of permutations: 999\n",
       "\n",
       "Response: Distances\n",
       "          Df   Sum Sq   Mean Sq      F N.Perm Pr(>F)\n",
       "Groups     3 0.006584 0.0021945 0.4507    999  0.705\n",
       "Residuals 28 0.136351 0.0048697                     "
      ]
     },
     "metadata": {},
     "output_type": "display_data"
    },
    {
     "data": {
      "text/plain": [
       "\n",
       "Permutation test for homogeneity of multivariate dispersions\n",
       "Permutation: free\n",
       "Number of permutations: 999\n",
       "\n",
       "Response: Distances\n",
       "          Df   Sum Sq   Mean Sq      F N.Perm Pr(>F)\n",
       "Groups     3 0.006584 0.0021945 0.4507    999  0.733\n",
       "Residuals 28 0.136351 0.0048697                     "
      ]
     },
     "metadata": {},
     "output_type": "display_data"
    },
    {
     "data": {
      "text/html": [
       "<strong>png:</strong> 2"
      ],
      "text/latex": [
       "\\textbf{png:} 2"
      ],
      "text/markdown": [
       "**png:** 2"
      ],
      "text/plain": [
       "png \n",
       "  2 "
      ]
     },
     "metadata": {},
     "output_type": "display_data"
    },
    {
     "data": {
      "text/html": [
       "<ol class=list-inline>\n",
       "\t<li>'BarcodeSequence'</li>\n",
       "\t<li>'LinkerPrimerSequence'</li>\n",
       "\t<li>'filename'</li>\n",
       "\t<li>'ID_OG_MAP'</li>\n",
       "\t<li>'Barcode'</li>\n",
       "\t<li>'adaptor'</li>\n",
       "\t<li>'TSRI_Seq_plate'</li>\n",
       "\t<li>'Well_Position'</li>\n",
       "\t<li>'Sequenc_.Name'</li>\n",
       "\t<li>'Sequence'</li>\n",
       "\t<li>'PCR_Date'</li>\n",
       "\t<li>'Mouse'</li>\n",
       "\t<li>'Cage'</li>\n",
       "\t<li>'Week'</li>\n",
       "\t<li>'mouse.time'</li>\n",
       "\t<li>'Cecum'</li>\n",
       "\t<li>'Category_type_time'</li>\n",
       "\t<li>'weight'</li>\n",
       "\t<li>'Category'</li>\n",
       "\t<li>'type'</li>\n",
       "\t<li>'Lh'</li>\n",
       "\t<li>'Insulin'</li>\n",
       "\t<li>'Testosterone'</li>\n",
       "\t<li>'Weight_g'</li>\n",
       "\t<li>'observed_SVs1250'</li>\n",
       "\t<li>'pielou_e1250'</li>\n",
       "\t<li>'faith_pd1250'</li>\n",
       "\t<li>'shannon1250'</li>\n",
       "\t<li>'FBG'</li>\n",
       "\t<li>'Description'</li>\n",
       "\t<li>'ATTRIBUTE_GNPSDefaultGroup'</li>\n",
       "</ol>\n"
      ],
      "text/latex": [
       "\\begin{enumerate*}\n",
       "\\item 'BarcodeSequence'\n",
       "\\item 'LinkerPrimerSequence'\n",
       "\\item 'filename'\n",
       "\\item 'ID\\_OG\\_MAP'\n",
       "\\item 'Barcode'\n",
       "\\item 'adaptor'\n",
       "\\item 'TSRI\\_Seq\\_plate'\n",
       "\\item 'Well\\_Position'\n",
       "\\item 'Sequenc\\_.Name'\n",
       "\\item 'Sequence'\n",
       "\\item 'PCR\\_Date'\n",
       "\\item 'Mouse'\n",
       "\\item 'Cage'\n",
       "\\item 'Week'\n",
       "\\item 'mouse.time'\n",
       "\\item 'Cecum'\n",
       "\\item 'Category\\_type\\_time'\n",
       "\\item 'weight'\n",
       "\\item 'Category'\n",
       "\\item 'type'\n",
       "\\item 'Lh'\n",
       "\\item 'Insulin'\n",
       "\\item 'Testosterone'\n",
       "\\item 'Weight\\_g'\n",
       "\\item 'observed\\_SVs1250'\n",
       "\\item 'pielou\\_e1250'\n",
       "\\item 'faith\\_pd1250'\n",
       "\\item 'shannon1250'\n",
       "\\item 'FBG'\n",
       "\\item 'Description'\n",
       "\\item 'ATTRIBUTE\\_GNPSDefaultGroup'\n",
       "\\end{enumerate*}\n"
      ],
      "text/markdown": [
       "1. 'BarcodeSequence'\n",
       "2. 'LinkerPrimerSequence'\n",
       "3. 'filename'\n",
       "4. 'ID_OG_MAP'\n",
       "5. 'Barcode'\n",
       "6. 'adaptor'\n",
       "7. 'TSRI_Seq_plate'\n",
       "8. 'Well_Position'\n",
       "9. 'Sequenc_.Name'\n",
       "10. 'Sequence'\n",
       "11. 'PCR_Date'\n",
       "12. 'Mouse'\n",
       "13. 'Cage'\n",
       "14. 'Week'\n",
       "15. 'mouse.time'\n",
       "16. 'Cecum'\n",
       "17. 'Category_type_time'\n",
       "18. 'weight'\n",
       "19. 'Category'\n",
       "20. 'type'\n",
       "21. 'Lh'\n",
       "22. 'Insulin'\n",
       "23. 'Testosterone'\n",
       "24. 'Weight_g'\n",
       "25. 'observed_SVs1250'\n",
       "26. 'pielou_e1250'\n",
       "27. 'faith_pd1250'\n",
       "28. 'shannon1250'\n",
       "29. 'FBG'\n",
       "30. 'Description'\n",
       "31. 'ATTRIBUTE_GNPSDefaultGroup'\n",
       "\n",
       "\n"
      ],
      "text/plain": [
       " [1] \"BarcodeSequence\"            \"LinkerPrimerSequence\"      \n",
       " [3] \"filename\"                   \"ID_OG_MAP\"                 \n",
       " [5] \"Barcode\"                    \"adaptor\"                   \n",
       " [7] \"TSRI_Seq_plate\"             \"Well_Position\"             \n",
       " [9] \"Sequenc_.Name\"              \"Sequence\"                  \n",
       "[11] \"PCR_Date\"                   \"Mouse\"                     \n",
       "[13] \"Cage\"                       \"Week\"                      \n",
       "[15] \"mouse.time\"                 \"Cecum\"                     \n",
       "[17] \"Category_type_time\"         \"weight\"                    \n",
       "[19] \"Category\"                   \"type\"                      \n",
       "[21] \"Lh\"                         \"Insulin\"                   \n",
       "[23] \"Testosterone\"               \"Weight_g\"                  \n",
       "[25] \"observed_SVs1250\"           \"pielou_e1250\"              \n",
       "[27] \"faith_pd1250\"               \"shannon1250\"               \n",
       "[29] \"FBG\"                        \"Description\"               \n",
       "[31] \"ATTRIBUTE_GNPSDefaultGroup\""
      ]
     },
     "metadata": {},
     "output_type": "display_data"
    },
    {
     "data": {
      "text/html": [
       "<table>\n",
       "<thead><tr><th></th><th scope=col>Df</th><th scope=col>SumsOfSqs</th><th scope=col>MeanSqs</th><th scope=col>F.Model</th><th scope=col>R2</th><th scope=col>Pr(&gt;F)</th></tr></thead>\n",
       "<tbody>\n",
       "\t<tr><th scope=row>Category</th><td> 3        </td><td>0.597882  </td><td>0.1992940 </td><td>1.435459  </td><td>0.133298  </td><td>0.03960396</td></tr>\n",
       "\t<tr><th scope=row>Residuals</th><td>28        </td><td>3.887421  </td><td>0.1388365 </td><td>      NA  </td><td>0.866702  </td><td>        NA</td></tr>\n",
       "\t<tr><th scope=row>Total</th><td>31        </td><td>4.485303  </td><td>       NA </td><td>      NA  </td><td>1.000000  </td><td>        NA</td></tr>\n",
       "</tbody>\n",
       "</table>\n"
      ],
      "text/latex": [
       "\\begin{tabular}{r|llllll}\n",
       "  & Df & SumsOfSqs & MeanSqs & F.Model & R2 & Pr(>F)\\\\\n",
       "\\hline\n",
       "\tCategory &  3         & 0.597882   & 0.1992940  & 1.435459   & 0.133298   & 0.03960396\\\\\n",
       "\tResiduals & 28         & 3.887421   & 0.1388365  &       NA   & 0.866702   &         NA\\\\\n",
       "\tTotal & 31         & 4.485303   &        NA  &       NA   & 1.000000   &         NA\\\\\n",
       "\\end{tabular}\n"
      ],
      "text/markdown": [
       "\n",
       "| <!--/--> | Df | SumsOfSqs | MeanSqs | F.Model | R2 | Pr(>F) |\n",
       "|---|---|---|---|---|---|---|\n",
       "| Category |  3         | 0.597882   | 0.1992940  | 1.435459   | 0.133298   | 0.03960396 |\n",
       "| Residuals | 28         | 3.887421   | 0.1388365  |       NA   | 0.866702   |         NA |\n",
       "| Total | 31         | 4.485303   |        NA  |       NA   | 1.000000   |         NA |\n",
       "\n"
      ],
      "text/plain": [
       "          Df SumsOfSqs MeanSqs   F.Model  R2       Pr(>F)    \n",
       "Category   3 0.597882  0.1992940 1.435459 0.133298 0.03960396\n",
       "Residuals 28 3.887421  0.1388365       NA 0.866702         NA\n",
       "Total     31 4.485303         NA       NA 1.000000         NA"
      ]
     },
     "metadata": {},
     "output_type": "display_data"
    },
    {
     "data": {
      "text/html": [
       "<strong>png:</strong> 2"
      ],
      "text/latex": [
       "\\textbf{png:} 2"
      ],
      "text/markdown": [
       "**png:** 2"
      ],
      "text/plain": [
       "png \n",
       "  2 "
      ]
     },
     "metadata": {},
     "output_type": "display_data"
    }
   ],
   "source": [
    "physeq.pt = subset_samples(physeq, Week != 'cecum.T5' & Week != '5' & Week != '1'& Week != '0'& Week != '4'& Week != '2')\n",
    "unique(sample_data(physeq.pt)$Category)\n",
    "unique(sample_data(physeq.pt)$Week)\n",
    "\n",
    "# It is always important to set a seed when you subsample so your result is replicable . Here we will be \n",
    "# subsampling libraries with replacement \n",
    "set.seed(123)\n",
    "        \n",
    " \n",
    "    \n",
    "meta.rarefy <- rarefy_even_depth(physeq.pt, sample.size = 4530000, verbose = FALSE, replace = TRUE)#need to change sample size based off min sequencing depth\n",
    "library('vegan')\n",
    "###############################################\n",
    "#####  PERMANOVA  ############-----------------\n",
    "###############################################\n",
    "\n",
    "#make a data frame from the sample_data (unweighted unifrac)\n",
    "meta.rarefy=subset_samples(meta.rarefy, type == 'fecal')\n",
    "df = as(sample_data(meta.rarefy), \"data.frame\")\n",
    "d = phyloseq::distance(meta.rarefy, \"bray\")\n",
    "\n",
    "#test for homogeneity of data\n",
    "sampledf <- data.frame(sample_data(meta.rarefy))\n",
    "beta <- betadisper(d, sampledf$Category)\n",
    "permutest(beta)\n",
    "\n",
    "CategorybetaDNA <- betadisper(d, sampledf$Category)\n",
    "permutest(CategorybetaDNA)\n",
    "\n",
    "pdf('Metabolite_Cutoff_T3_ellipse.pdf', width=20, height=15)\n",
    "plot(CategorybetaDNA, ellipse = TRUE, hull=F)  \n",
    "dev.off()\n",
    "#now run permanova\n",
    "set.seed(2)\n",
    "GPNMDS = ordinate(meta.rarefy, \"PCoA\", d)\n",
    "sample_variables(meta.rarefy)\n",
    "a=adonis(d ~ Category, as(sample_data(meta.rarefy), \"data.frame\"), permutations=100, method='bray', weighted=FALSE)\n",
    "a$aov.tab\n",
    "\n",
    "cap_ord <- ordinate(\n",
    "    physeq = meta.rarefy, \n",
    "    method = \"CAP\",\n",
    "    distance = \"bray\",\n",
    "    formula = ~ Category \n",
    ")\n",
    "pdf('Metabolite_Cutoff_T3_CAP.pdf', width=15, height=15)\n",
    "cap_plot <- plot_ordination(physeq = meta.rarefy,ordination = cap_ord, \n",
    "    color = \"Category\",shape = \"Category\",axes = c(1,2)) + geom_point(size = 10)+\n",
    "    scale_color_manual(values = c(\"blue\", \"purple\", \"darkgreen\", \"red\", \n",
    "    \"#1919ff\", \"darkorchid3\", \"black\")) + ggtitle(\"CAP: Metabolite T3\") + theme_bw() +\n",
    "    theme(text = element_text(size = 50),\n",
    "    panel.grid.major=element_blank(),\n",
    "    panel.grid.minor=element_blank(), \n",
    "    panel.background=element_rect(colour=\"black\",fill=NA,size=2)) + \n",
    "    scale_shape_manual(values=c(15,18,17,19)) + geom_hline(yintercept=0,colour=\"black\",linetype=\"dashed\") + \n",
    "    geom_vline(xintercept=0,colour=\"black\",linetype=\"dashed\") \n",
    "cap_plot\n",
    "dev.off()"
   ]
  },
  {
   "cell_type": "markdown",
   "metadata": {},
   "source": [
    "# T4"
   ]
  },
  {
   "cell_type": "code",
   "execution_count": 6,
   "metadata": {},
   "outputs": [
    {
     "data": {
      "text/html": [
       "<ol class=list-inline>\n",
       "\t<li>Letrozole</li>\n",
       "\t<li>Co-P</li>\n",
       "\t<li>Placebo</li>\n",
       "\t<li>Co-L</li>\n",
       "</ol>\n",
       "\n",
       "<details>\n",
       "\t<summary style=display:list-item;cursor:pointer>\n",
       "\t\t<strong>Levels</strong>:\n",
       "\t</summary>\n",
       "\t<ol class=list-inline>\n",
       "\t\t<li>'Co-L'</li>\n",
       "\t\t<li>'Co-P'</li>\n",
       "\t\t<li>'Letrozole'</li>\n",
       "\t\t<li>'Placebo'</li>\n",
       "\t</ol>\n",
       "</details>"
      ],
      "text/latex": [
       "\\begin{enumerate*}\n",
       "\\item Letrozole\n",
       "\\item Co-P\n",
       "\\item Placebo\n",
       "\\item Co-L\n",
       "\\end{enumerate*}\n",
       "\n",
       "\\emph{Levels}: \\begin{enumerate*}\n",
       "\\item 'Co-L'\n",
       "\\item 'Co-P'\n",
       "\\item 'Letrozole'\n",
       "\\item 'Placebo'\n",
       "\\end{enumerate*}\n"
      ],
      "text/markdown": [
       "1. Letrozole\n",
       "2. Co-P\n",
       "3. Placebo\n",
       "4. Co-L\n",
       "\n",
       "\n",
       "\n",
       "**Levels**: 1. 'Co-L'\n",
       "2. 'Co-P'\n",
       "3. 'Letrozole'\n",
       "4. 'Placebo'\n",
       "\n",
       "\n"
      ],
      "text/plain": [
       "[1] Letrozole Co-P      Placebo   Co-L     \n",
       "Levels: Co-L Co-P Letrozole Placebo"
      ]
     },
     "metadata": {},
     "output_type": "display_data"
    },
    {
     "data": {
      "text/html": [
       "4\n",
       "<details>\n",
       "\t<summary style=display:list-item;cursor:pointer>\n",
       "\t\t<strong>Levels</strong>:\n",
       "\t</summary>\n",
       "\t'4'\n",
       "</details>"
      ],
      "text/latex": [
       "4\n",
       "\\emph{Levels}: '4'"
      ],
      "text/markdown": [
       "4\n",
       "**Levels**: '4'"
      ],
      "text/plain": [
       "[1] 4\n",
       "Levels: 4"
      ]
     },
     "metadata": {},
     "output_type": "display_data"
    },
    {
     "data": {
      "text/plain": [
       "\n",
       "Permutation test for homogeneity of multivariate dispersions\n",
       "Permutation: free\n",
       "Number of permutations: 999\n",
       "\n",
       "Response: Distances\n",
       "          Df   Sum Sq   Mean Sq      F N.Perm Pr(>F)\n",
       "Groups     3 0.007386 0.0024621 0.7452    999  0.539\n",
       "Residuals 28 0.092512 0.0033040                     "
      ]
     },
     "metadata": {},
     "output_type": "display_data"
    },
    {
     "data": {
      "text/plain": [
       "\n",
       "Permutation test for homogeneity of multivariate dispersions\n",
       "Permutation: free\n",
       "Number of permutations: 999\n",
       "\n",
       "Response: Distances\n",
       "          Df   Sum Sq   Mean Sq      F N.Perm Pr(>F)\n",
       "Groups     3 0.007386 0.0024621 0.7452    999  0.511\n",
       "Residuals 28 0.092512 0.0033040                     "
      ]
     },
     "metadata": {},
     "output_type": "display_data"
    },
    {
     "data": {
      "text/html": [
       "<strong>png:</strong> 2"
      ],
      "text/latex": [
       "\\textbf{png:} 2"
      ],
      "text/markdown": [
       "**png:** 2"
      ],
      "text/plain": [
       "png \n",
       "  2 "
      ]
     },
     "metadata": {},
     "output_type": "display_data"
    },
    {
     "data": {
      "text/html": [
       "<ol class=list-inline>\n",
       "\t<li>'BarcodeSequence'</li>\n",
       "\t<li>'LinkerPrimerSequence'</li>\n",
       "\t<li>'filename'</li>\n",
       "\t<li>'ID_OG_MAP'</li>\n",
       "\t<li>'Barcode'</li>\n",
       "\t<li>'adaptor'</li>\n",
       "\t<li>'TSRI_Seq_plate'</li>\n",
       "\t<li>'Well_Position'</li>\n",
       "\t<li>'Sequenc_.Name'</li>\n",
       "\t<li>'Sequence'</li>\n",
       "\t<li>'PCR_Date'</li>\n",
       "\t<li>'Mouse'</li>\n",
       "\t<li>'Cage'</li>\n",
       "\t<li>'Week'</li>\n",
       "\t<li>'mouse.time'</li>\n",
       "\t<li>'Cecum'</li>\n",
       "\t<li>'Category_type_time'</li>\n",
       "\t<li>'weight'</li>\n",
       "\t<li>'Category'</li>\n",
       "\t<li>'type'</li>\n",
       "\t<li>'Lh'</li>\n",
       "\t<li>'Insulin'</li>\n",
       "\t<li>'Testosterone'</li>\n",
       "\t<li>'Weight_g'</li>\n",
       "\t<li>'observed_SVs1250'</li>\n",
       "\t<li>'pielou_e1250'</li>\n",
       "\t<li>'faith_pd1250'</li>\n",
       "\t<li>'shannon1250'</li>\n",
       "\t<li>'FBG'</li>\n",
       "\t<li>'Description'</li>\n",
       "\t<li>'ATTRIBUTE_GNPSDefaultGroup'</li>\n",
       "</ol>\n"
      ],
      "text/latex": [
       "\\begin{enumerate*}\n",
       "\\item 'BarcodeSequence'\n",
       "\\item 'LinkerPrimerSequence'\n",
       "\\item 'filename'\n",
       "\\item 'ID\\_OG\\_MAP'\n",
       "\\item 'Barcode'\n",
       "\\item 'adaptor'\n",
       "\\item 'TSRI\\_Seq\\_plate'\n",
       "\\item 'Well\\_Position'\n",
       "\\item 'Sequenc\\_.Name'\n",
       "\\item 'Sequence'\n",
       "\\item 'PCR\\_Date'\n",
       "\\item 'Mouse'\n",
       "\\item 'Cage'\n",
       "\\item 'Week'\n",
       "\\item 'mouse.time'\n",
       "\\item 'Cecum'\n",
       "\\item 'Category\\_type\\_time'\n",
       "\\item 'weight'\n",
       "\\item 'Category'\n",
       "\\item 'type'\n",
       "\\item 'Lh'\n",
       "\\item 'Insulin'\n",
       "\\item 'Testosterone'\n",
       "\\item 'Weight\\_g'\n",
       "\\item 'observed\\_SVs1250'\n",
       "\\item 'pielou\\_e1250'\n",
       "\\item 'faith\\_pd1250'\n",
       "\\item 'shannon1250'\n",
       "\\item 'FBG'\n",
       "\\item 'Description'\n",
       "\\item 'ATTRIBUTE\\_GNPSDefaultGroup'\n",
       "\\end{enumerate*}\n"
      ],
      "text/markdown": [
       "1. 'BarcodeSequence'\n",
       "2. 'LinkerPrimerSequence'\n",
       "3. 'filename'\n",
       "4. 'ID_OG_MAP'\n",
       "5. 'Barcode'\n",
       "6. 'adaptor'\n",
       "7. 'TSRI_Seq_plate'\n",
       "8. 'Well_Position'\n",
       "9. 'Sequenc_.Name'\n",
       "10. 'Sequence'\n",
       "11. 'PCR_Date'\n",
       "12. 'Mouse'\n",
       "13. 'Cage'\n",
       "14. 'Week'\n",
       "15. 'mouse.time'\n",
       "16. 'Cecum'\n",
       "17. 'Category_type_time'\n",
       "18. 'weight'\n",
       "19. 'Category'\n",
       "20. 'type'\n",
       "21. 'Lh'\n",
       "22. 'Insulin'\n",
       "23. 'Testosterone'\n",
       "24. 'Weight_g'\n",
       "25. 'observed_SVs1250'\n",
       "26. 'pielou_e1250'\n",
       "27. 'faith_pd1250'\n",
       "28. 'shannon1250'\n",
       "29. 'FBG'\n",
       "30. 'Description'\n",
       "31. 'ATTRIBUTE_GNPSDefaultGroup'\n",
       "\n",
       "\n"
      ],
      "text/plain": [
       " [1] \"BarcodeSequence\"            \"LinkerPrimerSequence\"      \n",
       " [3] \"filename\"                   \"ID_OG_MAP\"                 \n",
       " [5] \"Barcode\"                    \"adaptor\"                   \n",
       " [7] \"TSRI_Seq_plate\"             \"Well_Position\"             \n",
       " [9] \"Sequenc_.Name\"              \"Sequence\"                  \n",
       "[11] \"PCR_Date\"                   \"Mouse\"                     \n",
       "[13] \"Cage\"                       \"Week\"                      \n",
       "[15] \"mouse.time\"                 \"Cecum\"                     \n",
       "[17] \"Category_type_time\"         \"weight\"                    \n",
       "[19] \"Category\"                   \"type\"                      \n",
       "[21] \"Lh\"                         \"Insulin\"                   \n",
       "[23] \"Testosterone\"               \"Weight_g\"                  \n",
       "[25] \"observed_SVs1250\"           \"pielou_e1250\"              \n",
       "[27] \"faith_pd1250\"               \"shannon1250\"               \n",
       "[29] \"FBG\"                        \"Description\"               \n",
       "[31] \"ATTRIBUTE_GNPSDefaultGroup\""
      ]
     },
     "metadata": {},
     "output_type": "display_data"
    },
    {
     "data": {
      "text/html": [
       "<table>\n",
       "<thead><tr><th></th><th scope=col>Df</th><th scope=col>SumsOfSqs</th><th scope=col>MeanSqs</th><th scope=col>F.Model</th><th scope=col>R2</th><th scope=col>Pr(&gt;F)</th></tr></thead>\n",
       "<tbody>\n",
       "\t<tr><th scope=row>Category</th><td> 3       </td><td>0.5457665</td><td>0.1819222</td><td>1.186729 </td><td>0.1128063</td><td>0.0990099</td></tr>\n",
       "\t<tr><th scope=row>Residuals</th><td>28       </td><td>4.2923208</td><td>0.1532972</td><td>      NA </td><td>0.8871937</td><td>       NA</td></tr>\n",
       "\t<tr><th scope=row>Total</th><td>31       </td><td>4.8380873</td><td>       NA</td><td>      NA </td><td>1.0000000</td><td>       NA</td></tr>\n",
       "</tbody>\n",
       "</table>\n"
      ],
      "text/latex": [
       "\\begin{tabular}{r|llllll}\n",
       "  & Df & SumsOfSqs & MeanSqs & F.Model & R2 & Pr(>F)\\\\\n",
       "\\hline\n",
       "\tCategory &  3        & 0.5457665 & 0.1819222 & 1.186729  & 0.1128063 & 0.0990099\\\\\n",
       "\tResiduals & 28        & 4.2923208 & 0.1532972 &       NA  & 0.8871937 &        NA\\\\\n",
       "\tTotal & 31        & 4.8380873 &        NA &       NA  & 1.0000000 &        NA\\\\\n",
       "\\end{tabular}\n"
      ],
      "text/markdown": [
       "\n",
       "| <!--/--> | Df | SumsOfSqs | MeanSqs | F.Model | R2 | Pr(>F) |\n",
       "|---|---|---|---|---|---|---|\n",
       "| Category |  3        | 0.5457665 | 0.1819222 | 1.186729  | 0.1128063 | 0.0990099 |\n",
       "| Residuals | 28        | 4.2923208 | 0.1532972 |       NA  | 0.8871937 |        NA |\n",
       "| Total | 31        | 4.8380873 |        NA |       NA  | 1.0000000 |        NA |\n",
       "\n"
      ],
      "text/plain": [
       "          Df SumsOfSqs MeanSqs   F.Model  R2        Pr(>F)   \n",
       "Category   3 0.5457665 0.1819222 1.186729 0.1128063 0.0990099\n",
       "Residuals 28 4.2923208 0.1532972       NA 0.8871937        NA\n",
       "Total     31 4.8380873        NA       NA 1.0000000        NA"
      ]
     },
     "metadata": {},
     "output_type": "display_data"
    },
    {
     "data": {
      "text/html": [
       "<strong>png:</strong> 2"
      ],
      "text/latex": [
       "\\textbf{png:} 2"
      ],
      "text/markdown": [
       "**png:** 2"
      ],
      "text/plain": [
       "png \n",
       "  2 "
      ]
     },
     "metadata": {},
     "output_type": "display_data"
    }
   ],
   "source": [
    "physeq.pt = subset_samples(physeq, Week != 'cecum.T5' & Week != '5' & Week != '1'& Week != '3'& Week != '0'& Week != '2')\n",
    "unique(sample_data(physeq.pt)$Category)\n",
    "unique(sample_data(physeq.pt)$Week)\n",
    "\n",
    "# It is always important to set a seed when you subsample so your result is replicable . Here we will be \n",
    "# subsampling libraries with replacement \n",
    "set.seed(123)\n",
    "        \n",
    " \n",
    "    \n",
    "meta.rarefy <- rarefy_even_depth(physeq.pt, sample.size = 4530000, verbose = FALSE, replace = TRUE)#need to change sample size based off min sequencing depth\n",
    "library('vegan')\n",
    "###############################################\n",
    "#####  PERMANOVA  ############-----------------\n",
    "###############################################\n",
    "\n",
    "#make a data frame from the sample_data (unweighted unifrac)\n",
    "meta.rarefy=subset_samples(meta.rarefy, type == 'fecal')\n",
    "df = as(sample_data(meta.rarefy), \"data.frame\")\n",
    "d = phyloseq::distance(meta.rarefy, \"bray\")\n",
    "\n",
    "#test for homogeneity of data\n",
    "sampledf <- data.frame(sample_data(meta.rarefy))\n",
    "beta <- betadisper(d, sampledf$Category)\n",
    "permutest(beta)\n",
    "\n",
    "CategorybetaDNA <- betadisper(d, sampledf$Category)\n",
    "permutest(CategorybetaDNA)\n",
    "\n",
    "pdf('Metabolite_Cutoff_T4_ellipse.pdf', width=20, height=15)\n",
    "plot(CategorybetaDNA, ellipse = TRUE, hull=F)  \n",
    "dev.off()\n",
    "#now run permanova\n",
    "set.seed(2)\n",
    "GPNMDS = ordinate(meta.rarefy, \"PCoA\", d)\n",
    "sample_variables(meta.rarefy)\n",
    "a=adonis(d ~ Category, as(sample_data(meta.rarefy), \"data.frame\"), permutations=100, method='bray', weighted=FALSE)\n",
    "a$aov.tab\n",
    "\n",
    "cap_ord <- ordinate(\n",
    "    physeq = meta.rarefy, \n",
    "    method = \"CAP\",\n",
    "    distance = \"bray\",\n",
    "    formula = ~ Category \n",
    ")\n",
    "pdf('Metabolite_Cutoff_T4_CAP.pdf', width=15, height=15)\n",
    "cap_plot <- plot_ordination(physeq = meta.rarefy,ordination = cap_ord, \n",
    "    color = \"Category\",shape = \"Category\",axes = c(1,2)) + geom_point(size = 10)+\n",
    "    scale_color_manual(values = c(\"blue\", \"purple\", \"darkgreen\", \"red\", \n",
    "    \"#1919ff\", \"darkorchid3\", \"black\")) + ggtitle(\"CAP: Metabolite T4\") + theme_bw() +\n",
    "    theme(text = element_text(size = 50),\n",
    "    panel.grid.major=element_blank(),\n",
    "    panel.grid.minor=element_blank(), \n",
    "    panel.background=element_rect(colour=\"black\",fill=NA,size=2)) + \n",
    "    scale_shape_manual(values=c(15,18,17,19)) + geom_hline(yintercept=0,colour=\"black\",linetype=\"dashed\") + \n",
    "    geom_vline(xintercept=0,colour=\"black\",linetype=\"dashed\") \n",
    "cap_plot\n",
    "dev.off()"
   ]
  },
  {
   "cell_type": "code",
   "execution_count": null,
   "metadata": {},
   "outputs": [],
   "source": []
  }
 ],
 "metadata": {
  "kernelspec": {
   "display_name": "R",
   "language": "R",
   "name": "ir"
  },
  "language_info": {
   "codemirror_mode": "r",
   "file_extension": ".r",
   "mimetype": "text/x-r-source",
   "name": "R",
   "pygments_lexer": "r",
   "version": "3.4.4"
  }
 },
 "nbformat": 4,
 "nbformat_minor": 2
}
