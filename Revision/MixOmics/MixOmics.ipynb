{
 "cells": [
  {
   "cell_type": "markdown",
   "metadata": {},
   "source": [
    "# MixOmics notebook"
   ]
  },
  {
   "cell_type": "markdown",
   "metadata": {},
   "source": [
    "## To install MixOmics R package, follow instructions in MixOmics manual"
   ]
  },
  {
   "cell_type": "markdown",
   "metadata": {},
   "source": [
    "https://bioconductor.org/packages/release/bioc/vignettes/mixOmics/inst/doc/vignette.html#diablo"
   ]
  },
  {
   "cell_type": "code",
   "execution_count": null,
   "metadata": {},
   "outputs": [],
   "source": [
    "library(mixOmics)"
   ]
  },
  {
   "cell_type": "markdown",
   "metadata": {},
   "source": [
    "## Load in data table for each of the data sets. "
   ]
  },
  {
   "cell_type": "code",
   "execution_count": 4,
   "metadata": {},
   "outputs": [],
   "source": [
    "WGS_table = read.csv(\"WGS_clr.csv\", row.names = 1, check.names = FALSE)\n",
    "META_table = read.csv(\"Meta_clr.csv\", row.names = 1, check.names = FALSE)\n",
    "SV_table = read.csv(\"SV_clr.csv\", row.names = 1, check.names = FALSE)"
   ]
  },
  {
   "cell_type": "markdown",
   "metadata": {},
   "source": [
    "## Need to process the datasets to make sure that they have the same samples. So if any samples are missing, they need to be removed from all of the datasets "
   ]
  },
  {
   "cell_type": "code",
   "execution_count": 6,
   "metadata": {},
   "outputs": [
    {
     "name": "stderr",
     "output_type": "stream",
     "text": [
      "Warning message in merge.data.frame(WGS_META_sam, t(SV_table), by = 0, all = FALSE):\n",
      "“column name ‘Row.names’ is duplicated in the result”"
     ]
    }
   ],
   "source": [
    "WGS_META_sam <- merge(t(WGS_table), t(META_table), by=0, all=FALSE)\n",
    "row.names(WGS_META_sam) <- WGS_META_sam$Row.names\n",
    "WGS_META_SV_sam = merge(WGS_META_sam, t(SV_table), by=0, all=FALSE)\n",
    "row.names(WGS_META_SV_sam) = WGS_META_SV_sam$Row.names\n",
    "samples_keep <- WGS_META_SV_sam$Row.names"
   ]
  },
  {
   "cell_type": "markdown",
   "metadata": {},
   "source": [
    "## Load in sample meta data"
   ]
  },
  {
   "cell_type": "code",
   "execution_count": 7,
   "metadata": {},
   "outputs": [],
   "source": [
    "common_map = read.csv(\"Mapping.csv\", row.names = 1)"
   ]
  },
  {
   "cell_type": "markdown",
   "metadata": {},
   "source": [
    "## Seperate into the individual datasets after merging to check for present samples"
   ]
  },
  {
   "cell_type": "code",
   "execution_count": 9,
   "metadata": {},
   "outputs": [],
   "source": [
    "WGS_common = WGS_META_SV_sam[,3:3541]\n",
    "META_common = WGS_META_SV_sam[,3542:6147]\n",
    "SV_common = WGS_META_SV_sam[,6148:6335]\n",
    "row.names(WGS_common) = samples_keep\n",
    "row.names(META_common) = samples_keep\n",
    "row.names(SV_common) = samples_keep"
   ]
  },
  {
   "cell_type": "markdown",
   "metadata": {},
   "source": [
    "## Set up input for MixOmics"
   ]
  },
  {
   "cell_type": "code",
   "execution_count": 14,
   "metadata": {},
   "outputs": [],
   "source": [
    "X <- list(WGS =WGS_common, META = META_common, SV = SV_common)\n",
    "Y_treatment <- common_map$Treatment\n",
    "Y_time <- common_map$Timepoint"
   ]
  },
  {
   "cell_type": "markdown",
   "metadata": {},
   "source": [
    "## Run MixOmics"
   ]
  },
  {
   "cell_type": "code",
   "execution_count": null,
   "metadata": {},
   "outputs": [],
   "source": [
    "MyResult_diablo_treatment <- block.splsda(X, Y_treatment)\n",
    "MyResult_diablo_time <- block.splsda(X, Y_time)"
   ]
  },
  {
   "cell_type": "markdown",
   "metadata": {},
   "source": [
    "### Output treatments plot"
   ]
  },
  {
   "cell_type": "code",
   "execution_count": null,
   "metadata": {},
   "outputs": [],
   "source": [
    "png('correlation_treatment.png', width=1700, height=1700, res=330)\n",
    "plotDiablo(MyResult_diablo_treatment, ncomp = 1)\n",
    "dev.off()"
   ]
  },
  {
   "cell_type": "markdown",
   "metadata": {},
   "source": [
    "### Output timepoints plot"
   ]
  },
  {
   "cell_type": "code",
   "execution_count": null,
   "metadata": {},
   "outputs": [],
   "source": [
    "png('correlation_timepoint.png', width=1700, height=1700, res=330)\n",
    "plotDiablo(MyResult_diablo_time, ncomp = 1)\n",
    "dev.off()"
   ]
  }
 ],
 "metadata": {
  "kernelspec": {
   "display_name": "R",
   "language": "R",
   "name": "ir"
  },
  "language_info": {
   "codemirror_mode": "r",
   "file_extension": ".r",
   "mimetype": "text/x-r-source",
   "name": "R",
   "pygments_lexer": "r",
   "version": "3.5.1"
  }
 },
 "nbformat": 4,
 "nbformat_minor": 2
}
