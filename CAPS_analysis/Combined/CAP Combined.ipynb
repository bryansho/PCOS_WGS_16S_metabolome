{
 "cells": [
  {
   "cell_type": "markdown",
   "metadata": {},
   "source": [
    "# T5 Metabolite WGS"
   ]
  },
  {
   "cell_type": "code",
   "execution_count": 2,
   "metadata": {},
   "outputs": [
    {
     "name": "stdout",
     "output_type": "stream",
     "text": [
      "[1] \"Number of Samples in our Biom Table\"\n"
     ]
    },
    {
     "data": {
      "text/html": [
       "32"
      ],
      "text/latex": [
       "32"
      ],
      "text/markdown": [
       "32"
      ],
      "text/plain": [
       "[1] 32"
      ]
     },
     "metadata": {},
     "output_type": "display_data"
    },
    {
     "name": "stdout",
     "output_type": "stream",
     "text": [
      "[1] \"Number of Sequence variants we have.\"\n"
     ]
    },
    {
     "data": {
      "text/html": [
       "6141"
      ],
      "text/latex": [
       "6141"
      ],
      "text/markdown": [
       "6141"
      ],
      "text/plain": [
       "[1] 6141"
      ]
     },
     "metadata": {},
     "output_type": "display_data"
    },
    {
     "name": "stdout",
     "output_type": "stream",
     "text": [
      "[1] \"Sequencing depth.\"\n"
     ]
    },
    {
     "data": {
      "text/plain": [
       "    Min.  1st Qu.   Median     Mean  3rd Qu.     Max. \n",
       "11844293 14749705 17624066 17849964 19838796 26972342 "
      ]
     },
     "metadata": {},
     "output_type": "display_data"
    },
    {
     "data": {
      "text/html": [
       "<dl class=dl-horizontal>\n",
       "\t<dt>T5_577</dt>\n",
       "\t\t<dd>11844293</dd>\n",
       "\t<dt>T5_576</dt>\n",
       "\t\t<dd>11977546</dd>\n",
       "\t<dt>T5_588</dt>\n",
       "\t\t<dd>11989375</dd>\n",
       "\t<dt>T5_583</dt>\n",
       "\t\t<dd>12934027</dd>\n",
       "\t<dt>T5_585</dt>\n",
       "\t\t<dd>14029933</dd>\n",
       "\t<dt>T5_570</dt>\n",
       "\t\t<dd>14175221</dd>\n",
       "\t<dt>T5_575</dt>\n",
       "\t\t<dd>14351374</dd>\n",
       "\t<dt>T5_582</dt>\n",
       "\t\t<dd>14505834</dd>\n",
       "\t<dt>T5_589</dt>\n",
       "\t\t<dd>14830995</dd>\n",
       "\t<dt>T5_580</dt>\n",
       "\t\t<dd>14940465</dd>\n",
       "\t<dt>T5_586</dt>\n",
       "\t\t<dd>15313830</dd>\n",
       "\t<dt>T5_573</dt>\n",
       "\t\t<dd>16145009</dd>\n",
       "\t<dt>T5_571</dt>\n",
       "\t\t<dd>16621157</dd>\n",
       "\t<dt>T5_603</dt>\n",
       "\t\t<dd>17321737</dd>\n",
       "\t<dt>T5_574</dt>\n",
       "\t\t<dd>17442236</dd>\n",
       "\t<dt>T5_594</dt>\n",
       "\t\t<dd>17558265</dd>\n",
       "\t<dt>T5_602</dt>\n",
       "\t\t<dd>17689868</dd>\n",
       "\t<dt>T5_598</dt>\n",
       "\t\t<dd>18014210</dd>\n",
       "\t<dt>T5_591</dt>\n",
       "\t\t<dd>18072780</dd>\n",
       "\t<dt>T5_600</dt>\n",
       "\t\t<dd>18283513</dd>\n",
       "\t<dt>T5_572</dt>\n",
       "\t\t<dd>18338221</dd>\n",
       "\t<dt>T5_581</dt>\n",
       "\t\t<dd>18762040</dd>\n",
       "\t<dt>T5_599</dt>\n",
       "\t\t<dd>18893728</dd>\n",
       "\t<dt>T5_592</dt>\n",
       "\t\t<dd>19813872</dd>\n",
       "\t<dt>T5_584</dt>\n",
       "\t\t<dd>19913567</dd>\n",
       "</dl>\n"
      ],
      "text/latex": [
       "\\begin{description*}\n",
       "\\item[T5\\textbackslash{}\\_577] 11844293\n",
       "\\item[T5\\textbackslash{}\\_576] 11977546\n",
       "\\item[T5\\textbackslash{}\\_588] 11989375\n",
       "\\item[T5\\textbackslash{}\\_583] 12934027\n",
       "\\item[T5\\textbackslash{}\\_585] 14029933\n",
       "\\item[T5\\textbackslash{}\\_570] 14175221\n",
       "\\item[T5\\textbackslash{}\\_575] 14351374\n",
       "\\item[T5\\textbackslash{}\\_582] 14505834\n",
       "\\item[T5\\textbackslash{}\\_589] 14830995\n",
       "\\item[T5\\textbackslash{}\\_580] 14940465\n",
       "\\item[T5\\textbackslash{}\\_586] 15313830\n",
       "\\item[T5\\textbackslash{}\\_573] 16145009\n",
       "\\item[T5\\textbackslash{}\\_571] 16621157\n",
       "\\item[T5\\textbackslash{}\\_603] 17321737\n",
       "\\item[T5\\textbackslash{}\\_574] 17442236\n",
       "\\item[T5\\textbackslash{}\\_594] 17558265\n",
       "\\item[T5\\textbackslash{}\\_602] 17689868\n",
       "\\item[T5\\textbackslash{}\\_598] 18014210\n",
       "\\item[T5\\textbackslash{}\\_591] 18072780\n",
       "\\item[T5\\textbackslash{}\\_600] 18283513\n",
       "\\item[T5\\textbackslash{}\\_572] 18338221\n",
       "\\item[T5\\textbackslash{}\\_581] 18762040\n",
       "\\item[T5\\textbackslash{}\\_599] 18893728\n",
       "\\item[T5\\textbackslash{}\\_592] 19813872\n",
       "\\item[T5\\textbackslash{}\\_584] 19913567\n",
       "\\end{description*}\n"
      ],
      "text/markdown": [
       "T5_577\n",
       ":   11844293T5_576\n",
       ":   11977546T5_588\n",
       ":   11989375T5_583\n",
       ":   12934027T5_585\n",
       ":   14029933T5_570\n",
       ":   14175221T5_575\n",
       ":   14351374T5_582\n",
       ":   14505834T5_589\n",
       ":   14830995T5_580\n",
       ":   14940465T5_586\n",
       ":   15313830T5_573\n",
       ":   16145009T5_571\n",
       ":   16621157T5_603\n",
       ":   17321737T5_574\n",
       ":   17442236T5_594\n",
       ":   17558265T5_602\n",
       ":   17689868T5_598\n",
       ":   18014210T5_591\n",
       ":   18072780T5_600\n",
       ":   18283513T5_572\n",
       ":   18338221T5_581\n",
       ":   18762040T5_599\n",
       ":   18893728T5_592\n",
       ":   19813872T5_584\n",
       ":   19913567\n",
       "\n"
      ],
      "text/plain": [
       "  T5_577   T5_576   T5_588   T5_583   T5_585   T5_570   T5_575   T5_582 \n",
       "11844293 11977546 11989375 12934027 14029933 14175221 14351374 14505834 \n",
       "  T5_589   T5_580   T5_586   T5_573   T5_571   T5_603   T5_574   T5_594 \n",
       "14830995 14940465 15313830 16145009 16621157 17321737 17442236 17558265 \n",
       "  T5_602   T5_598   T5_591   T5_600   T5_572   T5_581   T5_599   T5_592 \n",
       "17689868 18014210 18072780 18283513 18338221 18762040 18893728 19813872 \n",
       "  T5_584 \n",
       "19913567 "
      ]
     },
     "metadata": {},
     "output_type": "display_data"
    },
    {
     "data": {
      "image/png": "[encoded data removed]",
      "text/plain": [
       "Plot with title “Histogram of depths”"
      ]
     },
     "metadata": {},
     "output_type": "display_data"
    }
   ],
   "source": [
    "library(phyloseq)\n",
    "library(ggplot2)\n",
    "library(dplyr)\n",
    "#Make sure the data has the sample names on rows if not just transform the data with t()\n",
    "abund_table<-read.csv(\"T5_Metabolites_WGS.csv\",row.names=1,check.names=FALSE)\n",
    "meta_table<-read.csv(\"Deseq2_T5_mapping.csv\",row.names=1,check.names=FALSE)\n",
    "#Transpose the data to have sample names on rows\n",
    "abund_table<-t(abund_table)\n",
    "meta_table<-data.frame(meta_table)\n",
    "#Now load the taxonomy (this is fake)\n",
    "OTU_taxonomy<-read.csv(\"taxonomy_metabolites_WGS.csv\",row.names=1,check.names=FALSE)\n",
    "#Convert to phyloseq\n",
    "library(phyloseq)\n",
    "#Convert the data to phyloseq format\n",
    "OTU = otu_table(as.matrix(abund_table), taxa_are_rows = FALSE)\n",
    "TAX = tax_table(as.matrix(OTU_taxonomy))\n",
    "SAM = sample_data(meta_table)\n",
    "physeq<-merge_phyloseq(phyloseq(OTU, TAX),SAM)\n",
    "# Start to explore the data a bit \n",
    "#number of samples\n",
    "print ('Number of Samples in our Biom Table')\n",
    "nsamples(physeq)\n",
    "# number of sequence variants\n",
    "print ('Number of Sequence variants we have.')\n",
    "ntaxa(physeq)\n",
    "#summary statistics of sampling depth\n",
    "print ('Sequencing depth.')\n",
    "depths <- sample_sums(physeq)\n",
    "summary(depths)\n",
    "hist(depths)\n",
    "head(sort(sample_sums(physeq)),25)"
   ]
  },
  {
   "cell_type": "code",
   "execution_count": 3,
   "metadata": {},
   "outputs": [],
   "source": [
    "# It is always important to set a seed when you subsample so your result is replicable . Here we will be \n",
    "# subsampling libraries with replacement \n",
    "set.seed(123)\n",
    "        \n",
    " \n",
    "    \n",
    "meta.rarefy <- rarefy_even_depth(physeq, sample.size = 11800000, verbose = FALSE, replace = TRUE)#need to change sample size based off min sequencing depth"
   ]
  },
  {
   "cell_type": "code",
   "execution_count": 12,
   "metadata": {},
   "outputs": [
    {
     "data": {
      "text/plain": [
       "\n",
       "Permutation test for homogeneity of multivariate dispersions\n",
       "Permutation: free\n",
       "Number of permutations: 999\n",
       "\n",
       "Response: Distances\n",
       "          Df   Sum Sq   Mean Sq      F N.Perm Pr(>F)  \n",
       "Groups     3 0.019657 0.0065523 2.8715    999  0.037 *\n",
       "Residuals 28 0.063890 0.0022818                       \n",
       "---\n",
       "Signif. codes:  0 ‘***’ 0.001 ‘**’ 0.01 ‘*’ 0.05 ‘.’ 0.1 ‘ ’ 1"
      ]
     },
     "metadata": {},
     "output_type": "display_data"
    },
    {
     "data": {
      "text/plain": [
       "\n",
       "Permutation test for homogeneity of multivariate dispersions\n",
       "Permutation: free\n",
       "Number of permutations: 999\n",
       "\n",
       "Response: Distances\n",
       "          Df   Sum Sq   Mean Sq      F N.Perm Pr(>F)  \n",
       "Groups     3 0.019657 0.0065523 2.8715    999  0.046 *\n",
       "Residuals 28 0.063890 0.0022818                       \n",
       "---\n",
       "Signif. codes:  0 ‘***’ 0.001 ‘**’ 0.01 ‘*’ 0.05 ‘.’ 0.1 ‘ ’ 1"
      ]
     },
     "metadata": {},
     "output_type": "display_data"
    },
    {
     "data": {
      "text/html": [
       "<strong>png:</strong> 2"
      ],
      "text/latex": [
       "\\textbf{png:} 2"
      ],
      "text/markdown": [
       "**png:** 2"
      ],
      "text/plain": [
       "png \n",
       "  2 "
      ]
     },
     "metadata": {},
     "output_type": "display_data"
    },
    {
     "data": {
      "text/html": [
       "<ol class=list-inline>\n",
       "\t<li>'Treatment'</li>\n",
       "\t<li>'Timepoint'</li>\n",
       "</ol>\n"
      ],
      "text/latex": [
       "\\begin{enumerate*}\n",
       "\\item 'Treatment'\n",
       "\\item 'Timepoint'\n",
       "\\end{enumerate*}\n"
      ],
      "text/markdown": [
       "1. 'Treatment'\n",
       "2. 'Timepoint'\n",
       "\n",
       "\n"
      ],
      "text/plain": [
       "[1] \"Treatment\" \"Timepoint\""
      ]
     },
     "metadata": {},
     "output_type": "display_data"
    },
    {
     "data": {
      "text/html": [
       "<table>\n",
       "<thead><tr><th></th><th scope=col>Df</th><th scope=col>SumsOfSqs</th><th scope=col>MeanSqs</th><th scope=col>F.Model</th><th scope=col>R2</th><th scope=col>Pr(&gt;F)</th></tr></thead>\n",
       "<tbody>\n",
       "\t<tr><th scope=row>Treatment</th><td> 3         </td><td>0.3736181  </td><td>0.12453937 </td><td>1.566996   </td><td>0.1437568  </td><td>0.000999001</td></tr>\n",
       "\t<tr><th scope=row>Residuals</th><td>28         </td><td>2.2253415  </td><td>0.07947648 </td><td>      NA   </td><td>0.8562432  </td><td>         NA</td></tr>\n",
       "\t<tr><th scope=row>Total</th><td>31         </td><td>2.5989596  </td><td>        NA </td><td>      NA   </td><td>1.0000000  </td><td>         NA</td></tr>\n",
       "</tbody>\n",
       "</table>\n"
      ],
      "text/latex": [
       "\\begin{tabular}{r|llllll}\n",
       "  & Df & SumsOfSqs & MeanSqs & F.Model & R2 & Pr(>F)\\\\\n",
       "\\hline\n",
       "\tTreatment &  3          & 0.3736181   & 0.12453937  & 1.566996    & 0.1437568   & 0.000999001\\\\\n",
       "\tResiduals & 28          & 2.2253415   & 0.07947648  &       NA    & 0.8562432   &          NA\\\\\n",
       "\tTotal & 31          & 2.5989596   &         NA  &       NA    & 1.0000000   &          NA\\\\\n",
       "\\end{tabular}\n"
      ],
      "text/markdown": [
       "\n",
       "| <!--/--> | Df | SumsOfSqs | MeanSqs | F.Model | R2 | Pr(>F) |\n",
       "|---|---|---|---|---|---|---|\n",
       "| Treatment |  3          | 0.3736181   | 0.12453937  | 1.566996    | 0.1437568   | 0.000999001 |\n",
       "| Residuals | 28          | 2.2253415   | 0.07947648  |       NA    | 0.8562432   |          NA |\n",
       "| Total | 31          | 2.5989596   |         NA  |       NA    | 1.0000000   |          NA |\n",
       "\n"
      ],
      "text/plain": [
       "          Df SumsOfSqs MeanSqs    F.Model  R2        Pr(>F)     \n",
       "Treatment  3 0.3736181 0.12453937 1.566996 0.1437568 0.000999001\n",
       "Residuals 28 2.2253415 0.07947648       NA 0.8562432          NA\n",
       "Total     31 2.5989596         NA       NA 1.0000000          NA"
      ]
     },
     "metadata": {},
     "output_type": "display_data"
    }
   ],
   "source": [
    "library('vegan')\n",
    "###############################################\n",
    "#####  PERMANOVA  ############-----------------\n",
    "###############################################\n",
    "\n",
    "#make a data frame from the sample_data (unweighted unifrac)\n",
    "df = as(sample_data(meta.rarefy), \"data.frame\")\n",
    "d = phyloseq::distance(meta.rarefy, \"bray\")\n",
    "\n",
    "#test for homogeneity of data\n",
    "sampledf <- data.frame(sample_data(meta.rarefy))\n",
    "beta <- betadisper(d, sampledf$Treatment)\n",
    "permutest(beta)\n",
    "\n",
    "CategorybetaDNA <- betadisper(d, sampledf$Treatment)\n",
    "permutest(CategorybetaDNA)\n",
    "\n",
    "pdf('Metabolite_WGS_T5_ellipse.pdf', width=20, height=15)\n",
    "plot(CategorybetaDNA, ellipse = TRUE, hull=F)  \n",
    "dev.off()\n",
    "\n",
    "#now run permanova\n",
    "set.seed(2)\n",
    "GPNMDS = ordinate(meta.rarefy, \"PCoA\", d)\n",
    "sample_variables(meta.rarefy)\n",
    "a=adonis(d ~ Treatment, as(sample_data(meta.rarefy), \"data.frame\"), permutations=1000, method='bray', weighted=FALSE)\n",
    "a$aov.tab"
   ]
  },
  {
   "cell_type": "code",
   "execution_count": 13,
   "metadata": {},
   "outputs": [
    {
     "data": {
      "text/plain": [
       "\n",
       "\tHomogeneity of multivariate dispersions\n",
       "\n",
       "Call: betadisper(d = d, group = sampledf$Treatment)\n",
       "\n",
       "No. of Positive Eigenvalues: 31\n",
       "No. of Negative Eigenvalues: 0\n",
       "\n",
       "Average distance to median:\n",
       "    CoL     CoP     Let Placebo \n",
       " 0.2818  0.2607  0.2761  0.2185 \n",
       "\n",
       "Eigenvalues for PCoA axes:\n",
       "(Showing 8 of 31 eigenvalues)\n",
       "  PCoA1   PCoA2   PCoA3   PCoA4   PCoA5   PCoA6   PCoA7   PCoA8 \n",
       "0.42837 0.28617 0.24629 0.20136 0.18910 0.15981 0.14058 0.09592 "
      ]
     },
     "metadata": {},
     "output_type": "display_data"
    }
   ],
   "source": [
    "CategorybetaDNA"
   ]
  },
  {
   "cell_type": "code",
   "execution_count": 14,
   "metadata": {},
   "outputs": [
    {
     "data": {
      "text/plain": [
       "phyloseq-class experiment-level object\n",
       "otu_table()   OTU Table:         [ 5500 taxa and 32 samples ]\n",
       "sample_data() Sample Data:       [ 32 samples by 2 sample variables ]\n",
       "tax_table()   Taxonomy Table:    [ 5500 taxa by 7 taxonomic ranks ]"
      ]
     },
     "metadata": {},
     "output_type": "display_data"
    }
   ],
   "source": [
    "meta.rarefy"
   ]
  },
  {
   "cell_type": "code",
   "execution_count": 15,
   "metadata": {},
   "outputs": [
    {
     "name": "stdout",
     "output_type": "stream",
     "text": [
      "Run 0 stress 0.205114 \n",
      "Run 1 stress 0.2092488 \n",
      "Run 2 stress 0.2164461 \n",
      "Run 3 stress 0.2219815 \n",
      "Run 4 stress 0.2105153 \n",
      "Run 5 stress 0.2081024 \n",
      "Run 6 stress 0.2053075 \n",
      "... Procrustes: rmse 0.04303401  max resid 0.2015321 \n",
      "Run 7 stress 0.2105191 \n",
      "Run 8 stress 0.2164413 \n",
      "Run 9 stress 0.2186076 \n",
      "Run 10 stress 0.228333 \n",
      "Run 11 stress 0.2051227 \n",
      "... Procrustes: rmse 0.001698542  max resid 0.007862089 \n",
      "... Similar to previous best\n",
      "Run 12 stress 0.2109308 \n",
      "Run 13 stress 0.2299182 \n",
      "Run 14 stress 0.2051052 \n",
      "... New best solution\n",
      "... Procrustes: rmse 0.01722605  max resid 0.06601086 \n",
      "Run 15 stress 0.2109306 \n",
      "Run 16 stress 0.2324481 \n",
      "Run 17 stress 0.2128903 \n",
      "Run 18 stress 0.212516 \n",
      "Run 19 stress 0.2052352 \n",
      "... Procrustes: rmse 0.04415927  max resid 0.1995625 \n",
      "Run 20 stress 0.2332536 \n",
      "*** No convergence -- monoMDS stopping criteria:\n",
      "    20: stress ratio > sratmax\n"
     ]
    }
   ],
   "source": [
    "set.seed(123)\n",
    "DistBC = distance(meta.rarefy, method = \"bray\")\n",
    "#ordination\n",
    "ordBC = ordinate(meta.rarefy, method = \"NMDS\", distance = DistBC)"
   ]
  },
  {
   "cell_type": "code",
   "execution_count": 18,
   "metadata": {},
   "outputs": [
    {
     "data": {
      "text/html": [
       "<strong>png:</strong> 2"
      ],
      "text/latex": [
       "\\textbf{png:} 2"
      ],
      "text/markdown": [
       "**png:** 2"
      ],
      "text/plain": [
       "png \n",
       "  2 "
      ]
     },
     "metadata": {},
     "output_type": "display_data"
    }
   ],
   "source": [
    "cap_ord <- ordinate(\n",
    "    physeq = meta.rarefy, \n",
    "    method = \"CAP\",\n",
    "    distance = \"bray\",\n",
    "    formula = ~ Treatment \n",
    ")\n",
    "pdf('Metabolite_WGS_T5_CAP.pdf', width=15, height=15)\n",
    "cap_plot <- plot_ordination(physeq = meta.rarefy,ordination = cap_ord, \n",
    "    color = \"Treatment\",shape = \"Treatment\",axes = c(1,2)) + geom_point(size = 10)+\n",
    "    scale_color_manual(values = c(\"blue\", \"purple\", \"darkgreen\", \"red\", \n",
    "    \"#1919ff\", \"darkorchid3\", \"black\")) + ggtitle(\"CAP: Metabolite+WGS T5\") + theme_bw() +\n",
    "    theme(text = element_text(size = 50),\n",
    "    panel.grid.major=element_blank(),\n",
    "    panel.grid.minor=element_blank(), \n",
    "    panel.background=element_rect(colour=\"black\",fill=NA,size=2)) + \n",
    "    scale_shape_manual(values=c(15,18,17,19)) + geom_hline(yintercept=0,colour=\"black\",linetype=\"dashed\") + \n",
    "    geom_vline(xintercept=0,colour=\"black\",linetype=\"dashed\") \n",
    "cap_plot\n",
    "dev.off()"
   ]
  },
  {
   "cell_type": "markdown",
   "metadata": {},
   "source": [
    "# Metabolite WGS T2"
   ]
  },
  {
   "cell_type": "code",
   "execution_count": 21,
   "metadata": {},
   "outputs": [
    {
     "name": "stdout",
     "output_type": "stream",
     "text": [
      "[1] \"Number of Samples in our Biom Table\"\n"
     ]
    },
    {
     "data": {
      "text/html": [
       "32"
      ],
      "text/latex": [
       "32"
      ],
      "text/markdown": [
       "32"
      ],
      "text/plain": [
       "[1] 32"
      ]
     },
     "metadata": {},
     "output_type": "display_data"
    },
    {
     "name": "stdout",
     "output_type": "stream",
     "text": [
      "[1] \"Number of Sequence variants we have.\"\n"
     ]
    },
    {
     "data": {
      "text/html": [
       "6141"
      ],
      "text/latex": [
       "6141"
      ],
      "text/markdown": [
       "6141"
      ],
      "text/plain": [
       "[1] 6141"
      ]
     },
     "metadata": {},
     "output_type": "display_data"
    },
    {
     "name": "stdout",
     "output_type": "stream",
     "text": [
      "[1] \"Sequencing depth.\"\n"
     ]
    },
    {
     "data": {
      "text/plain": [
       "    Min.  1st Qu.   Median     Mean  3rd Qu.     Max. \n",
       "10577691 14241880 20995083 20723425 27132535 34978805 "
      ]
     },
     "metadata": {},
     "output_type": "display_data"
    },
    {
     "data": {
      "text/html": [
       "<dl class=dl-horizontal>\n",
       "\t<dt>576_T2</dt>\n",
       "\t\t<dd>10577691</dd>\n",
       "\t<dt>582_T2</dt>\n",
       "\t\t<dd>11815156</dd>\n",
       "\t<dt>581_T2</dt>\n",
       "\t\t<dd>11937797</dd>\n",
       "\t<dt>580_T2</dt>\n",
       "\t\t<dd>12701598</dd>\n",
       "\t<dt>572_T2</dt>\n",
       "\t\t<dd>13487439</dd>\n",
       "\t<dt>583_T2</dt>\n",
       "\t\t<dd>13563804</dd>\n",
       "\t<dt>585_T2</dt>\n",
       "\t\t<dd>13669145</dd>\n",
       "\t<dt>584_T2</dt>\n",
       "\t\t<dd>14083500</dd>\n",
       "\t<dt>574_T2</dt>\n",
       "\t\t<dd>14294673</dd>\n",
       "\t<dt>578_T2</dt>\n",
       "\t\t<dd>14832570</dd>\n",
       "\t<dt>586_T2</dt>\n",
       "\t\t<dd>15467514</dd>\n",
       "\t<dt>575_T2</dt>\n",
       "\t\t<dd>16097872</dd>\n",
       "\t<dt>570_T2</dt>\n",
       "\t\t<dd>16098073</dd>\n",
       "\t<dt>577_T2</dt>\n",
       "\t\t<dd>18347897</dd>\n",
       "\t<dt>597_T2</dt>\n",
       "\t\t<dd>20142542</dd>\n",
       "\t<dt>596_T2</dt>\n",
       "\t\t<dd>20253112</dd>\n",
       "\t<dt>603_T2</dt>\n",
       "\t\t<dd>21737054</dd>\n",
       "\t<dt>593_T2</dt>\n",
       "\t\t<dd>21800865</dd>\n",
       "\t<dt>573_T2</dt>\n",
       "\t\t<dd>22426703</dd>\n",
       "\t<dt>589_T2</dt>\n",
       "\t\t<dd>23611264</dd>\n",
       "\t<dt>594_T2</dt>\n",
       "\t\t<dd>24035586</dd>\n",
       "\t<dt>571_T2</dt>\n",
       "\t\t<dd>24731392</dd>\n",
       "\t<dt>599_T2</dt>\n",
       "\t\t<dd>25030239</dd>\n",
       "\t<dt>598_T2</dt>\n",
       "\t\t<dd>26936333</dd>\n",
       "\t<dt>590_T2</dt>\n",
       "\t\t<dd>27721141</dd>\n",
       "</dl>\n"
      ],
      "text/latex": [
       "\\begin{description*}\n",
       "\\item[576\\textbackslash{}\\_T2] 10577691\n",
       "\\item[582\\textbackslash{}\\_T2] 11815156\n",
       "\\item[581\\textbackslash{}\\_T2] 11937797\n",
       "\\item[580\\textbackslash{}\\_T2] 12701598\n",
       "\\item[572\\textbackslash{}\\_T2] 13487439\n",
       "\\item[583\\textbackslash{}\\_T2] 13563804\n",
       "\\item[585\\textbackslash{}\\_T2] 13669145\n",
       "\\item[584\\textbackslash{}\\_T2] 14083500\n",
       "\\item[574\\textbackslash{}\\_T2] 14294673\n",
       "\\item[578\\textbackslash{}\\_T2] 14832570\n",
       "\\item[586\\textbackslash{}\\_T2] 15467514\n",
       "\\item[575\\textbackslash{}\\_T2] 16097872\n",
       "\\item[570\\textbackslash{}\\_T2] 16098073\n",
       "\\item[577\\textbackslash{}\\_T2] 18347897\n",
       "\\item[597\\textbackslash{}\\_T2] 20142542\n",
       "\\item[596\\textbackslash{}\\_T2] 20253112\n",
       "\\item[603\\textbackslash{}\\_T2] 21737054\n",
       "\\item[593\\textbackslash{}\\_T2] 21800865\n",
       "\\item[573\\textbackslash{}\\_T2] 22426703\n",
       "\\item[589\\textbackslash{}\\_T2] 23611264\n",
       "\\item[594\\textbackslash{}\\_T2] 24035586\n",
       "\\item[571\\textbackslash{}\\_T2] 24731392\n",
       "\\item[599\\textbackslash{}\\_T2] 25030239\n",
       "\\item[598\\textbackslash{}\\_T2] 26936333\n",
       "\\item[590\\textbackslash{}\\_T2] 27721141\n",
       "\\end{description*}\n"
      ],
      "text/markdown": [
       "576_T2\n",
       ":   10577691582_T2\n",
       ":   11815156581_T2\n",
       ":   11937797580_T2\n",
       ":   12701598572_T2\n",
       ":   13487439583_T2\n",
       ":   13563804585_T2\n",
       ":   13669145584_T2\n",
       ":   14083500574_T2\n",
       ":   14294673578_T2\n",
       ":   14832570586_T2\n",
       ":   15467514575_T2\n",
       ":   16097872570_T2\n",
       ":   16098073577_T2\n",
       ":   18347897597_T2\n",
       ":   20142542596_T2\n",
       ":   20253112603_T2\n",
       ":   21737054593_T2\n",
       ":   21800865573_T2\n",
       ":   22426703589_T2\n",
       ":   23611264594_T2\n",
       ":   24035586571_T2\n",
       ":   24731392599_T2\n",
       ":   25030239598_T2\n",
       ":   26936333590_T2\n",
       ":   27721141\n",
       "\n"
      ],
      "text/plain": [
       "  576_T2   582_T2   581_T2   580_T2   572_T2   583_T2   585_T2   584_T2 \n",
       "10577691 11815156 11937797 12701598 13487439 13563804 13669145 14083500 \n",
       "  574_T2   578_T2   586_T2   575_T2   570_T2   577_T2   597_T2   596_T2 \n",
       "14294673 14832570 15467514 16097872 16098073 18347897 20142542 20253112 \n",
       "  603_T2   593_T2   573_T2   589_T2   594_T2   571_T2   599_T2   598_T2 \n",
       "21737054 21800865 22426703 23611264 24035586 24731392 25030239 26936333 \n",
       "  590_T2 \n",
       "27721141 "
      ]
     },
     "metadata": {},
     "output_type": "display_data"
    },
    {
     "data": {
      "image/png": "[encoded data removed]",
      "text/plain": [
       "Plot with title “Histogram of depths”"
      ]
     },
     "metadata": {},
     "output_type": "display_data"
    }
   ],
   "source": [
    "library(phyloseq)\n",
    "library(ggplot2)\n",
    "library(dplyr)\n",
    "#Make sure the data has the sample names on rows if not just transform the data with t()\n",
    "abund_table<-read.csv(\"T2_Metabolites_WGS.csv\",row.names=1,check.names=FALSE)\n",
    "meta_table<-read.csv(\"Deseq2_T2_mapping.csv\",row.names=1,check.names=FALSE)\n",
    "#Transpose the data to have sample names on rows\n",
    "abund_table<-t(abund_table)\n",
    "meta_table<-data.frame(meta_table)\n",
    "#Now load the taxonomy (this is fake)\n",
    "OTU_taxonomy<-read.csv(\"taxonomy_metabolites_WGS.csv\",row.names=1,check.names=FALSE)\n",
    "#Convert to phyloseq\n",
    "library(phyloseq)\n",
    "#Convert the data to phyloseq format\n",
    "OTU = otu_table(as.matrix(abund_table), taxa_are_rows = FALSE)\n",
    "TAX = tax_table(as.matrix(OTU_taxonomy))\n",
    "SAM = sample_data(meta_table)\n",
    "physeq<-merge_phyloseq(phyloseq(OTU, TAX),SAM)\n",
    "# Start to explore the data a bit \n",
    "#number of samples\n",
    "print ('Number of Samples in our Biom Table')\n",
    "nsamples(physeq)\n",
    "# number of sequence variants\n",
    "print ('Number of Sequence variants we have.')\n",
    "ntaxa(physeq)\n",
    "#summary statistics of sampling depth\n",
    "print ('Sequencing depth.')\n",
    "depths <- sample_sums(physeq)\n",
    "summary(depths)\n",
    "hist(depths)\n",
    "head(sort(sample_sums(physeq)),25)"
   ]
  },
  {
   "cell_type": "code",
   "execution_count": 22,
   "metadata": {},
   "outputs": [
    {
     "data": {
      "text/plain": [
       "\n",
       "Permutation test for homogeneity of multivariate dispersions\n",
       "Permutation: free\n",
       "Number of permutations: 999\n",
       "\n",
       "Response: Distances\n",
       "          Df   Sum Sq   Mean Sq      F N.Perm Pr(>F)\n",
       "Groups     3 0.005920 0.0019735 0.6924    999  0.552\n",
       "Residuals 28 0.079807 0.0028502                     "
      ]
     },
     "metadata": {},
     "output_type": "display_data"
    },
    {
     "data": {
      "text/plain": [
       "\n",
       "Permutation test for homogeneity of multivariate dispersions\n",
       "Permutation: free\n",
       "Number of permutations: 999\n",
       "\n",
       "Response: Distances\n",
       "          Df   Sum Sq   Mean Sq      F N.Perm Pr(>F)\n",
       "Groups     3 0.005920 0.0019735 0.6924    999  0.591\n",
       "Residuals 28 0.079807 0.0028502                     "
      ]
     },
     "metadata": {},
     "output_type": "display_data"
    },
    {
     "data": {
      "text/html": [
       "<strong>png:</strong> 2"
      ],
      "text/latex": [
       "\\textbf{png:} 2"
      ],
      "text/markdown": [
       "**png:** 2"
      ],
      "text/plain": [
       "png \n",
       "  2 "
      ]
     },
     "metadata": {},
     "output_type": "display_data"
    },
    {
     "data": {
      "text/html": [
       "<ol class=list-inline>\n",
       "\t<li>'Treatment'</li>\n",
       "\t<li>'Timepoint'</li>\n",
       "</ol>\n"
      ],
      "text/latex": [
       "\\begin{enumerate*}\n",
       "\\item 'Treatment'\n",
       "\\item 'Timepoint'\n",
       "\\end{enumerate*}\n"
      ],
      "text/markdown": [
       "1. 'Treatment'\n",
       "2. 'Timepoint'\n",
       "\n",
       "\n"
      ],
      "text/plain": [
       "[1] \"Treatment\" \"Timepoint\""
      ]
     },
     "metadata": {},
     "output_type": "display_data"
    },
    {
     "data": {
      "text/html": [
       "<table>\n",
       "<thead><tr><th></th><th scope=col>Df</th><th scope=col>SumsOfSqs</th><th scope=col>MeanSqs</th><th scope=col>F.Model</th><th scope=col>R2</th><th scope=col>Pr(&gt;F)</th></tr></thead>\n",
       "<tbody>\n",
       "\t<tr><th scope=row>Treatment</th><td> 3         </td><td>1.504286   </td><td>0.50142852 </td><td>6.373608   </td><td>0.4057829  </td><td>0.000999001</td></tr>\n",
       "\t<tr><th scope=row>Residuals</th><td>28         </td><td>2.202834   </td><td>0.07867264 </td><td>      NA   </td><td>0.5942171  </td><td>         NA</td></tr>\n",
       "\t<tr><th scope=row>Total</th><td>31         </td><td>3.707119   </td><td>        NA </td><td>      NA   </td><td>1.0000000  </td><td>         NA</td></tr>\n",
       "</tbody>\n",
       "</table>\n"
      ],
      "text/latex": [
       "\\begin{tabular}{r|llllll}\n",
       "  & Df & SumsOfSqs & MeanSqs & F.Model & R2 & Pr(>F)\\\\\n",
       "\\hline\n",
       "\tTreatment &  3          & 1.504286    & 0.50142852  & 6.373608    & 0.4057829   & 0.000999001\\\\\n",
       "\tResiduals & 28          & 2.202834    & 0.07867264  &       NA    & 0.5942171   &          NA\\\\\n",
       "\tTotal & 31          & 3.707119    &         NA  &       NA    & 1.0000000   &          NA\\\\\n",
       "\\end{tabular}\n"
      ],
      "text/markdown": [
       "\n",
       "| <!--/--> | Df | SumsOfSqs | MeanSqs | F.Model | R2 | Pr(>F) |\n",
       "|---|---|---|---|---|---|---|\n",
       "| Treatment |  3          | 1.504286    | 0.50142852  | 6.373608    | 0.4057829   | 0.000999001 |\n",
       "| Residuals | 28          | 2.202834    | 0.07867264  |       NA    | 0.5942171   |          NA |\n",
       "| Total | 31          | 3.707119    |         NA  |       NA    | 1.0000000   |          NA |\n",
       "\n"
      ],
      "text/plain": [
       "          Df SumsOfSqs MeanSqs    F.Model  R2        Pr(>F)     \n",
       "Treatment  3 1.504286  0.50142852 6.373608 0.4057829 0.000999001\n",
       "Residuals 28 2.202834  0.07867264       NA 0.5942171          NA\n",
       "Total     31 3.707119          NA       NA 1.0000000          NA"
      ]
     },
     "metadata": {},
     "output_type": "display_data"
    },
    {
     "data": {
      "text/plain": [
       "\n",
       "\tHomogeneity of multivariate dispersions\n",
       "\n",
       "Call: betadisper(d = d, group = sampledf$Treatment)\n",
       "\n",
       "No. of Positive Eigenvalues: 30\n",
       "No. of Negative Eigenvalues: 1\n",
       "\n",
       "Average distance to median:\n",
       "    CoL     CoP     Let Placebo \n",
       " 0.2452  0.2504  0.2559  0.2807 \n",
       "\n",
       "Eigenvalues for PCoA axes:\n",
       "(Showing 8 of 31 eigenvalues)\n",
       " PCoA1  PCoA2  PCoA3  PCoA4  PCoA5  PCoA6  PCoA7  PCoA8 \n",
       "1.3948 0.3915 0.2301 0.1927 0.1916 0.1398 0.1319 0.1151 "
      ]
     },
     "metadata": {},
     "output_type": "display_data"
    },
    {
     "data": {
      "text/plain": [
       "phyloseq-class experiment-level object\n",
       "otu_table()   OTU Table:         [ 5627 taxa and 32 samples ]\n",
       "sample_data() Sample Data:       [ 32 samples by 2 sample variables ]\n",
       "tax_table()   Taxonomy Table:    [ 5627 taxa by 7 taxonomic ranks ]"
      ]
     },
     "metadata": {},
     "output_type": "display_data"
    },
    {
     "name": "stdout",
     "output_type": "stream",
     "text": [
      "Run 0 stress 0.1057305 \n",
      "Run 1 stress 0.126588 \n",
      "Run 2 stress 0.1057305 \n",
      "... New best solution\n",
      "... Procrustes: rmse 2.170239e-05  max resid 9.308846e-05 \n",
      "... Similar to previous best\n",
      "Run 3 stress 0.1057304 \n",
      "... New best solution\n",
      "... Procrustes: rmse 9.988729e-05  max resid 0.0005105261 \n",
      "... Similar to previous best\n",
      "Run 4 stress 0.1445351 \n",
      "Run 5 stress 0.1324937 \n",
      "Run 6 stress 0.1600272 \n",
      "Run 7 stress 0.1571363 \n",
      "Run 8 stress 0.1057304 \n",
      "... Procrustes: rmse 3.206625e-05  max resid 0.0001507501 \n",
      "... Similar to previous best\n",
      "Run 9 stress 0.1323267 \n",
      "Run 10 stress 0.1057304 \n",
      "... Procrustes: rmse 2.613916e-05  max resid 0.0001067044 \n",
      "... Similar to previous best\n",
      "Run 11 stress 0.1398017 \n",
      "Run 12 stress 0.1057304 \n",
      "... Procrustes: rmse 1.950703e-05  max resid 7.571404e-05 \n",
      "... Similar to previous best\n",
      "Run 13 stress 0.1380385 \n",
      "Run 14 stress 0.1265864 \n",
      "Run 15 stress 0.1265871 \n",
      "Run 16 stress 0.1323275 \n",
      "Run 17 stress 0.1381865 \n",
      "Run 18 stress 0.1057307 \n",
      "... Procrustes: rmse 0.0001473468  max resid 0.0007270739 \n",
      "... Similar to previous best\n",
      "Run 19 stress 0.1398017 \n",
      "Run 20 stress 0.1325418 \n",
      "*** Solution reached\n"
     ]
    },
    {
     "data": {
      "text/html": [
       "<strong>png:</strong> 2"
      ],
      "text/latex": [
       "\\textbf{png:} 2"
      ],
      "text/markdown": [
       "**png:** 2"
      ],
      "text/plain": [
       "png \n",
       "  2 "
      ]
     },
     "metadata": {},
     "output_type": "display_data"
    }
   ],
   "source": [
    "# It is always important to set a seed when you subsample so your result is replicable . Here we will be \n",
    "# subsampling libraries with replacement \n",
    "set.seed(123)\n",
    "        \n",
    " \n",
    "    \n",
    "meta.rarefy <- rarefy_even_depth(physeq, sample.size = 10500000, verbose = FALSE, replace = TRUE)#need to change sample size based off min sequencing depth\n",
    "library('vegan')\n",
    "###############################################\n",
    "#####  PERMANOVA  ############-----------------\n",
    "###############################################\n",
    "\n",
    "#make a data frame from the sample_data (unweighted unifrac)\n",
    "df = as(sample_data(meta.rarefy), \"data.frame\")\n",
    "d = phyloseq::distance(meta.rarefy, \"bray\")\n",
    "\n",
    "#test for homogeneity of data\n",
    "sampledf <- data.frame(sample_data(meta.rarefy))\n",
    "beta <- betadisper(d, sampledf$Treatment)\n",
    "permutest(beta)\n",
    "\n",
    "CategorybetaDNA <- betadisper(d, sampledf$Treatment)\n",
    "permutest(CategorybetaDNA)\n",
    "\n",
    "pdf('Metabolite_WGS_T2_ellipse.pdf', width=20, height=15)\n",
    "plot(CategorybetaDNA, ellipse = TRUE, hull=F)  \n",
    "dev.off()\n",
    "\n",
    "#now run permanova\n",
    "set.seed(2)\n",
    "GPNMDS = ordinate(meta.rarefy, \"PCoA\", d)\n",
    "sample_variables(meta.rarefy)\n",
    "a=adonis(d ~ Treatment, as(sample_data(meta.rarefy), \"data.frame\"), permutations=1000, method='bray', weighted=FALSE)\n",
    "a$aov.tab\n",
    "CategorybetaDNA\n",
    "meta.rarefy\n",
    "set.seed(123)\n",
    "DistBC = distance(meta.rarefy, method = \"bray\")\n",
    "#ordination\n",
    "ordBC = ordinate(meta.rarefy, method = \"NMDS\", distance = DistBC)\n",
    "cap_ord <- ordinate(\n",
    "    physeq = meta.rarefy, \n",
    "    method = \"CAP\",\n",
    "    distance = \"bray\",\n",
    "    formula = ~ Treatment \n",
    ")\n",
    "pdf('Metabolite_WGS_T2_CAP.pdf', width=15, height=15)\n",
    "cap_plot <- plot_ordination(physeq = meta.rarefy,ordination = cap_ord, \n",
    "    color = \"Treatment\",shape = \"Treatment\",axes = c(1,2)) + geom_point(size = 10)+\n",
    "    scale_color_manual(values = c(\"blue\", \"purple\", \"darkgreen\", \"red\", \n",
    "    \"#1919ff\", \"darkorchid3\", \"black\")) + ggtitle(\"CAP: Metabolite+WGS T2\") + theme_bw() +\n",
    "    theme(text = element_text(size = 50),\n",
    "    panel.grid.major=element_blank(),\n",
    "    panel.grid.minor=element_blank(), \n",
    "    panel.background=element_rect(colour=\"black\",fill=NA,size=2)) + \n",
    "    scale_shape_manual(values=c(15,18,17,19)) + geom_hline(yintercept=0,colour=\"black\",linetype=\"dashed\") + \n",
    "    geom_vline(xintercept=0,colour=\"black\",linetype=\"dashed\") \n",
    "cap_plot\n",
    "dev.off()"
   ]
  },
  {
   "cell_type": "markdown",
   "metadata": {},
   "source": [
    "# Metabolite + 16s T5"
   ]
  },
  {
   "cell_type": "code",
   "execution_count": 26,
   "metadata": {},
   "outputs": [
    {
     "name": "stdout",
     "output_type": "stream",
     "text": [
      "[1] \"Number of Samples in our Biom Table\"\n"
     ]
    },
    {
     "data": {
      "text/html": [
       "156"
      ],
      "text/latex": [
       "156"
      ],
      "text/markdown": [
       "156"
      ],
      "text/plain": [
       "[1] 156"
      ]
     },
     "metadata": {},
     "output_type": "display_data"
    },
    {
     "name": "stdout",
     "output_type": "stream",
     "text": [
      "[1] \"Number of Sequence variants we have.\"\n"
     ]
    },
    {
     "data": {
      "text/html": [
       "2658"
      ],
      "text/latex": [
       "2658"
      ],
      "text/markdown": [
       "2658"
      ],
      "text/plain": [
       "[1] 2658"
      ]
     },
     "metadata": {},
     "output_type": "display_data"
    }
   ],
   "source": [
    "library(phyloseq)\n",
    "library(ggplot2)\n",
    "library(dplyr)\n",
    "#Make sure the data has the sample names on rows if not just transform the data with t()\n",
    "abund_table<-read.csv(\"Metabolites_16S.csv\",row.names=1,check.names=FALSE)\n",
    "meta_table<-read.csv(\"Mapping_file_w_og.csv\",row.names=1,check.names=FALSE)\n",
    "#Transpose the data to have sample names on rows\n",
    "abund_table<-t(abund_table)\n",
    "meta_table<-data.frame(meta_table)\n",
    "#Now load the taxonomy (this is fake)\n",
    "OTU_taxonomy<-read.csv(\"taxonomy_metabolites_16S.csv\",row.names=1,check.names=FALSE)\n",
    "#Convert to phyloseq\n",
    "library(phyloseq)\n",
    "#Convert the data to phyloseq format\n",
    "OTU = otu_table(as.matrix(abund_table), taxa_are_rows = FALSE)\n",
    "TAX = tax_table(as.matrix(OTU_taxonomy))\n",
    "SAM = sample_data(meta_table)\n",
    "physeq<-merge_phyloseq(phyloseq(OTU, TAX),SAM)\n",
    "# Start to explore the data a bit \n",
    "#number of samples\n",
    "print ('Number of Samples in our Biom Table')\n",
    "nsamples(physeq)\n",
    "# number of sequence variants\n",
    "print ('Number of Sequence variants we have.')\n",
    "ntaxa(physeq)"
   ]
  },
  {
   "cell_type": "code",
   "execution_count": 27,
   "metadata": {},
   "outputs": [
    {
     "data": {
      "text/html": [
       "<ol class=list-inline>\n",
       "\t<li>Placebo</li>\n",
       "\t<li>Letrozole</li>\n",
       "\t<li>Co-P</li>\n",
       "\t<li>Co-L</li>\n",
       "</ol>\n",
       "\n",
       "<details>\n",
       "\t<summary style=display:list-item;cursor:pointer>\n",
       "\t\t<strong>Levels</strong>:\n",
       "\t</summary>\n",
       "\t<ol class=list-inline>\n",
       "\t\t<li>'Co-L'</li>\n",
       "\t\t<li>'Co-P'</li>\n",
       "\t\t<li>'Letrozole'</li>\n",
       "\t\t<li>'Placebo'</li>\n",
       "\t</ol>\n",
       "</details>"
      ],
      "text/latex": [
       "\\begin{enumerate*}\n",
       "\\item Placebo\n",
       "\\item Letrozole\n",
       "\\item Co-P\n",
       "\\item Co-L\n",
       "\\end{enumerate*}\n",
       "\n",
       "\\emph{Levels}: \\begin{enumerate*}\n",
       "\\item 'Co-L'\n",
       "\\item 'Co-P'\n",
       "\\item 'Letrozole'\n",
       "\\item 'Placebo'\n",
       "\\end{enumerate*}\n"
      ],
      "text/markdown": [
       "1. Placebo\n",
       "2. Letrozole\n",
       "3. Co-P\n",
       "4. Co-L\n",
       "\n",
       "\n",
       "\n",
       "**Levels**: 1. 'Co-L'\n",
       "2. 'Co-P'\n",
       "3. 'Letrozole'\n",
       "4. 'Placebo'\n",
       "\n",
       "\n"
      ],
      "text/plain": [
       "[1] Placebo   Letrozole Co-P      Co-L     \n",
       "Levels: Co-L Co-P Letrozole Placebo"
      ]
     },
     "metadata": {},
     "output_type": "display_data"
    },
    {
     "data": {
      "text/html": [
       "<ol class=list-inline>\n",
       "\t<li>1</li>\n",
       "\t<li>2</li>\n",
       "\t<li>3</li>\n",
       "\t<li>4</li>\n",
       "\t<li>5</li>\n",
       "</ol>\n",
       "\n",
       "<details>\n",
       "\t<summary style=display:list-item;cursor:pointer>\n",
       "\t\t<strong>Levels</strong>:\n",
       "\t</summary>\n",
       "\t<ol class=list-inline>\n",
       "\t\t<li>'1'</li>\n",
       "\t\t<li>'2'</li>\n",
       "\t\t<li>'3'</li>\n",
       "\t\t<li>'4'</li>\n",
       "\t\t<li>'5'</li>\n",
       "\t</ol>\n",
       "</details>"
      ],
      "text/latex": [
       "\\begin{enumerate*}\n",
       "\\item 1\n",
       "\\item 2\n",
       "\\item 3\n",
       "\\item 4\n",
       "\\item 5\n",
       "\\end{enumerate*}\n",
       "\n",
       "\\emph{Levels}: \\begin{enumerate*}\n",
       "\\item '1'\n",
       "\\item '2'\n",
       "\\item '3'\n",
       "\\item '4'\n",
       "\\item '5'\n",
       "\\end{enumerate*}\n"
      ],
      "text/markdown": [
       "1. 1\n",
       "2. 2\n",
       "3. 3\n",
       "4. 4\n",
       "5. 5\n",
       "\n",
       "\n",
       "\n",
       "**Levels**: 1. '1'\n",
       "2. '2'\n",
       "3. '3'\n",
       "4. '4'\n",
       "5. '5'\n",
       "\n",
       "\n"
      ],
      "text/plain": [
       "[1] 1 2 3 4 5\n",
       "Levels: 1 2 3 4 5"
      ]
     },
     "metadata": {},
     "output_type": "display_data"
    },
    {
     "data": {
      "text/html": [
       "<ol class=list-inline>\n",
       "\t<li>Placebo</li>\n",
       "\t<li>Letrozole</li>\n",
       "\t<li>Co-P</li>\n",
       "\t<li>Co-L</li>\n",
       "</ol>\n",
       "\n",
       "<details>\n",
       "\t<summary style=display:list-item;cursor:pointer>\n",
       "\t\t<strong>Levels</strong>:\n",
       "\t</summary>\n",
       "\t<ol class=list-inline>\n",
       "\t\t<li>'Co-L'</li>\n",
       "\t\t<li>'Co-P'</li>\n",
       "\t\t<li>'Letrozole'</li>\n",
       "\t\t<li>'Placebo'</li>\n",
       "\t</ol>\n",
       "</details>"
      ],
      "text/latex": [
       "\\begin{enumerate*}\n",
       "\\item Placebo\n",
       "\\item Letrozole\n",
       "\\item Co-P\n",
       "\\item Co-L\n",
       "\\end{enumerate*}\n",
       "\n",
       "\\emph{Levels}: \\begin{enumerate*}\n",
       "\\item 'Co-L'\n",
       "\\item 'Co-P'\n",
       "\\item 'Letrozole'\n",
       "\\item 'Placebo'\n",
       "\\end{enumerate*}\n"
      ],
      "text/markdown": [
       "1. Placebo\n",
       "2. Letrozole\n",
       "3. Co-P\n",
       "4. Co-L\n",
       "\n",
       "\n",
       "\n",
       "**Levels**: 1. 'Co-L'\n",
       "2. 'Co-P'\n",
       "3. 'Letrozole'\n",
       "4. 'Placebo'\n",
       "\n",
       "\n"
      ],
      "text/plain": [
       "[1] Placebo   Letrozole Co-P      Co-L     \n",
       "Levels: Co-L Co-P Letrozole Placebo"
      ]
     },
     "metadata": {},
     "output_type": "display_data"
    },
    {
     "data": {
      "text/html": [
       "5\n",
       "<details>\n",
       "\t<summary style=display:list-item;cursor:pointer>\n",
       "\t\t<strong>Levels</strong>:\n",
       "\t</summary>\n",
       "\t'5'\n",
       "</details>"
      ],
      "text/latex": [
       "5\n",
       "\\emph{Levels}: '5'"
      ],
      "text/markdown": [
       "5\n",
       "**Levels**: '5'"
      ],
      "text/plain": [
       "[1] 5\n",
       "Levels: 5"
      ]
     },
     "metadata": {},
     "output_type": "display_data"
    },
    {
     "name": "stdout",
     "output_type": "stream",
     "text": [
      "[1] \"Sequencing depth.\"\n"
     ]
    },
    {
     "data": {
      "text/plain": [
       "    Min.  1st Qu.   Median     Mean  3rd Qu.     Max. \n",
       " 4536639  7895075  9478852 10074467 12038012 19230890 "
      ]
     },
     "metadata": {},
     "output_type": "display_data"
    },
    {
     "data": {
      "text/html": [
       "<dl class=dl-horizontal>\n",
       "\t<dt>576.T5_BF11_01_33368</dt>\n",
       "\t\t<dd>4536638.99999999</dd>\n",
       "\t<dt>583.T5_BG5_01_33375</dt>\n",
       "\t\t<dd>4740327</dd>\n",
       "\t<dt>588.T5_BG9_01_33379</dt>\n",
       "\t\t<dd>5002817</dd>\n",
       "\t<dt>577.T5_BF12_01_33369</dt>\n",
       "\t\t<dd>5182671</dd>\n",
       "\t<dt>582.T5_BG4_01_33374</dt>\n",
       "\t\t<dd>6373842</dd>\n",
       "\t<dt>575.T5_BF10_01_33367</dt>\n",
       "\t\t<dd>6721940</dd>\n",
       "\t<dt>573.T5_BF8_01_33365</dt>\n",
       "\t\t<dd>7848295</dd>\n",
       "\t<dt>570.T5_BF5_01_33362</dt>\n",
       "\t\t<dd>7910667.99999999</dd>\n",
       "\t<dt>589.T5_BG10_01_33380</dt>\n",
       "\t\t<dd>7916061.00000001</dd>\n",
       "\t<dt>580.T5_BG2_01_33372</dt>\n",
       "\t\t<dd>8398073.99999999</dd>\n",
       "\t<dt>585.T5_BG7_01_33377</dt>\n",
       "\t\t<dd>8740154</dd>\n",
       "\t<dt>586.T5_BG8_01_33378</dt>\n",
       "\t\t<dd>8744401</dd>\n",
       "\t<dt>572.T5_BF7_01_33364</dt>\n",
       "\t\t<dd>9004230.00000001</dd>\n",
       "\t<dt>571.T5_BF6_01_33363</dt>\n",
       "\t\t<dd>9392402</dd>\n",
       "\t<dt>598.T5_BH7_01_33390</dt>\n",
       "\t\t<dd>9565301.99999999</dd>\n",
       "\t<dt>574.T5_BF9_01_33366</dt>\n",
       "\t\t<dd>9897550</dd>\n",
       "\t<dt>581.T5_BG3_01_33373</dt>\n",
       "\t\t<dd>10671315</dd>\n",
       "\t<dt>594.T5_BH3_01_33386</dt>\n",
       "\t\t<dd>10735102</dd>\n",
       "\t<dt>599.T5_BH8_01_33391</dt>\n",
       "\t\t<dd>11457990</dd>\n",
       "\t<dt>591.T5_BG12_01_33382</dt>\n",
       "\t\t<dd>11465065</dd>\n",
       "\t<dt>595.T5_BH4_01_33387</dt>\n",
       "\t\t<dd>11973325</dd>\n",
       "\t<dt>590.T5_BG11_01_33381</dt>\n",
       "\t\t<dd>12232074</dd>\n",
       "\t<dt>584.T5_BG6_01_33376</dt>\n",
       "\t\t<dd>12911299</dd>\n",
       "\t<dt>592.T5_BH1_01_33384</dt>\n",
       "\t\t<dd>12984230</dd>\n",
       "\t<dt>597.T5_BH6_01_33389</dt>\n",
       "\t\t<dd>14043479</dd>\n",
       "</dl>\n"
      ],
      "text/latex": [
       "\\begin{description*}\n",
       "\\item[576.T5\\textbackslash{}\\_BF11\\textbackslash{}\\_01\\textbackslash{}\\_33368] 4536638.99999999\n",
       "\\item[583.T5\\textbackslash{}\\_BG5\\textbackslash{}\\_01\\textbackslash{}\\_33375] 4740327\n",
       "\\item[588.T5\\textbackslash{}\\_BG9\\textbackslash{}\\_01\\textbackslash{}\\_33379] 5002817\n",
       "\\item[577.T5\\textbackslash{}\\_BF12\\textbackslash{}\\_01\\textbackslash{}\\_33369] 5182671\n",
       "\\item[582.T5\\textbackslash{}\\_BG4\\textbackslash{}\\_01\\textbackslash{}\\_33374] 6373842\n",
       "\\item[575.T5\\textbackslash{}\\_BF10\\textbackslash{}\\_01\\textbackslash{}\\_33367] 6721940\n",
       "\\item[573.T5\\textbackslash{}\\_BF8\\textbackslash{}\\_01\\textbackslash{}\\_33365] 7848295\n",
       "\\item[570.T5\\textbackslash{}\\_BF5\\textbackslash{}\\_01\\textbackslash{}\\_33362] 7910667.99999999\n",
       "\\item[589.T5\\textbackslash{}\\_BG10\\textbackslash{}\\_01\\textbackslash{}\\_33380] 7916061.00000001\n",
       "\\item[580.T5\\textbackslash{}\\_BG2\\textbackslash{}\\_01\\textbackslash{}\\_33372] 8398073.99999999\n",
       "\\item[585.T5\\textbackslash{}\\_BG7\\textbackslash{}\\_01\\textbackslash{}\\_33377] 8740154\n",
       "\\item[586.T5\\textbackslash{}\\_BG8\\textbackslash{}\\_01\\textbackslash{}\\_33378] 8744401\n",
       "\\item[572.T5\\textbackslash{}\\_BF7\\textbackslash{}\\_01\\textbackslash{}\\_33364] 9004230.00000001\n",
       "\\item[571.T5\\textbackslash{}\\_BF6\\textbackslash{}\\_01\\textbackslash{}\\_33363] 9392402\n",
       "\\item[598.T5\\textbackslash{}\\_BH7\\textbackslash{}\\_01\\textbackslash{}\\_33390] 9565301.99999999\n",
       "\\item[574.T5\\textbackslash{}\\_BF9\\textbackslash{}\\_01\\textbackslash{}\\_33366] 9897550\n",
       "\\item[581.T5\\textbackslash{}\\_BG3\\textbackslash{}\\_01\\textbackslash{}\\_33373] 10671315\n",
       "\\item[594.T5\\textbackslash{}\\_BH3\\textbackslash{}\\_01\\textbackslash{}\\_33386] 10735102\n",
       "\\item[599.T5\\textbackslash{}\\_BH8\\textbackslash{}\\_01\\textbackslash{}\\_33391] 11457990\n",
       "\\item[591.T5\\textbackslash{}\\_BG12\\textbackslash{}\\_01\\textbackslash{}\\_33382] 11465065\n",
       "\\item[595.T5\\textbackslash{}\\_BH4\\textbackslash{}\\_01\\textbackslash{}\\_33387] 11973325\n",
       "\\item[590.T5\\textbackslash{}\\_BG11\\textbackslash{}\\_01\\textbackslash{}\\_33381] 12232074\n",
       "\\item[584.T5\\textbackslash{}\\_BG6\\textbackslash{}\\_01\\textbackslash{}\\_33376] 12911299\n",
       "\\item[592.T5\\textbackslash{}\\_BH1\\textbackslash{}\\_01\\textbackslash{}\\_33384] 12984230\n",
       "\\item[597.T5\\textbackslash{}\\_BH6\\textbackslash{}\\_01\\textbackslash{}\\_33389] 14043479\n",
       "\\end{description*}\n"
      ],
      "text/markdown": [
       "576.T5_BF11_01_33368\n",
       ":   4536638.99999999583.T5_BG5_01_33375\n",
       ":   4740327588.T5_BG9_01_33379\n",
       ":   5002817577.T5_BF12_01_33369\n",
       ":   5182671582.T5_BG4_01_33374\n",
       ":   6373842575.T5_BF10_01_33367\n",
       ":   6721940573.T5_BF8_01_33365\n",
       ":   7848295570.T5_BF5_01_33362\n",
       ":   7910667.99999999589.T5_BG10_01_33380\n",
       ":   7916061.00000001580.T5_BG2_01_33372\n",
       ":   8398073.99999999585.T5_BG7_01_33377\n",
       ":   8740154586.T5_BG8_01_33378\n",
       ":   8744401572.T5_BF7_01_33364\n",
       ":   9004230.00000001571.T5_BF6_01_33363\n",
       ":   9392402598.T5_BH7_01_33390\n",
       ":   9565301.99999999574.T5_BF9_01_33366\n",
       ":   9897550581.T5_BG3_01_33373\n",
       ":   10671315594.T5_BH3_01_33386\n",
       ":   10735102599.T5_BH8_01_33391\n",
       ":   11457990591.T5_BG12_01_33382\n",
       ":   11465065595.T5_BH4_01_33387\n",
       ":   11973325590.T5_BG11_01_33381\n",
       ":   12232074584.T5_BG6_01_33376\n",
       ":   12911299592.T5_BH1_01_33384\n",
       ":   12984230597.T5_BH6_01_33389\n",
       ":   14043479\n",
       "\n"
      ],
      "text/plain": [
       "576.T5_BF11_01_33368  583.T5_BG5_01_33375  588.T5_BG9_01_33379 \n",
       "             4536639              4740327              5002817 \n",
       "577.T5_BF12_01_33369  582.T5_BG4_01_33374 575.T5_BF10_01_33367 \n",
       "             5182671              6373842              6721940 \n",
       " 573.T5_BF8_01_33365  570.T5_BF5_01_33362 589.T5_BG10_01_33380 \n",
       "             7848295              7910668              7916061 \n",
       " 580.T5_BG2_01_33372  585.T5_BG7_01_33377  586.T5_BG8_01_33378 \n",
       "             8398074              8740154              8744401 \n",
       " 572.T5_BF7_01_33364  571.T5_BF6_01_33363  598.T5_BH7_01_33390 \n",
       "             9004230              9392402              9565302 \n",
       " 574.T5_BF9_01_33366  581.T5_BG3_01_33373  594.T5_BH3_01_33386 \n",
       "             9897550             10671315             10735102 \n",
       " 599.T5_BH8_01_33391 591.T5_BG12_01_33382  595.T5_BH4_01_33387 \n",
       "            11457990             11465065             11973325 \n",
       "590.T5_BG11_01_33381  584.T5_BG6_01_33376  592.T5_BH1_01_33384 \n",
       "            12232074             12911299             12984230 \n",
       " 597.T5_BH6_01_33389 \n",
       "            14043479 "
      ]
     },
     "metadata": {},
     "output_type": "display_data"
    },
    {
     "data": {
      "image/png": "[encoded data removed]",
      "text/plain": [
       "Plot with title “Histogram of depths”"
      ]
     },
     "metadata": {},
     "output_type": "display_data"
    }
   ],
   "source": [
    "unique(sample_data(physeq)$Category)\n",
    "unique(sample_data(physeq)$Week)\n",
    "\n",
    "#Remove cecum and time 0\n",
    "physeq.pt = subset_samples(physeq, Week != 'cecum.T5' & Week != '0' & Week != '1'& Week != '3'& Week != '4'& Week != '2')\n",
    "unique(sample_data(physeq.pt)$Category)\n",
    "unique(sample_data(physeq.pt)$Week)\n",
    "\n",
    "#summary statistics of sampling depth\n",
    "print ('Sequencing depth.')\n",
    "depths <- sample_sums(physeq.pt)\n",
    "summary(depths)\n",
    "hist(depths)\n",
    "head(sort(sample_sums(physeq.pt)),25)"
   ]
  },
  {
   "cell_type": "code",
   "execution_count": 29,
   "metadata": {},
   "outputs": [
    {
     "data": {
      "text/plain": [
       "\n",
       "Permutation test for homogeneity of multivariate dispersions\n",
       "Permutation: free\n",
       "Number of permutations: 999\n",
       "\n",
       "Response: Distances\n",
       "          Df   Sum Sq   Mean Sq      F N.Perm Pr(>F)\n",
       "Groups     3 0.010397 0.0034656 1.0271    999  0.383\n",
       "Residuals 24 0.080979 0.0033741                     "
      ]
     },
     "metadata": {},
     "output_type": "display_data"
    },
    {
     "data": {
      "text/plain": [
       "\n",
       "Permutation test for homogeneity of multivariate dispersions\n",
       "Permutation: free\n",
       "Number of permutations: 999\n",
       "\n",
       "Response: Distances\n",
       "          Df   Sum Sq   Mean Sq      F N.Perm Pr(>F)\n",
       "Groups     3 0.010397 0.0034656 1.0271    999  0.372\n",
       "Residuals 24 0.080979 0.0033741                     "
      ]
     },
     "metadata": {},
     "output_type": "display_data"
    },
    {
     "data": {
      "text/html": [
       "<strong>png:</strong> 2"
      ],
      "text/latex": [
       "\\textbf{png:} 2"
      ],
      "text/markdown": [
       "**png:** 2"
      ],
      "text/plain": [
       "png \n",
       "  2 "
      ]
     },
     "metadata": {},
     "output_type": "display_data"
    },
    {
     "data": {
      "text/html": [
       "<ol class=list-inline>\n",
       "\t<li>'BarcodeSequence'</li>\n",
       "\t<li>'LinkerPrimerSequence'</li>\n",
       "\t<li>'filename'</li>\n",
       "\t<li>'ID_OG_MAP'</li>\n",
       "\t<li>'Barcode'</li>\n",
       "\t<li>'adaptor'</li>\n",
       "\t<li>'TSRI_Seq_plate'</li>\n",
       "\t<li>'Well_Position'</li>\n",
       "\t<li>'Sequenc_.Name'</li>\n",
       "\t<li>'Sequence'</li>\n",
       "\t<li>'PCR_Date'</li>\n",
       "\t<li>'Mouse'</li>\n",
       "\t<li>'Cage'</li>\n",
       "\t<li>'Week'</li>\n",
       "\t<li>'mouse.time'</li>\n",
       "\t<li>'Cecum'</li>\n",
       "\t<li>'Category_type_time'</li>\n",
       "\t<li>'weight'</li>\n",
       "\t<li>'Category'</li>\n",
       "\t<li>'type'</li>\n",
       "\t<li>'Lh'</li>\n",
       "\t<li>'Insulin'</li>\n",
       "\t<li>'Testosterone'</li>\n",
       "\t<li>'Weight_g'</li>\n",
       "\t<li>'observed_SVs1250'</li>\n",
       "\t<li>'pielou_e1250'</li>\n",
       "\t<li>'faith_pd1250'</li>\n",
       "\t<li>'shannon1250'</li>\n",
       "\t<li>'FBG'</li>\n",
       "\t<li>'Description'</li>\n",
       "\t<li>'ATTRIBUTE_GNPSDefaultGroup'</li>\n",
       "</ol>\n"
      ],
      "text/latex": [
       "\\begin{enumerate*}\n",
       "\\item 'BarcodeSequence'\n",
       "\\item 'LinkerPrimerSequence'\n",
       "\\item 'filename'\n",
       "\\item 'ID\\_OG\\_MAP'\n",
       "\\item 'Barcode'\n",
       "\\item 'adaptor'\n",
       "\\item 'TSRI\\_Seq\\_plate'\n",
       "\\item 'Well\\_Position'\n",
       "\\item 'Sequenc\\_.Name'\n",
       "\\item 'Sequence'\n",
       "\\item 'PCR\\_Date'\n",
       "\\item 'Mouse'\n",
       "\\item 'Cage'\n",
       "\\item 'Week'\n",
       "\\item 'mouse.time'\n",
       "\\item 'Cecum'\n",
       "\\item 'Category\\_type\\_time'\n",
       "\\item 'weight'\n",
       "\\item 'Category'\n",
       "\\item 'type'\n",
       "\\item 'Lh'\n",
       "\\item 'Insulin'\n",
       "\\item 'Testosterone'\n",
       "\\item 'Weight\\_g'\n",
       "\\item 'observed\\_SVs1250'\n",
       "\\item 'pielou\\_e1250'\n",
       "\\item 'faith\\_pd1250'\n",
       "\\item 'shannon1250'\n",
       "\\item 'FBG'\n",
       "\\item 'Description'\n",
       "\\item 'ATTRIBUTE\\_GNPSDefaultGroup'\n",
       "\\end{enumerate*}\n"
      ],
      "text/markdown": [
       "1. 'BarcodeSequence'\n",
       "2. 'LinkerPrimerSequence'\n",
       "3. 'filename'\n",
       "4. 'ID_OG_MAP'\n",
       "5. 'Barcode'\n",
       "6. 'adaptor'\n",
       "7. 'TSRI_Seq_plate'\n",
       "8. 'Well_Position'\n",
       "9. 'Sequenc_.Name'\n",
       "10. 'Sequence'\n",
       "11. 'PCR_Date'\n",
       "12. 'Mouse'\n",
       "13. 'Cage'\n",
       "14. 'Week'\n",
       "15. 'mouse.time'\n",
       "16. 'Cecum'\n",
       "17. 'Category_type_time'\n",
       "18. 'weight'\n",
       "19. 'Category'\n",
       "20. 'type'\n",
       "21. 'Lh'\n",
       "22. 'Insulin'\n",
       "23. 'Testosterone'\n",
       "24. 'Weight_g'\n",
       "25. 'observed_SVs1250'\n",
       "26. 'pielou_e1250'\n",
       "27. 'faith_pd1250'\n",
       "28. 'shannon1250'\n",
       "29. 'FBG'\n",
       "30. 'Description'\n",
       "31. 'ATTRIBUTE_GNPSDefaultGroup'\n",
       "\n",
       "\n"
      ],
      "text/plain": [
       " [1] \"BarcodeSequence\"            \"LinkerPrimerSequence\"      \n",
       " [3] \"filename\"                   \"ID_OG_MAP\"                 \n",
       " [5] \"Barcode\"                    \"adaptor\"                   \n",
       " [7] \"TSRI_Seq_plate\"             \"Well_Position\"             \n",
       " [9] \"Sequenc_.Name\"              \"Sequence\"                  \n",
       "[11] \"PCR_Date\"                   \"Mouse\"                     \n",
       "[13] \"Cage\"                       \"Week\"                      \n",
       "[15] \"mouse.time\"                 \"Cecum\"                     \n",
       "[17] \"Category_type_time\"         \"weight\"                    \n",
       "[19] \"Category\"                   \"type\"                      \n",
       "[21] \"Lh\"                         \"Insulin\"                   \n",
       "[23] \"Testosterone\"               \"Weight_g\"                  \n",
       "[25] \"observed_SVs1250\"           \"pielou_e1250\"              \n",
       "[27] \"faith_pd1250\"               \"shannon1250\"               \n",
       "[29] \"FBG\"                        \"Description\"               \n",
       "[31] \"ATTRIBUTE_GNPSDefaultGroup\""
      ]
     },
     "metadata": {},
     "output_type": "display_data"
    },
    {
     "data": {
      "text/html": [
       "<table>\n",
       "<thead><tr><th></th><th scope=col>Df</th><th scope=col>SumsOfSqs</th><th scope=col>MeanSqs</th><th scope=col>F.Model</th><th scope=col>R2</th><th scope=col>Pr(&gt;F)</th></tr></thead>\n",
       "<tbody>\n",
       "\t<tr><th scope=row>Category</th><td> 3        </td><td>0.572573  </td><td>0.1908577 </td><td>1.301485  </td><td>0.1399222 </td><td>0.03296703</td></tr>\n",
       "\t<tr><th scope=row>Residuals</th><td>24        </td><td>3.519507  </td><td>0.1466461 </td><td>      NA  </td><td>0.8600778 </td><td>        NA</td></tr>\n",
       "\t<tr><th scope=row>Total</th><td>27        </td><td>4.092080  </td><td>       NA </td><td>      NA  </td><td>1.0000000 </td><td>        NA</td></tr>\n",
       "</tbody>\n",
       "</table>\n"
      ],
      "text/latex": [
       "\\begin{tabular}{r|llllll}\n",
       "  & Df & SumsOfSqs & MeanSqs & F.Model & R2 & Pr(>F)\\\\\n",
       "\\hline\n",
       "\tCategory &  3         & 0.572573   & 0.1908577  & 1.301485   & 0.1399222  & 0.03296703\\\\\n",
       "\tResiduals & 24         & 3.519507   & 0.1466461  &       NA   & 0.8600778  &         NA\\\\\n",
       "\tTotal & 27         & 4.092080   &        NA  &       NA   & 1.0000000  &         NA\\\\\n",
       "\\end{tabular}\n"
      ],
      "text/markdown": [
       "\n",
       "| <!--/--> | Df | SumsOfSqs | MeanSqs | F.Model | R2 | Pr(>F) |\n",
       "|---|---|---|---|---|---|---|\n",
       "| Category |  3         | 0.572573   | 0.1908577  | 1.301485   | 0.1399222  | 0.03296703 |\n",
       "| Residuals | 24         | 3.519507   | 0.1466461  |       NA   | 0.8600778  |         NA |\n",
       "| Total | 27         | 4.092080   |        NA  |       NA   | 1.0000000  |         NA |\n",
       "\n"
      ],
      "text/plain": [
       "          Df SumsOfSqs MeanSqs   F.Model  R2        Pr(>F)    \n",
       "Category   3 0.572573  0.1908577 1.301485 0.1399222 0.03296703\n",
       "Residuals 24 3.519507  0.1466461       NA 0.8600778         NA\n",
       "Total     27 4.092080         NA       NA 1.0000000         NA"
      ]
     },
     "metadata": {},
     "output_type": "display_data"
    },
    {
     "data": {
      "text/plain": [
       "\n",
       "\tHomogeneity of multivariate dispersions\n",
       "\n",
       "Call: betadisper(d = d, group = sampledf$Category)\n",
       "\n",
       "No. of Positive Eigenvalues: 27\n",
       "No. of Negative Eigenvalues: 0\n",
       "\n",
       "Average distance to median:\n",
       "     Co-L      Co-P Letrozole   Placebo \n",
       "   0.3763    0.3390    0.3636    0.3275 \n",
       "\n",
       "Eigenvalues for PCoA axes:\n",
       "(Showing 8 of 27 eigenvalues)\n",
       " PCoA1  PCoA2  PCoA3  PCoA4  PCoA5  PCoA6  PCoA7  PCoA8 \n",
       "0.6390 0.4297 0.4160 0.3334 0.3014 0.2649 0.2000 0.1804 "
      ]
     },
     "metadata": {},
     "output_type": "display_data"
    },
    {
     "data": {
      "text/plain": [
       "phyloseq-class experiment-level object\n",
       "otu_table()   OTU Table:         [ 1875 taxa and 28 samples ]\n",
       "sample_data() Sample Data:       [ 28 samples by 31 sample variables ]\n",
       "tax_table()   Taxonomy Table:    [ 1875 taxa by 7 taxonomic ranks ]"
      ]
     },
     "metadata": {},
     "output_type": "display_data"
    },
    {
     "name": "stdout",
     "output_type": "stream",
     "text": [
      "Run 0 stress 0.2255957 \n",
      "Run 1 stress 0.216383 \n",
      "... New best solution\n",
      "... Procrustes: rmse 0.144671  max resid 0.3567129 \n",
      "Run 2 stress 0.2467045 \n",
      "Run 3 stress 0.2314916 \n",
      "Run 4 stress 0.2359156 \n",
      "Run 5 stress 0.214871 \n",
      "... New best solution\n",
      "... Procrustes: rmse 0.06379649  max resid 0.159633 \n",
      "Run 6 stress 0.219909 \n",
      "Run 7 stress 0.2295921 \n",
      "Run 8 stress 0.2297957 \n",
      "Run 9 stress 0.2315044 \n",
      "Run 10 stress 0.2395378 \n",
      "Run 11 stress 0.2180449 \n",
      "Run 12 stress 0.2361565 \n",
      "Run 13 stress 0.2188641 \n",
      "Run 14 stress 0.242439 \n",
      "Run 15 stress 0.242804 \n",
      "Run 16 stress 0.2178833 \n",
      "Run 17 stress 0.2148415 \n",
      "... New best solution\n",
      "... Procrustes: rmse 0.007178987  max resid 0.02391267 \n",
      "Run 18 stress 0.2233831 \n",
      "Run 19 stress 0.239569 \n",
      "Run 20 stress 0.2183861 \n",
      "*** No convergence -- monoMDS stopping criteria:\n",
      "    20: stress ratio > sratmax\n"
     ]
    },
    {
     "data": {
      "text/html": [
       "<strong>png:</strong> 2"
      ],
      "text/latex": [
       "\\textbf{png:} 2"
      ],
      "text/markdown": [
       "**png:** 2"
      ],
      "text/plain": [
       "png \n",
       "  2 "
      ]
     },
     "metadata": {},
     "output_type": "display_data"
    }
   ],
   "source": [
    "# It is always important to set a seed when you subsample so your result is replicable . Here we will be \n",
    "# subsampling libraries with replacement \n",
    "set.seed(123)\n",
    "        \n",
    " \n",
    "    \n",
    "meta.rarefy <- rarefy_even_depth(physeq.pt, sample.size = 4530000, verbose = FALSE, replace = TRUE)#need to change sample size based off min sequencing depth\n",
    "library('vegan')\n",
    "###############################################\n",
    "#####  PERMANOVA  ############-----------------\n",
    "###############################################\n",
    "\n",
    "#make a data frame from the sample_data (unweighted unifrac)\n",
    "df = as(sample_data(meta.rarefy), \"data.frame\")\n",
    "d = phyloseq::distance(meta.rarefy, \"bray\")\n",
    "\n",
    "#test for homogeneity of data\n",
    "sampledf <- data.frame(sample_data(meta.rarefy))\n",
    "beta <- betadisper(d, sampledf$Category)\n",
    "permutest(beta)\n",
    "\n",
    "CategorybetaDNA <- betadisper(d, sampledf$Category)\n",
    "permutest(CategorybetaDNA)\n",
    "\n",
    "pdf('Metabolite_16S_T5_ellipse.pdf', width=20, height=15)\n",
    "plot(CategorybetaDNA, ellipse = TRUE, hull=F)  \n",
    "dev.off()\n",
    "\n",
    "#now run permanova\n",
    "set.seed(2)\n",
    "GPNMDS = ordinate(meta.rarefy, \"PCoA\", d)\n",
    "sample_variables(meta.rarefy)\n",
    "a=adonis(d ~ Category, as(sample_data(meta.rarefy), \"data.frame\"), permutations=1000, method='bray', weighted=FALSE)\n",
    "a$aov.tab\n",
    "CategorybetaDNA\n",
    "meta.rarefy\n",
    "set.seed(123)\n",
    "DistBC = distance(meta.rarefy, method = \"bray\")\n",
    "#ordination\n",
    "ordBC = ordinate(meta.rarefy, method = \"NMDS\", distance = DistBC)\n",
    "cap_ord <- ordinate(\n",
    "    physeq = meta.rarefy, \n",
    "    method = \"CAP\",\n",
    "    distance = \"bray\",\n",
    "    formula = ~ Category \n",
    ")\n",
    "pdf('Metabolite_16S_T5_CAP.pdf', width=15, height=15)\n",
    "cap_plot <- plot_ordination(physeq = meta.rarefy,ordination = cap_ord, \n",
    "    color = \"Category\",shape = \"Category\",axes = c(1,2)) + geom_point(size = 10)+\n",
    "    scale_color_manual(values = c(\"blue\", \"purple\", \"darkgreen\", \"red\", \n",
    "    \"#1919ff\", \"darkorchid3\", \"black\")) + ggtitle(\"CAP: Metabolite+16S T5\") + theme_bw() +\n",
    "    theme(text = element_text(size = 50),\n",
    "    panel.grid.major=element_blank(),\n",
    "    panel.grid.minor=element_blank(), \n",
    "    panel.background=element_rect(colour=\"black\",fill=NA,size=2)) + \n",
    "    scale_shape_manual(values=c(15,18,17,19)) + geom_hline(yintercept=0,colour=\"black\",linetype=\"dashed\") + \n",
    "    geom_vline(xintercept=0,colour=\"black\",linetype=\"dashed\") \n",
    "cap_plot\n",
    "dev.off()"
   ]
  },
  {
   "cell_type": "markdown",
   "metadata": {},
   "source": [
    "# Metabolite 16S T2"
   ]
  },
  {
   "cell_type": "code",
   "execution_count": 30,
   "metadata": {},
   "outputs": [
    {
     "data": {
      "text/html": [
       "<ol class=list-inline>\n",
       "\t<li>Placebo</li>\n",
       "\t<li>Letrozole</li>\n",
       "\t<li>Co-P</li>\n",
       "\t<li>Co-L</li>\n",
       "</ol>\n",
       "\n",
       "<details>\n",
       "\t<summary style=display:list-item;cursor:pointer>\n",
       "\t\t<strong>Levels</strong>:\n",
       "\t</summary>\n",
       "\t<ol class=list-inline>\n",
       "\t\t<li>'Co-L'</li>\n",
       "\t\t<li>'Co-P'</li>\n",
       "\t\t<li>'Letrozole'</li>\n",
       "\t\t<li>'Placebo'</li>\n",
       "\t</ol>\n",
       "</details>"
      ],
      "text/latex": [
       "\\begin{enumerate*}\n",
       "\\item Placebo\n",
       "\\item Letrozole\n",
       "\\item Co-P\n",
       "\\item Co-L\n",
       "\\end{enumerate*}\n",
       "\n",
       "\\emph{Levels}: \\begin{enumerate*}\n",
       "\\item 'Co-L'\n",
       "\\item 'Co-P'\n",
       "\\item 'Letrozole'\n",
       "\\item 'Placebo'\n",
       "\\end{enumerate*}\n"
      ],
      "text/markdown": [
       "1. Placebo\n",
       "2. Letrozole\n",
       "3. Co-P\n",
       "4. Co-L\n",
       "\n",
       "\n",
       "\n",
       "**Levels**: 1. 'Co-L'\n",
       "2. 'Co-P'\n",
       "3. 'Letrozole'\n",
       "4. 'Placebo'\n",
       "\n",
       "\n"
      ],
      "text/plain": [
       "[1] Placebo   Letrozole Co-P      Co-L     \n",
       "Levels: Co-L Co-P Letrozole Placebo"
      ]
     },
     "metadata": {},
     "output_type": "display_data"
    },
    {
     "data": {
      "text/html": [
       "<ol class=list-inline>\n",
       "\t<li>1</li>\n",
       "\t<li>2</li>\n",
       "\t<li>3</li>\n",
       "\t<li>4</li>\n",
       "\t<li>5</li>\n",
       "</ol>\n",
       "\n",
       "<details>\n",
       "\t<summary style=display:list-item;cursor:pointer>\n",
       "\t\t<strong>Levels</strong>:\n",
       "\t</summary>\n",
       "\t<ol class=list-inline>\n",
       "\t\t<li>'1'</li>\n",
       "\t\t<li>'2'</li>\n",
       "\t\t<li>'3'</li>\n",
       "\t\t<li>'4'</li>\n",
       "\t\t<li>'5'</li>\n",
       "\t</ol>\n",
       "</details>"
      ],
      "text/latex": [
       "\\begin{enumerate*}\n",
       "\\item 1\n",
       "\\item 2\n",
       "\\item 3\n",
       "\\item 4\n",
       "\\item 5\n",
       "\\end{enumerate*}\n",
       "\n",
       "\\emph{Levels}: \\begin{enumerate*}\n",
       "\\item '1'\n",
       "\\item '2'\n",
       "\\item '3'\n",
       "\\item '4'\n",
       "\\item '5'\n",
       "\\end{enumerate*}\n"
      ],
      "text/markdown": [
       "1. 1\n",
       "2. 2\n",
       "3. 3\n",
       "4. 4\n",
       "5. 5\n",
       "\n",
       "\n",
       "\n",
       "**Levels**: 1. '1'\n",
       "2. '2'\n",
       "3. '3'\n",
       "4. '4'\n",
       "5. '5'\n",
       "\n",
       "\n"
      ],
      "text/plain": [
       "[1] 1 2 3 4 5\n",
       "Levels: 1 2 3 4 5"
      ]
     },
     "metadata": {},
     "output_type": "display_data"
    },
    {
     "data": {
      "text/html": [
       "<ol class=list-inline>\n",
       "\t<li>Placebo</li>\n",
       "\t<li>Letrozole</li>\n",
       "\t<li>Co-P</li>\n",
       "\t<li>Co-L</li>\n",
       "</ol>\n",
       "\n",
       "<details>\n",
       "\t<summary style=display:list-item;cursor:pointer>\n",
       "\t\t<strong>Levels</strong>:\n",
       "\t</summary>\n",
       "\t<ol class=list-inline>\n",
       "\t\t<li>'Co-L'</li>\n",
       "\t\t<li>'Co-P'</li>\n",
       "\t\t<li>'Letrozole'</li>\n",
       "\t\t<li>'Placebo'</li>\n",
       "\t</ol>\n",
       "</details>"
      ],
      "text/latex": [
       "\\begin{enumerate*}\n",
       "\\item Placebo\n",
       "\\item Letrozole\n",
       "\\item Co-P\n",
       "\\item Co-L\n",
       "\\end{enumerate*}\n",
       "\n",
       "\\emph{Levels}: \\begin{enumerate*}\n",
       "\\item 'Co-L'\n",
       "\\item 'Co-P'\n",
       "\\item 'Letrozole'\n",
       "\\item 'Placebo'\n",
       "\\end{enumerate*}\n"
      ],
      "text/markdown": [
       "1. Placebo\n",
       "2. Letrozole\n",
       "3. Co-P\n",
       "4. Co-L\n",
       "\n",
       "\n",
       "\n",
       "**Levels**: 1. 'Co-L'\n",
       "2. 'Co-P'\n",
       "3. 'Letrozole'\n",
       "4. 'Placebo'\n",
       "\n",
       "\n"
      ],
      "text/plain": [
       "[1] Placebo   Letrozole Co-P      Co-L     \n",
       "Levels: Co-L Co-P Letrozole Placebo"
      ]
     },
     "metadata": {},
     "output_type": "display_data"
    },
    {
     "data": {
      "text/html": [
       "2\n",
       "<details>\n",
       "\t<summary style=display:list-item;cursor:pointer>\n",
       "\t\t<strong>Levels</strong>:\n",
       "\t</summary>\n",
       "\t'2'\n",
       "</details>"
      ],
      "text/latex": [
       "2\n",
       "\\emph{Levels}: '2'"
      ],
      "text/markdown": [
       "2\n",
       "**Levels**: '2'"
      ],
      "text/plain": [
       "[1] 2\n",
       "Levels: 2"
      ]
     },
     "metadata": {},
     "output_type": "display_data"
    },
    {
     "name": "stdout",
     "output_type": "stream",
     "text": [
      "[1] \"Sequencing depth.\"\n"
     ]
    },
    {
     "data": {
      "text/plain": [
       "    Min.  1st Qu.   Median     Mean  3rd Qu.     Max. \n",
       " 6038131  8069925 14044905 14139396 19942043 26151693 "
      ]
     },
     "metadata": {},
     "output_type": "display_data"
    },
    {
     "data": {
      "text/html": [
       "<dl class=dl-horizontal>\n",
       "\t<dt>582.T2_RG4_01_33142</dt>\n",
       "\t\t<dd>6038131</dd>\n",
       "\t<dt>581.T2_RG3_01_33141</dt>\n",
       "\t\t<dd>6561713</dd>\n",
       "\t<dt>584.T2_RG6_01_33144</dt>\n",
       "\t\t<dd>6771430.00000001</dd>\n",
       "\t<dt>576.T2_RF11_01_33136</dt>\n",
       "\t\t<dd>6827856</dd>\n",
       "\t<dt>583.T2_RG5_01_33143</dt>\n",
       "\t\t<dd>7022115</dd>\n",
       "\t<dt>580.T2_RG2_01_33140</dt>\n",
       "\t\t<dd>7188500</dd>\n",
       "\t<dt>586.T2_RG8_01_33146</dt>\n",
       "\t\t<dd>7324135</dd>\n",
       "\t<dt>585.T2_RG7_01_33145</dt>\n",
       "\t\t<dd>7631045</dd>\n",
       "\t<dt>574.T2_RF9_01_33134</dt>\n",
       "\t\t<dd>8216218</dd>\n",
       "\t<dt>578.T2_RG1_01_33139</dt>\n",
       "\t\t<dd>8390967.00000001</dd>\n",
       "\t<dt>572.T2_RF7_01_33132</dt>\n",
       "\t\t<dd>8588804</dd>\n",
       "\t<dt>575.T2_RF10_01_33135</dt>\n",
       "\t\t<dd>9369408</dd>\n",
       "\t<dt>570.T2_RF5_01_33130</dt>\n",
       "\t\t<dd>9813431</dd>\n",
       "\t<dt>577.T2_RF12_01_33137</dt>\n",
       "\t\t<dd>12071085</dd>\n",
       "\t<dt>597.T2_RH6_01_33157</dt>\n",
       "\t\t<dd>13445696</dd>\n",
       "\t<dt>603.T2_RH12_01_33163</dt>\n",
       "\t\t<dd>14014220</dd>\n",
       "\t<dt>596.T2_RH5_01_33156</dt>\n",
       "\t\t<dd>14075590</dd>\n",
       "\t<dt>573.T2_RF8_01_33133</dt>\n",
       "\t\t<dd>14350908</dd>\n",
       "\t<dt>593.T2_RH2_01_33153</dt>\n",
       "\t\t<dd>15307208</dd>\n",
       "\t<dt>594.T2_RH3_01_33154</dt>\n",
       "\t\t<dd>17017216</dd>\n",
       "\t<dt>589.T2_RG10_01_33148</dt>\n",
       "\t\t<dd>17945846</dd>\n",
       "\t<dt>571.T2_RF6_01_33131</dt>\n",
       "\t\t<dd>18371671</dd>\n",
       "\t<dt>599.T2_RH8_01_33159</dt>\n",
       "\t\t<dd>19081034</dd>\n",
       "\t<dt>598.T2_RH7_01_33158</dt>\n",
       "\t\t<dd>19835265</dd>\n",
       "\t<dt>602.T2_RH11_01_33162</dt>\n",
       "\t\t<dd>20262378</dd>\n",
       "</dl>\n"
      ],
      "text/latex": [
       "\\begin{description*}\n",
       "\\item[582.T2\\textbackslash{}\\_RG4\\textbackslash{}\\_01\\textbackslash{}\\_33142] 6038131\n",
       "\\item[581.T2\\textbackslash{}\\_RG3\\textbackslash{}\\_01\\textbackslash{}\\_33141] 6561713\n",
       "\\item[584.T2\\textbackslash{}\\_RG6\\textbackslash{}\\_01\\textbackslash{}\\_33144] 6771430.00000001\n",
       "\\item[576.T2\\textbackslash{}\\_RF11\\textbackslash{}\\_01\\textbackslash{}\\_33136] 6827856\n",
       "\\item[583.T2\\textbackslash{}\\_RG5\\textbackslash{}\\_01\\textbackslash{}\\_33143] 7022115\n",
       "\\item[580.T2\\textbackslash{}\\_RG2\\textbackslash{}\\_01\\textbackslash{}\\_33140] 7188500\n",
       "\\item[586.T2\\textbackslash{}\\_RG8\\textbackslash{}\\_01\\textbackslash{}\\_33146] 7324135\n",
       "\\item[585.T2\\textbackslash{}\\_RG7\\textbackslash{}\\_01\\textbackslash{}\\_33145] 7631045\n",
       "\\item[574.T2\\textbackslash{}\\_RF9\\textbackslash{}\\_01\\textbackslash{}\\_33134] 8216218\n",
       "\\item[578.T2\\textbackslash{}\\_RG1\\textbackslash{}\\_01\\textbackslash{}\\_33139] 8390967.00000001\n",
       "\\item[572.T2\\textbackslash{}\\_RF7\\textbackslash{}\\_01\\textbackslash{}\\_33132] 8588804\n",
       "\\item[575.T2\\textbackslash{}\\_RF10\\textbackslash{}\\_01\\textbackslash{}\\_33135] 9369408\n",
       "\\item[570.T2\\textbackslash{}\\_RF5\\textbackslash{}\\_01\\textbackslash{}\\_33130] 9813431\n",
       "\\item[577.T2\\textbackslash{}\\_RF12\\textbackslash{}\\_01\\textbackslash{}\\_33137] 12071085\n",
       "\\item[597.T2\\textbackslash{}\\_RH6\\textbackslash{}\\_01\\textbackslash{}\\_33157] 13445696\n",
       "\\item[603.T2\\textbackslash{}\\_RH12\\textbackslash{}\\_01\\textbackslash{}\\_33163] 14014220\n",
       "\\item[596.T2\\textbackslash{}\\_RH5\\textbackslash{}\\_01\\textbackslash{}\\_33156] 14075590\n",
       "\\item[573.T2\\textbackslash{}\\_RF8\\textbackslash{}\\_01\\textbackslash{}\\_33133] 14350908\n",
       "\\item[593.T2\\textbackslash{}\\_RH2\\textbackslash{}\\_01\\textbackslash{}\\_33153] 15307208\n",
       "\\item[594.T2\\textbackslash{}\\_RH3\\textbackslash{}\\_01\\textbackslash{}\\_33154] 17017216\n",
       "\\item[589.T2\\textbackslash{}\\_RG10\\textbackslash{}\\_01\\textbackslash{}\\_33148] 17945846\n",
       "\\item[571.T2\\textbackslash{}\\_RF6\\textbackslash{}\\_01\\textbackslash{}\\_33131] 18371671\n",
       "\\item[599.T2\\textbackslash{}\\_RH8\\textbackslash{}\\_01\\textbackslash{}\\_33159] 19081034\n",
       "\\item[598.T2\\textbackslash{}\\_RH7\\textbackslash{}\\_01\\textbackslash{}\\_33158] 19835265\n",
       "\\item[602.T2\\textbackslash{}\\_RH11\\textbackslash{}\\_01\\textbackslash{}\\_33162] 20262378\n",
       "\\end{description*}\n"
      ],
      "text/markdown": [
       "582.T2_RG4_01_33142\n",
       ":   6038131581.T2_RG3_01_33141\n",
       ":   6561713584.T2_RG6_01_33144\n",
       ":   6771430.00000001576.T2_RF11_01_33136\n",
       ":   6827856583.T2_RG5_01_33143\n",
       ":   7022115580.T2_RG2_01_33140\n",
       ":   7188500586.T2_RG8_01_33146\n",
       ":   7324135585.T2_RG7_01_33145\n",
       ":   7631045574.T2_RF9_01_33134\n",
       ":   8216218578.T2_RG1_01_33139\n",
       ":   8390967.00000001572.T2_RF7_01_33132\n",
       ":   8588804575.T2_RF10_01_33135\n",
       ":   9369408570.T2_RF5_01_33130\n",
       ":   9813431577.T2_RF12_01_33137\n",
       ":   12071085597.T2_RH6_01_33157\n",
       ":   13445696603.T2_RH12_01_33163\n",
       ":   14014220596.T2_RH5_01_33156\n",
       ":   14075590573.T2_RF8_01_33133\n",
       ":   14350908593.T2_RH2_01_33153\n",
       ":   15307208594.T2_RH3_01_33154\n",
       ":   17017216589.T2_RG10_01_33148\n",
       ":   17945846571.T2_RF6_01_33131\n",
       ":   18371671599.T2_RH8_01_33159\n",
       ":   19081034598.T2_RH7_01_33158\n",
       ":   19835265602.T2_RH11_01_33162\n",
       ":   20262378\n",
       "\n"
      ],
      "text/plain": [
       " 582.T2_RG4_01_33142  581.T2_RG3_01_33141  584.T2_RG6_01_33144 \n",
       "             6038131              6561713              6771430 \n",
       "576.T2_RF11_01_33136  583.T2_RG5_01_33143  580.T2_RG2_01_33140 \n",
       "             6827856              7022115              7188500 \n",
       " 586.T2_RG8_01_33146  585.T2_RG7_01_33145  574.T2_RF9_01_33134 \n",
       "             7324135              7631045              8216218 \n",
       " 578.T2_RG1_01_33139  572.T2_RF7_01_33132 575.T2_RF10_01_33135 \n",
       "             8390967              8588804              9369408 \n",
       " 570.T2_RF5_01_33130 577.T2_RF12_01_33137  597.T2_RH6_01_33157 \n",
       "             9813431             12071085             13445696 \n",
       "603.T2_RH12_01_33163  596.T2_RH5_01_33156  573.T2_RF8_01_33133 \n",
       "            14014220             14075590             14350908 \n",
       " 593.T2_RH2_01_33153  594.T2_RH3_01_33154 589.T2_RG10_01_33148 \n",
       "            15307208             17017216             17945846 \n",
       " 571.T2_RF6_01_33131  599.T2_RH8_01_33159  598.T2_RH7_01_33158 \n",
       "            18371671             19081034             19835265 \n",
       "602.T2_RH11_01_33162 \n",
       "            20262378 "
      ]
     },
     "metadata": {},
     "output_type": "display_data"
    },
    {
     "data": {
      "image/png": "[encoded data removed]",
      "text/plain": [
       "Plot with title “Histogram of depths”"
      ]
     },
     "metadata": {},
     "output_type": "display_data"
    }
   ],
   "source": [
    "unique(sample_data(physeq)$Category)\n",
    "unique(sample_data(physeq)$Week)\n",
    "\n",
    "#Remove cecum and time 0\n",
    "physeq.pt = subset_samples(physeq, Week != 'cecum.T5' & Week != '0' & Week != '1'& Week != '3'& Week != '4'& Week != '5')\n",
    "unique(sample_data(physeq.pt)$Category)\n",
    "unique(sample_data(physeq.pt)$Week)\n",
    "\n",
    "#summary statistics of sampling depth\n",
    "print ('Sequencing depth.')\n",
    "depths <- sample_sums(physeq.pt)\n",
    "summary(depths)\n",
    "hist(depths)\n",
    "head(sort(sample_sums(physeq.pt)),25)"
   ]
  },
  {
   "cell_type": "code",
   "execution_count": 31,
   "metadata": {},
   "outputs": [
    {
     "data": {
      "text/plain": [
       "\n",
       "Permutation test for homogeneity of multivariate dispersions\n",
       "Permutation: free\n",
       "Number of permutations: 999\n",
       "\n",
       "Response: Distances\n",
       "          Df   Sum Sq   Mean Sq      F N.Perm Pr(>F)  \n",
       "Groups     3 0.037449 0.0124830 3.0916    999  0.041 *\n",
       "Residuals 28 0.113058 0.0040378                       \n",
       "---\n",
       "Signif. codes:  0 ‘***’ 0.001 ‘**’ 0.01 ‘*’ 0.05 ‘.’ 0.1 ‘ ’ 1"
      ]
     },
     "metadata": {},
     "output_type": "display_data"
    },
    {
     "data": {
      "text/plain": [
       "\n",
       "Permutation test for homogeneity of multivariate dispersions\n",
       "Permutation: free\n",
       "Number of permutations: 999\n",
       "\n",
       "Response: Distances\n",
       "          Df   Sum Sq   Mean Sq      F N.Perm Pr(>F)  \n",
       "Groups     3 0.037449 0.0124830 3.0916    999  0.058 .\n",
       "Residuals 28 0.113058 0.0040378                       \n",
       "---\n",
       "Signif. codes:  0 ‘***’ 0.001 ‘**’ 0.01 ‘*’ 0.05 ‘.’ 0.1 ‘ ’ 1"
      ]
     },
     "metadata": {},
     "output_type": "display_data"
    },
    {
     "data": {
      "text/html": [
       "<strong>png:</strong> 2"
      ],
      "text/latex": [
       "\\textbf{png:} 2"
      ],
      "text/markdown": [
       "**png:** 2"
      ],
      "text/plain": [
       "png \n",
       "  2 "
      ]
     },
     "metadata": {},
     "output_type": "display_data"
    },
    {
     "data": {
      "text/html": [
       "<ol class=list-inline>\n",
       "\t<li>'BarcodeSequence'</li>\n",
       "\t<li>'LinkerPrimerSequence'</li>\n",
       "\t<li>'filename'</li>\n",
       "\t<li>'ID_OG_MAP'</li>\n",
       "\t<li>'Barcode'</li>\n",
       "\t<li>'adaptor'</li>\n",
       "\t<li>'TSRI_Seq_plate'</li>\n",
       "\t<li>'Well_Position'</li>\n",
       "\t<li>'Sequenc_.Name'</li>\n",
       "\t<li>'Sequence'</li>\n",
       "\t<li>'PCR_Date'</li>\n",
       "\t<li>'Mouse'</li>\n",
       "\t<li>'Cage'</li>\n",
       "\t<li>'Week'</li>\n",
       "\t<li>'mouse.time'</li>\n",
       "\t<li>'Cecum'</li>\n",
       "\t<li>'Category_type_time'</li>\n",
       "\t<li>'weight'</li>\n",
       "\t<li>'Category'</li>\n",
       "\t<li>'type'</li>\n",
       "\t<li>'Lh'</li>\n",
       "\t<li>'Insulin'</li>\n",
       "\t<li>'Testosterone'</li>\n",
       "\t<li>'Weight_g'</li>\n",
       "\t<li>'observed_SVs1250'</li>\n",
       "\t<li>'pielou_e1250'</li>\n",
       "\t<li>'faith_pd1250'</li>\n",
       "\t<li>'shannon1250'</li>\n",
       "\t<li>'FBG'</li>\n",
       "\t<li>'Description'</li>\n",
       "\t<li>'ATTRIBUTE_GNPSDefaultGroup'</li>\n",
       "</ol>\n"
      ],
      "text/latex": [
       "\\begin{enumerate*}\n",
       "\\item 'BarcodeSequence'\n",
       "\\item 'LinkerPrimerSequence'\n",
       "\\item 'filename'\n",
       "\\item 'ID\\_OG\\_MAP'\n",
       "\\item 'Barcode'\n",
       "\\item 'adaptor'\n",
       "\\item 'TSRI\\_Seq\\_plate'\n",
       "\\item 'Well\\_Position'\n",
       "\\item 'Sequenc\\_.Name'\n",
       "\\item 'Sequence'\n",
       "\\item 'PCR\\_Date'\n",
       "\\item 'Mouse'\n",
       "\\item 'Cage'\n",
       "\\item 'Week'\n",
       "\\item 'mouse.time'\n",
       "\\item 'Cecum'\n",
       "\\item 'Category\\_type\\_time'\n",
       "\\item 'weight'\n",
       "\\item 'Category'\n",
       "\\item 'type'\n",
       "\\item 'Lh'\n",
       "\\item 'Insulin'\n",
       "\\item 'Testosterone'\n",
       "\\item 'Weight\\_g'\n",
       "\\item 'observed\\_SVs1250'\n",
       "\\item 'pielou\\_e1250'\n",
       "\\item 'faith\\_pd1250'\n",
       "\\item 'shannon1250'\n",
       "\\item 'FBG'\n",
       "\\item 'Description'\n",
       "\\item 'ATTRIBUTE\\_GNPSDefaultGroup'\n",
       "\\end{enumerate*}\n"
      ],
      "text/markdown": [
       "1. 'BarcodeSequence'\n",
       "2. 'LinkerPrimerSequence'\n",
       "3. 'filename'\n",
       "4. 'ID_OG_MAP'\n",
       "5. 'Barcode'\n",
       "6. 'adaptor'\n",
       "7. 'TSRI_Seq_plate'\n",
       "8. 'Well_Position'\n",
       "9. 'Sequenc_.Name'\n",
       "10. 'Sequence'\n",
       "11. 'PCR_Date'\n",
       "12. 'Mouse'\n",
       "13. 'Cage'\n",
       "14. 'Week'\n",
       "15. 'mouse.time'\n",
       "16. 'Cecum'\n",
       "17. 'Category_type_time'\n",
       "18. 'weight'\n",
       "19. 'Category'\n",
       "20. 'type'\n",
       "21. 'Lh'\n",
       "22. 'Insulin'\n",
       "23. 'Testosterone'\n",
       "24. 'Weight_g'\n",
       "25. 'observed_SVs1250'\n",
       "26. 'pielou_e1250'\n",
       "27. 'faith_pd1250'\n",
       "28. 'shannon1250'\n",
       "29. 'FBG'\n",
       "30. 'Description'\n",
       "31. 'ATTRIBUTE_GNPSDefaultGroup'\n",
       "\n",
       "\n"
      ],
      "text/plain": [
       " [1] \"BarcodeSequence\"            \"LinkerPrimerSequence\"      \n",
       " [3] \"filename\"                   \"ID_OG_MAP\"                 \n",
       " [5] \"Barcode\"                    \"adaptor\"                   \n",
       " [7] \"TSRI_Seq_plate\"             \"Well_Position\"             \n",
       " [9] \"Sequenc_.Name\"              \"Sequence\"                  \n",
       "[11] \"PCR_Date\"                   \"Mouse\"                     \n",
       "[13] \"Cage\"                       \"Week\"                      \n",
       "[15] \"mouse.time\"                 \"Cecum\"                     \n",
       "[17] \"Category_type_time\"         \"weight\"                    \n",
       "[19] \"Category\"                   \"type\"                      \n",
       "[21] \"Lh\"                         \"Insulin\"                   \n",
       "[23] \"Testosterone\"               \"Weight_g\"                  \n",
       "[25] \"observed_SVs1250\"           \"pielou_e1250\"              \n",
       "[27] \"faith_pd1250\"               \"shannon1250\"               \n",
       "[29] \"FBG\"                        \"Description\"               \n",
       "[31] \"ATTRIBUTE_GNPSDefaultGroup\""
      ]
     },
     "metadata": {},
     "output_type": "display_data"
    },
    {
     "data": {
      "text/html": [
       "<table>\n",
       "<thead><tr><th></th><th scope=col>Df</th><th scope=col>SumsOfSqs</th><th scope=col>MeanSqs</th><th scope=col>F.Model</th><th scope=col>R2</th><th scope=col>Pr(&gt;F)</th></tr></thead>\n",
       "<tbody>\n",
       "\t<tr><th scope=row>Category</th><td> 3         </td><td>2.227527   </td><td>0.7425089  </td><td>6.093677   </td><td>0.3950005  </td><td>0.000999001</td></tr>\n",
       "\t<tr><th scope=row>Residuals</th><td>28         </td><td>3.411774   </td><td>0.1218491  </td><td>      NA   </td><td>0.6049995  </td><td>         NA</td></tr>\n",
       "\t<tr><th scope=row>Total</th><td>31         </td><td>5.639301   </td><td>       NA  </td><td>      NA   </td><td>1.0000000  </td><td>         NA</td></tr>\n",
       "</tbody>\n",
       "</table>\n"
      ],
      "text/latex": [
       "\\begin{tabular}{r|llllll}\n",
       "  & Df & SumsOfSqs & MeanSqs & F.Model & R2 & Pr(>F)\\\\\n",
       "\\hline\n",
       "\tCategory &  3          & 2.227527    & 0.7425089   & 6.093677    & 0.3950005   & 0.000999001\\\\\n",
       "\tResiduals & 28          & 3.411774    & 0.1218491   &       NA    & 0.6049995   &          NA\\\\\n",
       "\tTotal & 31          & 5.639301    &        NA   &       NA    & 1.0000000   &          NA\\\\\n",
       "\\end{tabular}\n"
      ],
      "text/markdown": [
       "\n",
       "| <!--/--> | Df | SumsOfSqs | MeanSqs | F.Model | R2 | Pr(>F) |\n",
       "|---|---|---|---|---|---|---|\n",
       "| Category |  3          | 2.227527    | 0.7425089   | 6.093677    | 0.3950005   | 0.000999001 |\n",
       "| Residuals | 28          | 3.411774    | 0.1218491   |       NA    | 0.6049995   |          NA |\n",
       "| Total | 31          | 5.639301    |        NA   |       NA    | 1.0000000   |          NA |\n",
       "\n"
      ],
      "text/plain": [
       "          Df SumsOfSqs MeanSqs   F.Model  R2        Pr(>F)     \n",
       "Category   3 2.227527  0.7425089 6.093677 0.3950005 0.000999001\n",
       "Residuals 28 3.411774  0.1218491       NA 0.6049995          NA\n",
       "Total     31 5.639301         NA       NA 1.0000000          NA"
      ]
     },
     "metadata": {},
     "output_type": "display_data"
    },
    {
     "data": {
      "text/plain": [
       "\n",
       "\tHomogeneity of multivariate dispersions\n",
       "\n",
       "Call: betadisper(d = d, group = sampledf$Category)\n",
       "\n",
       "No. of Positive Eigenvalues: 31\n",
       "No. of Negative Eigenvalues: 0\n",
       "\n",
       "Average distance to median:\n",
       "     Co-L      Co-P Letrozole   Placebo \n",
       "   0.2784    0.2948    0.3515    0.3564 \n",
       "\n",
       "Eigenvalues for PCoA axes:\n",
       "(Showing 8 of 31 eigenvalues)\n",
       " PCoA1  PCoA2  PCoA3  PCoA4  PCoA5  PCoA6  PCoA7  PCoA8 \n",
       "2.1264 0.4435 0.3687 0.3088 0.2564 0.2392 0.2040 0.1781 "
      ]
     },
     "metadata": {},
     "output_type": "display_data"
    },
    {
     "data": {
      "text/plain": [
       "phyloseq-class experiment-level object\n",
       "otu_table()   OTU Table:         [ 2095 taxa and 32 samples ]\n",
       "sample_data() Sample Data:       [ 32 samples by 31 sample variables ]\n",
       "tax_table()   Taxonomy Table:    [ 2095 taxa by 7 taxonomic ranks ]"
      ]
     },
     "metadata": {},
     "output_type": "display_data"
    },
    {
     "name": "stdout",
     "output_type": "stream",
     "text": [
      "Run 0 stress 0.101994 \n",
      "Run 1 stress 0.3933229 \n",
      "Run 2 stress 0.1237111 \n",
      "Run 3 stress 0.1202738 \n",
      "Run 4 stress 0.1100276 \n",
      "Run 5 stress 0.1134911 \n",
      "Run 6 stress 0.1289839 \n",
      "Run 7 stress 0.1284642 \n",
      "Run 8 stress 0.1338506 \n",
      "Run 9 stress 0.1134911 \n",
      "Run 10 stress 0.1044259 \n",
      "Run 11 stress 0.101994 \n",
      "... New best solution\n",
      "... Procrustes: rmse 2.509921e-05  max resid 0.0001144834 \n",
      "... Similar to previous best\n",
      "Run 12 stress 0.1075622 \n",
      "Run 13 stress 0.1151404 \n",
      "Run 14 stress 0.1185848 \n",
      "Run 15 stress 0.1190205 \n",
      "Run 16 stress 0.1277067 \n",
      "Run 17 stress 0.1044258 \n",
      "Run 18 stress 0.1075617 \n",
      "Run 19 stress 0.1069918 \n",
      "Run 20 stress 0.1307908 \n",
      "*** Solution reached\n"
     ]
    },
    {
     "data": {
      "text/html": [
       "<strong>png:</strong> 2"
      ],
      "text/latex": [
       "\\textbf{png:} 2"
      ],
      "text/markdown": [
       "**png:** 2"
      ],
      "text/plain": [
       "png \n",
       "  2 "
      ]
     },
     "metadata": {},
     "output_type": "display_data"
    }
   ],
   "source": [
    "# It is always important to set a seed when you subsample so your result is replicable . Here we will be \n",
    "# subsampling libraries with replacement \n",
    "set.seed(123)\n",
    "        \n",
    " \n",
    "    \n",
    "meta.rarefy <- rarefy_even_depth(physeq.pt, sample.size = 6030000, verbose = FALSE, replace = TRUE)#need to change sample size based off min sequencing depth\n",
    "library('vegan')\n",
    "###############################################\n",
    "#####  PERMANOVA  ############-----------------\n",
    "###############################################\n",
    "\n",
    "#make a data frame from the sample_data (unweighted unifrac)\n",
    "df = as(sample_data(meta.rarefy), \"data.frame\")\n",
    "d = phyloseq::distance(meta.rarefy, \"bray\")\n",
    "\n",
    "#test for homogeneity of data\n",
    "sampledf <- data.frame(sample_data(meta.rarefy))\n",
    "beta <- betadisper(d, sampledf$Category)\n",
    "permutest(beta)\n",
    "\n",
    "CategorybetaDNA <- betadisper(d, sampledf$Category)\n",
    "permutest(CategorybetaDNA)\n",
    "\n",
    "pdf('Metabolite_16S_T2_ellipse.pdf', width=20, height=15)\n",
    "plot(CategorybetaDNA, ellipse = TRUE, hull=F)  \n",
    "dev.off()\n",
    "\n",
    "#now run permanova\n",
    "set.seed(2)\n",
    "GPNMDS = ordinate(meta.rarefy, \"PCoA\", d)\n",
    "sample_variables(meta.rarefy)\n",
    "a=adonis(d ~ Category, as(sample_data(meta.rarefy), \"data.frame\"), permutations=1000, method='bray', weighted=FALSE)\n",
    "a$aov.tab\n",
    "CategorybetaDNA\n",
    "meta.rarefy\n",
    "set.seed(123)\n",
    "DistBC = distance(meta.rarefy, method = \"bray\")\n",
    "#ordination\n",
    "ordBC = ordinate(meta.rarefy, method = \"NMDS\", distance = DistBC)\n",
    "cap_ord <- ordinate(\n",
    "    physeq = meta.rarefy, \n",
    "    method = \"CAP\",\n",
    "    distance = \"bray\",\n",
    "    formula = ~ Category \n",
    ")\n",
    "pdf('Metabolite_16S_T2_CAP.pdf', width=15, height=15)\n",
    "cap_plot <- plot_ordination(physeq = meta.rarefy,ordination = cap_ord, \n",
    "    color = \"Category\",shape = \"Category\",axes = c(1,2)) + geom_point(size = 10)+\n",
    "    scale_color_manual(values = c(\"blue\", \"purple\", \"darkgreen\", \"red\", \n",
    "    \"#1919ff\", \"darkorchid3\", \"black\")) + ggtitle(\"CAP: Metabolite+16S T2\") + theme_bw() +\n",
    "    theme(text = element_text(size = 50),\n",
    "    panel.grid.major=element_blank(),\n",
    "    panel.grid.minor=element_blank(), \n",
    "    panel.background=element_rect(colour=\"black\",fill=NA,size=2)) + \n",
    "    scale_shape_manual(values=c(15,18,17,19)) + geom_hline(yintercept=0,colour=\"black\",linetype=\"dashed\") + \n",
    "    geom_vline(xintercept=0,colour=\"black\",linetype=\"dashed\") \n",
    "cap_plot\n",
    "dev.off()"
   ]
  },
  {
   "cell_type": "code",
   "execution_count": null,
   "metadata": {},
   "outputs": [],
   "source": []
  }
 ],
 "metadata": {
  "kernelspec": {
   "display_name": "R",
   "language": "R",
   "name": "ir"
  },
  "language_info": {
   "codemirror_mode": "r",
   "file_extension": ".r",
   "mimetype": "text/x-r-source",
   "name": "R",
   "pygments_lexer": "r",
   "version": "3.4.4"
  }
 },
 "nbformat": 4,
 "nbformat_minor": 2
}
